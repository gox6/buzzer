{
  "nbformat": 4,
  "nbformat_minor": 0,
  "metadata": {
    "colab": {
      "provenance": [],
      "toc_visible": true,
      "authorship_tag": "ABX9TyMIYdmiSOET6qL6G7xwY9NB",
      "include_colab_link": true
    },
    "kernelspec": {
      "name": "python3",
      "display_name": "Python 3"
    },
    "language_info": {
      "name": "python"
    }
  },
  "cells": [
    {
      "cell_type": "markdown",
      "metadata": {
        "id": "view-in-github",
        "colab_type": "text"
      },
      "source": [
        "<a href=\"https://colab.research.google.com/github/gox6/buzzer/blob/main/buzzer_hw.ipynb\" target=\"_parent\"><img src=\"https://colab.research.google.com/assets/colab-badge.svg\" alt=\"Open In Colab\"/></a>"
      ]
    },
    {
      "cell_type": "markdown",
      "source": [
        "# Data cleanup"
      ],
      "metadata": {
        "id": "OETu99g2PC0L"
      }
    },
    {
      "cell_type": "code",
      "source": [
        "!pip install optuna"
      ],
      "metadata": {
        "id": "9XkTzY8munJU"
      },
      "execution_count": null,
      "outputs": []
    },
    {
      "cell_type": "code",
      "source": [
        "import pandas as pd\n",
        "import polars as pl"
      ],
      "metadata": {
        "id": "PJvAImoNPMgu"
      },
      "execution_count": 4,
      "outputs": []
    },
    {
      "cell_type": "code",
      "source": [
        "# Getting data from Google Drive file\n",
        "url='https://drive.google.com/uc?id=1FrSdVAw_nmouSCE7VZ54-_HfM_C9DIC6'\n",
        "df_orig = pl.read_csv(url)"
      ],
      "metadata": {
        "id": "t4zDdPU7NDc8"
      },
      "execution_count": 5,
      "outputs": []
    },
    {
      "cell_type": "code",
      "source": [
        "# Renaming columns using snake_case\n",
        "df = df_orig[:]\n",
        "to_snake_case = lambda x: '_'.join(x.lower().split(' '))\n",
        "df.columns = list(map(to_snake_case, df_orig.columns))"
      ],
      "metadata": {
        "id": "M5g1jibjQbEm"
      },
      "execution_count": 6,
      "outputs": []
    },
    {
      "cell_type": "code",
      "source": [
        "df.head(5)"
      ],
      "metadata": {
        "colab": {
          "base_uri": "https://localhost:8080/",
          "height": 362
        },
        "id": "vWOBBSofVbnV",
        "outputId": "ea1a74d3-f793-4429-f6aa-6e686dbe7339"
      },
      "execution_count": 7,
      "outputs": [
        {
          "output_type": "execute_result",
          "data": {
            "text/plain": [
              "shape: (5, 36)\n",
              "┌───────────┬───────────┬───────────┬────────────┬───┬────────────┬────────────┬────────────┬────────────┐\n",
              "│ lead_numb ┆ lead_orig ┆ lead_sour ┆ do_not_ema ┆ … ┆ asymmetriq ┆ i_agree_to ┆ a_free_cop ┆ last_notab │\n",
              "│ er        ┆ in        ┆ ce        ┆ il         ┆   ┆ ue_profile ┆ _pay_the_a ┆ y_of_maste ┆ le_activit │\n",
              "│ ---       ┆ ---       ┆ ---       ┆ ---        ┆   ┆ _score     ┆ mount_thro ┆ ring_the_i ┆ y          │\n",
              "│ i64       ┆ str       ┆ str       ┆ str        ┆   ┆ ---        ┆ ug…        ┆ nt…        ┆ ---        │\n",
              "│           ┆           ┆           ┆            ┆   ┆ f64        ┆ ---        ┆ ---        ┆ str        │\n",
              "│           ┆           ┆           ┆            ┆   ┆            ┆ str        ┆ str        ┆            │\n",
              "╞═══════════╪═══════════╪═══════════╪════════════╪═══╪════════════╪════════════╪════════════╪════════════╡\n",
              "│ 660737    ┆ API       ┆ Olark     ┆ No         ┆ … ┆ 15.0       ┆ No         ┆ No         ┆ Modified   │\n",
              "│           ┆           ┆ Chat      ┆            ┆   ┆            ┆            ┆            ┆            │\n",
              "│ 660728    ┆ API       ┆ Organic   ┆ No         ┆ … ┆ 15.0       ┆ No         ┆ No         ┆ Email      │\n",
              "│           ┆           ┆ Search    ┆            ┆   ┆            ┆            ┆            ┆ Opened     │\n",
              "│ 660727    ┆ Landing   ┆ Direct    ┆ No         ┆ … ┆ 20.0       ┆ No         ┆ Yes        ┆ Email      │\n",
              "│           ┆ Page Subm ┆ Traffic   ┆            ┆   ┆            ┆            ┆            ┆ Opened     │\n",
              "│           ┆ ission    ┆           ┆            ┆   ┆            ┆            ┆            ┆            │\n",
              "│ 660719    ┆ Landing   ┆ Direct    ┆ No         ┆ … ┆ 17.0       ┆ No         ┆ No         ┆ Modified   │\n",
              "│           ┆ Page Subm ┆ Traffic   ┆            ┆   ┆            ┆            ┆            ┆            │\n",
              "│           ┆ ission    ┆           ┆            ┆   ┆            ┆            ┆            ┆            │\n",
              "│ 660681    ┆ Landing   ┆ Google    ┆ No         ┆ … ┆ 18.0       ┆ No         ┆ No         ┆ Modified   │\n",
              "│           ┆ Page Subm ┆           ┆            ┆   ┆            ┆            ┆            ┆            │\n",
              "│           ┆ ission    ┆           ┆            ┆   ┆            ┆            ┆            ┆            │\n",
              "└───────────┴───────────┴───────────┴────────────┴───┴────────────┴────────────┴────────────┴────────────┘"
            ],
            "text/html": [
              "<div><style>\n",
              ".dataframe > thead > tr > th,\n",
              ".dataframe > tbody > tr > td {\n",
              "  text-align: right;\n",
              "}\n",
              "</style>\n",
              "<small>shape: (5, 36)</small><table border=\"1\" class=\"dataframe\"><thead><tr><th>lead_number</th><th>lead_origin</th><th>lead_source</th><th>do_not_email</th><th>do_not_call</th><th>converted</th><th>totalvisits</th><th>total_time_spent_on_website</th><th>page_views_per_visit</th><th>last_activity</th><th>country</th><th>specialization</th><th>how_did_you_hear_about_x_education</th><th>what_is_your_current_occupation</th><th>what_matters_most_to_you_in_choosing_a_course</th><th>search</th><th>magazine</th><th>newspaper_article</th><th>x_education_forums</th><th>newspaper</th><th>digital_advertisement</th><th>through_recommendations</th><th>receive_more_updates_about_our_courses</th><th>tags</th><th>lead_quality</th><th>update_me_on_supply_chain_content</th><th>get_updates_on_dm_content</th><th>lead_profile</th><th>city</th><th>asymmetrique_activity_index</th><th>asymmetrique_profile_index</th><th>asymmetrique_activity_score</th><th>asymmetrique_profile_score</th><th>i_agree_to_pay_the_amount_through_cheque</th><th>a_free_copy_of_mastering_the_interview</th><th>last_notable_activity</th></tr><tr><td>i64</td><td>str</td><td>str</td><td>str</td><td>str</td><td>i64</td><td>f64</td><td>i64</td><td>f64</td><td>str</td><td>str</td><td>str</td><td>str</td><td>str</td><td>str</td><td>str</td><td>str</td><td>str</td><td>str</td><td>str</td><td>str</td><td>str</td><td>str</td><td>str</td><td>str</td><td>str</td><td>str</td><td>str</td><td>str</td><td>str</td><td>str</td><td>f64</td><td>f64</td><td>str</td><td>str</td><td>str</td></tr></thead><tbody><tr><td>660737</td><td>&quot;API&quot;</td><td>&quot;Olark Chat&quot;</td><td>&quot;No&quot;</td><td>&quot;No&quot;</td><td>0</td><td>0.0</td><td>0</td><td>0.0</td><td>&quot;Page Visited o…</td><td>&quot;India&quot;</td><td>&quot;Others&quot;</td><td>null</td><td>&quot;Unemployed&quot;</td><td>&quot;Better Career …</td><td>&quot;No&quot;</td><td>&quot;No&quot;</td><td>&quot;No&quot;</td><td>&quot;No&quot;</td><td>&quot;No&quot;</td><td>&quot;No&quot;</td><td>&quot;No&quot;</td><td>&quot;No&quot;</td><td>&quot;Interested in …</td><td>&quot;Low in Relevan…</td><td>&quot;No&quot;</td><td>&quot;No&quot;</td><td>null</td><td>null</td><td>&quot;02.Medium&quot;</td><td>&quot;02.Medium&quot;</td><td>15.0</td><td>15.0</td><td>&quot;No&quot;</td><td>&quot;No&quot;</td><td>&quot;Modified&quot;</td></tr><tr><td>660728</td><td>&quot;API&quot;</td><td>&quot;Organic Search…</td><td>&quot;No&quot;</td><td>&quot;No&quot;</td><td>0</td><td>5.0</td><td>674</td><td>2.5</td><td>&quot;Email Opened&quot;</td><td>&quot;India&quot;</td><td>&quot;Others&quot;</td><td>null</td><td>&quot;Unemployed&quot;</td><td>&quot;Better Career …</td><td>&quot;No&quot;</td><td>&quot;No&quot;</td><td>&quot;No&quot;</td><td>&quot;No&quot;</td><td>&quot;No&quot;</td><td>&quot;No&quot;</td><td>&quot;No&quot;</td><td>&quot;No&quot;</td><td>&quot;Ringing&quot;</td><td>&quot;Not Sure&quot;</td><td>&quot;No&quot;</td><td>&quot;No&quot;</td><td>null</td><td>null</td><td>&quot;02.Medium&quot;</td><td>&quot;02.Medium&quot;</td><td>15.0</td><td>15.0</td><td>&quot;No&quot;</td><td>&quot;No&quot;</td><td>&quot;Email Opened&quot;</td></tr><tr><td>660727</td><td>&quot;Landing Page S…</td><td>&quot;Direct Traffic…</td><td>&quot;No&quot;</td><td>&quot;No&quot;</td><td>1</td><td>2.0</td><td>1532</td><td>2.0</td><td>&quot;Email Opened&quot;</td><td>&quot;India&quot;</td><td>&quot;Business Admin…</td><td>null</td><td>&quot;Student&quot;</td><td>&quot;Better Career …</td><td>&quot;No&quot;</td><td>&quot;No&quot;</td><td>&quot;No&quot;</td><td>&quot;No&quot;</td><td>&quot;No&quot;</td><td>&quot;No&quot;</td><td>&quot;No&quot;</td><td>&quot;No&quot;</td><td>&quot;Will revert af…</td><td>&quot;Might be&quot;</td><td>&quot;No&quot;</td><td>&quot;No&quot;</td><td>&quot;Potential Lead…</td><td>&quot;Mumbai&quot;</td><td>&quot;02.Medium&quot;</td><td>&quot;01.High&quot;</td><td>14.0</td><td>20.0</td><td>&quot;No&quot;</td><td>&quot;Yes&quot;</td><td>&quot;Email Opened&quot;</td></tr><tr><td>660719</td><td>&quot;Landing Page S…</td><td>&quot;Direct Traffic…</td><td>&quot;No&quot;</td><td>&quot;No&quot;</td><td>0</td><td>1.0</td><td>305</td><td>1.0</td><td>&quot;Unreachable&quot;</td><td>&quot;India&quot;</td><td>&quot;Media and Adve…</td><td>&quot;Word Of Mouth&quot;</td><td>&quot;Unemployed&quot;</td><td>&quot;Better Career …</td><td>&quot;No&quot;</td><td>&quot;No&quot;</td><td>&quot;No&quot;</td><td>&quot;No&quot;</td><td>&quot;No&quot;</td><td>&quot;No&quot;</td><td>&quot;No&quot;</td><td>&quot;No&quot;</td><td>&quot;Ringing&quot;</td><td>&quot;Not Sure&quot;</td><td>&quot;No&quot;</td><td>&quot;No&quot;</td><td>null</td><td>&quot;Mumbai&quot;</td><td>&quot;02.Medium&quot;</td><td>&quot;01.High&quot;</td><td>13.0</td><td>17.0</td><td>&quot;No&quot;</td><td>&quot;No&quot;</td><td>&quot;Modified&quot;</td></tr><tr><td>660681</td><td>&quot;Landing Page S…</td><td>&quot;Google&quot;</td><td>&quot;No&quot;</td><td>&quot;No&quot;</td><td>1</td><td>2.0</td><td>1428</td><td>1.0</td><td>&quot;Converted to L…</td><td>&quot;India&quot;</td><td>&quot;Others&quot;</td><td>&quot;Other&quot;</td><td>&quot;Unemployed&quot;</td><td>&quot;Better Career …</td><td>&quot;No&quot;</td><td>&quot;No&quot;</td><td>&quot;No&quot;</td><td>&quot;No&quot;</td><td>&quot;No&quot;</td><td>&quot;No&quot;</td><td>&quot;No&quot;</td><td>&quot;No&quot;</td><td>&quot;Will revert af…</td><td>&quot;Might be&quot;</td><td>&quot;No&quot;</td><td>&quot;No&quot;</td><td>null</td><td>&quot;Mumbai&quot;</td><td>&quot;02.Medium&quot;</td><td>&quot;01.High&quot;</td><td>15.0</td><td>18.0</td><td>&quot;No&quot;</td><td>&quot;No&quot;</td><td>&quot;Modified&quot;</td></tr></tbody></table></div>"
            ]
          },
          "metadata": {},
          "execution_count": 7
        }
      ]
    },
    {
      "cell_type": "code",
      "source": [
        "df.describe()"
      ],
      "metadata": {
        "colab": {
          "base_uri": "https://localhost:8080/",
          "height": 452
        },
        "id": "ifCsXYWDT_fo",
        "outputId": "c6cc6dc6-adee-4cde-a1b3-e9804e480258"
      },
      "execution_count": 8,
      "outputs": [
        {
          "output_type": "execute_result",
          "data": {
            "text/plain": [
              "shape: (9, 37)\n",
              "┌──────┬───────────┬───────────┬───────────┬───┬────────────┬────────────┬────────────┬────────────┐\n",
              "│ desc ┆ lead_numb ┆ lead_orig ┆ lead_sour ┆ … ┆ asymmetriq ┆ i_agree_to ┆ a_free_cop ┆ last_notab │\n",
              "│ ribe ┆ er        ┆ in        ┆ ce        ┆   ┆ ue_profile ┆ _pay_the_a ┆ y_of_maste ┆ le_activit │\n",
              "│ ---  ┆ ---       ┆ ---       ┆ ---       ┆   ┆ _score     ┆ mount_thro ┆ ring_the_i ┆ y          │\n",
              "│ str  ┆ f64       ┆ str       ┆ str       ┆   ┆ ---        ┆ ug…        ┆ nt…        ┆ ---        │\n",
              "│      ┆           ┆           ┆           ┆   ┆ f64        ┆ ---        ┆ ---        ┆ str        │\n",
              "│      ┆           ┆           ┆           ┆   ┆            ┆ str        ┆ str        ┆            │\n",
              "╞══════╪═══════════╪═══════════╪═══════════╪═══╪════════════╪════════════╪════════════╪════════════╡\n",
              "│ coun ┆ 9240.0    ┆ 9240      ┆ 9240      ┆ … ┆ 9240.0     ┆ 9240       ┆ 9240       ┆ 9240       │\n",
              "│ t    ┆           ┆           ┆           ┆   ┆            ┆            ┆            ┆            │\n",
              "│ null ┆ 0.0       ┆ 0         ┆ 36        ┆ … ┆ 4218.0     ┆ 0          ┆ 0          ┆ 0          │\n",
              "│ _cou ┆           ┆           ┆           ┆   ┆            ┆            ┆            ┆            │\n",
              "│ nt   ┆           ┆           ┆           ┆   ┆            ┆            ┆            ┆            │\n",
              "│ mean ┆ 617188.43 ┆ null      ┆ null      ┆ … ┆ 16.344883  ┆ null       ┆ null       ┆ null       │\n",
              "│      ┆ 5606      ┆           ┆           ┆   ┆            ┆            ┆            ┆            │\n",
              "│ std  ┆ 23405.995 ┆ null      ┆ null      ┆ … ┆ 1.811395   ┆ null       ┆ null       ┆ null       │\n",
              "│      ┆ 698       ┆           ┆           ┆   ┆            ┆            ┆            ┆            │\n",
              "│ min  ┆ 579533.0  ┆ API       ┆ Click2cal ┆ … ┆ 11.0       ┆ No         ┆ No         ┆ Approached │\n",
              "│      ┆           ┆           ┆ l         ┆   ┆            ┆            ┆            ┆ upfront    │\n",
              "│ max  ┆ 660737.0  ┆ Quick Add ┆ youtubech ┆ … ┆ 20.0       ┆ No         ┆ Yes        ┆ View in    │\n",
              "│      ┆           ┆ Form      ┆ annel     ┆   ┆            ┆            ┆            ┆ browser    │\n",
              "│      ┆           ┆           ┆           ┆   ┆            ┆            ┆            ┆ link       │\n",
              "│      ┆           ┆           ┆           ┆   ┆            ┆            ┆            ┆ Clicked    │\n",
              "│ medi ┆ 615479.0  ┆ null      ┆ null      ┆ … ┆ 16.0       ┆ null       ┆ null       ┆ null       │\n",
              "│ an   ┆           ┆           ┆           ┆   ┆            ┆            ┆            ┆            │\n",
              "│ 25%  ┆ 596485.0  ┆ null      ┆ null      ┆ … ┆ 15.0       ┆ null       ┆ null       ┆ null       │\n",
              "│ 75%  ┆ 637388.0  ┆ null      ┆ null      ┆ … ┆ 18.0       ┆ null       ┆ null       ┆ null       │\n",
              "└──────┴───────────┴───────────┴───────────┴───┴────────────┴────────────┴────────────┴────────────┘"
            ],
            "text/html": [
              "<div><style>\n",
              ".dataframe > thead > tr > th,\n",
              ".dataframe > tbody > tr > td {\n",
              "  text-align: right;\n",
              "}\n",
              "</style>\n",
              "<small>shape: (9, 37)</small><table border=\"1\" class=\"dataframe\"><thead><tr><th>describe</th><th>lead_number</th><th>lead_origin</th><th>lead_source</th><th>do_not_email</th><th>do_not_call</th><th>converted</th><th>totalvisits</th><th>total_time_spent_on_website</th><th>page_views_per_visit</th><th>last_activity</th><th>country</th><th>specialization</th><th>how_did_you_hear_about_x_education</th><th>what_is_your_current_occupation</th><th>what_matters_most_to_you_in_choosing_a_course</th><th>search</th><th>magazine</th><th>newspaper_article</th><th>x_education_forums</th><th>newspaper</th><th>digital_advertisement</th><th>through_recommendations</th><th>receive_more_updates_about_our_courses</th><th>tags</th><th>lead_quality</th><th>update_me_on_supply_chain_content</th><th>get_updates_on_dm_content</th><th>lead_profile</th><th>city</th><th>asymmetrique_activity_index</th><th>asymmetrique_profile_index</th><th>asymmetrique_activity_score</th><th>asymmetrique_profile_score</th><th>i_agree_to_pay_the_amount_through_cheque</th><th>a_free_copy_of_mastering_the_interview</th><th>last_notable_activity</th></tr><tr><td>str</td><td>f64</td><td>str</td><td>str</td><td>str</td><td>str</td><td>f64</td><td>f64</td><td>f64</td><td>f64</td><td>str</td><td>str</td><td>str</td><td>str</td><td>str</td><td>str</td><td>str</td><td>str</td><td>str</td><td>str</td><td>str</td><td>str</td><td>str</td><td>str</td><td>str</td><td>str</td><td>str</td><td>str</td><td>str</td><td>str</td><td>str</td><td>str</td><td>f64</td><td>f64</td><td>str</td><td>str</td><td>str</td></tr></thead><tbody><tr><td>&quot;count&quot;</td><td>9240.0</td><td>&quot;9240&quot;</td><td>&quot;9240&quot;</td><td>&quot;9240&quot;</td><td>&quot;9240&quot;</td><td>9240.0</td><td>9240.0</td><td>9240.0</td><td>9240.0</td><td>&quot;9240&quot;</td><td>&quot;9240&quot;</td><td>&quot;9240&quot;</td><td>&quot;9240&quot;</td><td>&quot;9240&quot;</td><td>&quot;9240&quot;</td><td>&quot;9240&quot;</td><td>&quot;9240&quot;</td><td>&quot;9240&quot;</td><td>&quot;9240&quot;</td><td>&quot;9240&quot;</td><td>&quot;9240&quot;</td><td>&quot;9240&quot;</td><td>&quot;9240&quot;</td><td>&quot;9240&quot;</td><td>&quot;9240&quot;</td><td>&quot;9240&quot;</td><td>&quot;9240&quot;</td><td>&quot;9240&quot;</td><td>&quot;9240&quot;</td><td>&quot;9240&quot;</td><td>&quot;9240&quot;</td><td>9240.0</td><td>9240.0</td><td>&quot;9240&quot;</td><td>&quot;9240&quot;</td><td>&quot;9240&quot;</td></tr><tr><td>&quot;null_count&quot;</td><td>0.0</td><td>&quot;0&quot;</td><td>&quot;36&quot;</td><td>&quot;0&quot;</td><td>&quot;0&quot;</td><td>0.0</td><td>137.0</td><td>0.0</td><td>137.0</td><td>&quot;103&quot;</td><td>&quot;0&quot;</td><td>&quot;0&quot;</td><td>&quot;7250&quot;</td><td>&quot;0&quot;</td><td>&quot;2709&quot;</td><td>&quot;0&quot;</td><td>&quot;0&quot;</td><td>&quot;0&quot;</td><td>&quot;0&quot;</td><td>&quot;0&quot;</td><td>&quot;0&quot;</td><td>&quot;0&quot;</td><td>&quot;0&quot;</td><td>&quot;0&quot;</td><td>&quot;0&quot;</td><td>&quot;0&quot;</td><td>&quot;0&quot;</td><td>&quot;6855&quot;</td><td>&quot;3669&quot;</td><td>&quot;4218&quot;</td><td>&quot;4218&quot;</td><td>4218.0</td><td>4218.0</td><td>&quot;0&quot;</td><td>&quot;0&quot;</td><td>&quot;0&quot;</td></tr><tr><td>&quot;mean&quot;</td><td>617188.435606</td><td>null</td><td>null</td><td>null</td><td>null</td><td>0.38539</td><td>3.445238</td><td>487.698268</td><td>2.36282</td><td>null</td><td>null</td><td>null</td><td>null</td><td>null</td><td>null</td><td>null</td><td>null</td><td>null</td><td>null</td><td>null</td><td>null</td><td>null</td><td>null</td><td>null</td><td>null</td><td>null</td><td>null</td><td>null</td><td>null</td><td>null</td><td>null</td><td>14.306252</td><td>16.344883</td><td>null</td><td>null</td><td>null</td></tr><tr><td>&quot;std&quot;</td><td>23405.995698</td><td>null</td><td>null</td><td>null</td><td>null</td><td>0.486714</td><td>4.854853</td><td>548.021466</td><td>2.161418</td><td>null</td><td>null</td><td>null</td><td>null</td><td>null</td><td>null</td><td>null</td><td>null</td><td>null</td><td>null</td><td>null</td><td>null</td><td>null</td><td>null</td><td>null</td><td>null</td><td>null</td><td>null</td><td>null</td><td>null</td><td>null</td><td>null</td><td>1.386694</td><td>1.811395</td><td>null</td><td>null</td><td>null</td></tr><tr><td>&quot;min&quot;</td><td>579533.0</td><td>&quot;API&quot;</td><td>&quot;Click2call&quot;</td><td>&quot;No&quot;</td><td>&quot;No&quot;</td><td>0.0</td><td>0.0</td><td>0.0</td><td>0.0</td><td>&quot;Approached upf…</td><td>&quot;Asia/Pacific R…</td><td>&quot;Banking, Inves…</td><td>&quot;Advertisements…</td><td>&quot;Businessman&quot;</td><td>&quot;Better Career …</td><td>&quot;No&quot;</td><td>&quot;No&quot;</td><td>&quot;No&quot;</td><td>&quot;No&quot;</td><td>&quot;No&quot;</td><td>&quot;No&quot;</td><td>&quot;No&quot;</td><td>&quot;No&quot;</td><td>&quot;Already a stud…</td><td>&quot;High in Releva…</td><td>&quot;No&quot;</td><td>&quot;No&quot;</td><td>&quot;Dual Specializ…</td><td>&quot;Mumbai&quot;</td><td>&quot;01.High&quot;</td><td>&quot;01.High&quot;</td><td>7.0</td><td>11.0</td><td>&quot;No&quot;</td><td>&quot;No&quot;</td><td>&quot;Approached upf…</td></tr><tr><td>&quot;max&quot;</td><td>660737.0</td><td>&quot;Quick Add Form…</td><td>&quot;youtubechannel…</td><td>&quot;Yes&quot;</td><td>&quot;Yes&quot;</td><td>1.0</td><td>251.0</td><td>2272.0</td><td>55.0</td><td>&quot;Visited Booth …</td><td>&quot;unknown&quot;</td><td>&quot;Travel and Tou…</td><td>&quot;Word Of Mouth&quot;</td><td>&quot;Working Profes…</td><td>&quot;Other&quot;</td><td>&quot;Yes&quot;</td><td>&quot;No&quot;</td><td>&quot;Yes&quot;</td><td>&quot;Yes&quot;</td><td>&quot;Yes&quot;</td><td>&quot;Yes&quot;</td><td>&quot;Yes&quot;</td><td>&quot;No&quot;</td><td>&quot;wrong number g…</td><td>&quot;Worst&quot;</td><td>&quot;No&quot;</td><td>&quot;No&quot;</td><td>&quot;Student of Som…</td><td>&quot;Tier II Cities…</td><td>&quot;03.Low&quot;</td><td>&quot;03.Low&quot;</td><td>18.0</td><td>20.0</td><td>&quot;No&quot;</td><td>&quot;Yes&quot;</td><td>&quot;View in browse…</td></tr><tr><td>&quot;median&quot;</td><td>615479.0</td><td>null</td><td>null</td><td>null</td><td>null</td><td>0.0</td><td>3.0</td><td>248.0</td><td>2.0</td><td>null</td><td>null</td><td>null</td><td>null</td><td>null</td><td>null</td><td>null</td><td>null</td><td>null</td><td>null</td><td>null</td><td>null</td><td>null</td><td>null</td><td>null</td><td>null</td><td>null</td><td>null</td><td>null</td><td>null</td><td>null</td><td>null</td><td>14.0</td><td>16.0</td><td>null</td><td>null</td><td>null</td></tr><tr><td>&quot;25%&quot;</td><td>596485.0</td><td>null</td><td>null</td><td>null</td><td>null</td><td>0.0</td><td>1.0</td><td>12.0</td><td>1.0</td><td>null</td><td>null</td><td>null</td><td>null</td><td>null</td><td>null</td><td>null</td><td>null</td><td>null</td><td>null</td><td>null</td><td>null</td><td>null</td><td>null</td><td>null</td><td>null</td><td>null</td><td>null</td><td>null</td><td>null</td><td>null</td><td>null</td><td>14.0</td><td>15.0</td><td>null</td><td>null</td><td>null</td></tr><tr><td>&quot;75%&quot;</td><td>637388.0</td><td>null</td><td>null</td><td>null</td><td>null</td><td>1.0</td><td>5.0</td><td>936.0</td><td>3.0</td><td>null</td><td>null</td><td>null</td><td>null</td><td>null</td><td>null</td><td>null</td><td>null</td><td>null</td><td>null</td><td>null</td><td>null</td><td>null</td><td>null</td><td>null</td><td>null</td><td>null</td><td>null</td><td>null</td><td>null</td><td>null</td><td>null</td><td>15.0</td><td>18.0</td><td>null</td><td>null</td><td>null</td></tr></tbody></table></div>"
            ]
          },
          "metadata": {},
          "execution_count": 8
        }
      ]
    },
    {
      "cell_type": "code",
      "source": [
        "# Types of variables\n",
        "\n",
        "for column, type_ in zip(df.columns, df.dtypes):\n",
        "  print(f\"{column:<50}{type_}\")"
      ],
      "metadata": {
        "colab": {
          "base_uri": "https://localhost:8080/"
        },
        "id": "6i95jh8RRk4v",
        "outputId": "5df46dc4-ec9c-4b60-d589-4c24e468bbcc"
      },
      "execution_count": 9,
      "outputs": [
        {
          "output_type": "stream",
          "name": "stdout",
          "text": [
            "lead_number                                       Int64\n",
            "lead_origin                                       Utf8\n",
            "lead_source                                       Utf8\n",
            "do_not_email                                      Utf8\n",
            "do_not_call                                       Utf8\n",
            "converted                                         Int64\n",
            "totalvisits                                       Float64\n",
            "total_time_spent_on_website                       Int64\n",
            "page_views_per_visit                              Float64\n",
            "last_activity                                     Utf8\n",
            "country                                           Utf8\n",
            "specialization                                    Utf8\n",
            "how_did_you_hear_about_x_education                Utf8\n",
            "what_is_your_current_occupation                   Utf8\n",
            "what_matters_most_to_you_in_choosing_a_course     Utf8\n",
            "search                                            Utf8\n",
            "magazine                                          Utf8\n",
            "newspaper_article                                 Utf8\n",
            "x_education_forums                                Utf8\n",
            "newspaper                                         Utf8\n",
            "digital_advertisement                             Utf8\n",
            "through_recommendations                           Utf8\n",
            "receive_more_updates_about_our_courses            Utf8\n",
            "tags                                              Utf8\n",
            "lead_quality                                      Utf8\n",
            "update_me_on_supply_chain_content                 Utf8\n",
            "get_updates_on_dm_content                         Utf8\n",
            "lead_profile                                      Utf8\n",
            "city                                              Utf8\n",
            "asymmetrique_activity_index                       Utf8\n",
            "asymmetrique_profile_index                        Utf8\n",
            "asymmetrique_activity_score                       Float64\n",
            "asymmetrique_profile_score                        Float64\n",
            "i_agree_to_pay_the_amount_through_cheque          Utf8\n",
            "a_free_copy_of_mastering_the_interview            Utf8\n",
            "last_notable_activity                             Utf8\n"
          ]
        }
      ]
    },
    {
      "cell_type": "code",
      "source": [
        "# Assigning roles to variables\n",
        "\n",
        "df = df.with_columns(pl.col('total_time_spent_on_website').cast(pl.Float64))\n",
        "\n",
        "cat_vars = df.select([pl.col(pl.Utf8)]).columns\n",
        "num_vars = df.select([pl.col(pl.Float64)]).columns\n",
        "skip_vars = ['lead_number']\n",
        "target = 'converted'\n",
        "\n",
        "# Check that all variables were assigned the role\n",
        "assert len(df.columns) == len(cat_vars + num_vars + skip_vars + [target])\n"
      ],
      "metadata": {
        "id": "jSyKfz08Rcaw"
      },
      "execution_count": 10,
      "outputs": []
    },
    {
      "cell_type": "code",
      "source": [
        "from sklearn.model_selection import train_test_split\n",
        "\n",
        "X = df.select(cat_vars + num_vars)\n",
        "y = df.select(pl.col(target)).to_numpy().reshape(-1)\n",
        "\n",
        "X_train, X_test, y_train, y_test = train_test_split(X, y, test_size=0.2, random_state=0, shuffle=True)"
      ],
      "metadata": {
        "id": "Ugv2HRa7UWnA"
      },
      "execution_count": 11,
      "outputs": []
    },
    {
      "cell_type": "code",
      "source": [
        "from sklearn.preprocessing import OrdinalEncoder, StandardScaler\n",
        "from functools import reduce\n",
        "import numpy as np\n",
        "\n",
        "cat_enc = OrdinalEncoder()\n",
        "cat_enc.fit(X.select(cat_vars))\n",
        "\n",
        "std_scaler =  StandardScaler()\n",
        "std_scaler.fit(X_train.select(num_vars))\n",
        "\n",
        "def preprocess(X, encoders):\n",
        "    X_partial_encodings = map(lambda enc: enc.transform(X.select(enc.feature_names_in_)), encoders)\n",
        "    return reduce(lambda x, y: np.concatenate([x, y], axis=1), X_partial_encodings)\n",
        "\n",
        "X_train_pp = preprocess(X_train, encoders=[cat_enc, std_scaler])\n",
        "X_test_pp = preprocess(X_test, encoders=[cat_enc, std_scaler])"
      ],
      "metadata": {
        "id": "WCvXL_1uPw5Z"
      },
      "execution_count": 17,
      "outputs": []
    },
    {
      "cell_type": "code",
      "source": [
        "import lightgbm as lgb \n",
        "\n",
        "params = {'objective': 'binary', 'n_estimators': 5000}\n",
        "\n",
        "def train_lgb(X_train, y_train,\n",
        "              X_test, y_test,\n",
        "              X_val=None, y_val=None,\n",
        "              params = {'objective': 'binary', 'n_estimators': 5000},\n",
        "              ):\n",
        "  \n",
        "    std_scaler =  StandardScaler()\n",
        "    std_scaler.fit(X_train.select(num_vars))\n",
        "\n",
        "    X_train_pp = preprocess(X_train, encoders=[cat_enc, std_scaler])\n",
        "    if X_val is not None:\n",
        "        X_val_pp = preprocess(X_val, encoders=[cat_enc, std_scaler])\n",
        "    X_test_pp = preprocess(X_test, encoders=[cat_enc, std_scaler])\n",
        "    \n",
        "    clf = lgb.sklearn.LGBMClassifier(**params)\n",
        "\n",
        "    early_stopping_patience = 100 if X_val is not None else 5000\n",
        "    callbacks = [lgb.early_stopping(early_stopping_patience, verbose=False), lgb.log_evaluation(period=0)]\n",
        "    eval_set = [(X_val_pp, y_val)] #if X_val is not None else [(X_train_pp, y_train)]\n",
        "\n",
        "    clf.fit(X_train_pp, y_train,\n",
        "            eval_set =  eval_set,\n",
        "            eval_names = 'val' if X_val is not None else 'train',\n",
        "            callbacks=callbacks,\n",
        "            feature_name = cat_vars + num_vars,\n",
        "            #categorical_feature=list(range(len(cat_vars))),\n",
        "            )\n",
        "\n",
        "    return clf.score(X_test_pp, y_test)"
      ],
      "metadata": {
        "id": "wJP91bvsJZeK"
      },
      "execution_count": 149,
      "outputs": []
    },
    {
      "cell_type": "code",
      "source": [
        "from sklearn.model_selection import KFold\n",
        "from statistics import mean\n",
        "\n",
        "def cross_validate(X_train, y_train, n_folds=5, params={'objective': 'binary', 'n_estimators': 5000}):\n",
        "\n",
        "    kf5 = KFold(n_splits=n_folds, shuffle=True, random_state=0)\n",
        "\n",
        "    metrics = []\n",
        "\n",
        "    for train_train_indices, train_val_test_indices in kf5.split(X_train):\n",
        "\n",
        "        X_train_train = X_train[train_train_indices]\n",
        "        y_train_train = y_train[train_train_indices]\n",
        "\n",
        "        X_train_val_test = X_train[train_val_test_indices]\n",
        "        y_train_val_test = y_train[train_val_test_indices]\n",
        "        \n",
        "        X_train_val, X_train_test, y_train_val, y_train_test = train_test_split(X_train_val_test, y_train_val_test, test_size=0.5, random_state=0)\n",
        "\n",
        "        metric = train_lgb(X_train_train, y_train_train,\n",
        "                           X_train_test, y_train_test,\n",
        "                           X_val=X_train_val, y_val=y_train_val,\n",
        "                           params = params)\n",
        "        \n",
        "        metrics.append(metric)\n",
        "\n",
        "    return mean(metrics)\n",
        "        \n",
        "  "
      ],
      "metadata": {
        "id": "UUFSvObBW8d7"
      },
      "execution_count": 136,
      "outputs": []
    },
    {
      "cell_type": "code",
      "source": [
        "def objective(trial):\n",
        "    # Define hyperparameters\n",
        "    params = {\n",
        "        'objective': 'binary',\n",
        "        'learning_rate': trial.suggest_float('learning_rate', 1e-5, 1e-2),\n",
        "        'num_leaves': trial.suggest_int('num_leaves', 2, 128),\n",
        "        'scale_pos_weight': trial.suggest_int('scale_pos_weight', 1, 10),\n",
        "        'n_estimators': 5000,\n",
        "    }\n",
        "    \n",
        "    # Train model\n",
        "    metric = cross_validate(X_train, y_train, n_folds=5, params=params)\n",
        "    \n",
        "    # Return cross-validated accuracy\n",
        "    return metric\n",
        "\n",
        "import optuna\n",
        "study = optuna.create_study(direction='maximize', study_name=\"Hyperparameters tuning\")\n",
        "study.optimize(objective, n_trials=10)"
      ],
      "metadata": {
        "id": "tU4a9SJRrk_i",
        "outputId": "3f16c6d7-8757-46f4-9b9b-f04bf2aa1a25",
        "colab": {
          "base_uri": "https://localhost:8080/",
          "height": 748
        }
      },
      "execution_count": 150,
      "outputs": [
        {
          "output_type": "stream",
          "name": "stderr",
          "text": [
            "\u001b[32m[I 2023-05-08 01:35:49,799]\u001b[0m A new study created in memory with name: Hyperparameters tuning\u001b[0m\n",
            "\u001b[32m[I 2023-05-08 01:36:13,612]\u001b[0m Trial 0 finished with value: 0.9210148849797023 and parameters: {'learning_rate': 0.004025563833374624, 'num_leaves': 6, 'scale_pos_weight': 5}. Best is trial 0 with value: 0.9210148849797023.\u001b[0m\n",
            "\u001b[33m[W 2023-05-08 01:36:58,866]\u001b[0m Trial 1 failed with parameters: {'learning_rate': 0.000880372841871243, 'num_leaves': 22, 'scale_pos_weight': 5} because of the following error: KeyboardInterrupt().\u001b[0m\n",
            "Traceback (most recent call last):\n",
            "  File \"/usr/local/lib/python3.10/dist-packages/optuna/study/_optimize.py\", line 200, in _run_trial\n",
            "    value_or_values = func(trial)\n",
            "  File \"<ipython-input-150-12eb9e17c126>\", line 12, in objective\n",
            "    metric = cross_validate(X_train, y_train, n_folds=5, params=params)\n",
            "  File \"<ipython-input-136-83959ba052d5>\", line 20, in cross_validate\n",
            "    metric = train_lgb(X_train_train, y_train_train,\n",
            "  File \"<ipython-input-149-edb80afedaf5>\", line 25, in train_lgb\n",
            "    clf.fit(X_train_pp, y_train,\n",
            "  File \"/usr/local/lib/python3.10/dist-packages/lightgbm/sklearn.py\", line 967, in fit\n",
            "    super().fit(X, _y, sample_weight=sample_weight, init_score=init_score, eval_set=valid_sets,\n",
            "  File \"/usr/local/lib/python3.10/dist-packages/lightgbm/sklearn.py\", line 748, in fit\n",
            "    self._Booster = train(\n",
            "  File \"/usr/local/lib/python3.10/dist-packages/lightgbm/engine.py\", line 292, in train\n",
            "    booster.update(fobj=fobj)\n",
            "  File \"/usr/local/lib/python3.10/dist-packages/lightgbm/basic.py\", line 3021, in update\n",
            "    _safe_call(_LIB.LGBM_BoosterUpdateOneIter(\n",
            "KeyboardInterrupt\n",
            "\u001b[33m[W 2023-05-08 01:36:58,870]\u001b[0m Trial 1 failed with value None.\u001b[0m\n"
          ]
        },
        {
          "output_type": "error",
          "ename": "KeyboardInterrupt",
          "evalue": "ignored",
          "traceback": [
            "\u001b[0;31m---------------------------------------------------------------------------\u001b[0m",
            "\u001b[0;31mKeyboardInterrupt\u001b[0m                         Traceback (most recent call last)",
            "\u001b[0;32m<ipython-input-150-12eb9e17c126>\u001b[0m in \u001b[0;36m<cell line: 19>\u001b[0;34m()\u001b[0m\n\u001b[1;32m     17\u001b[0m \u001b[0;32mimport\u001b[0m \u001b[0moptuna\u001b[0m\u001b[0;34m\u001b[0m\u001b[0;34m\u001b[0m\u001b[0m\n\u001b[1;32m     18\u001b[0m \u001b[0mstudy\u001b[0m \u001b[0;34m=\u001b[0m \u001b[0moptuna\u001b[0m\u001b[0;34m.\u001b[0m\u001b[0mcreate_study\u001b[0m\u001b[0;34m(\u001b[0m\u001b[0mdirection\u001b[0m\u001b[0;34m=\u001b[0m\u001b[0;34m'maximize'\u001b[0m\u001b[0;34m,\u001b[0m \u001b[0mstudy_name\u001b[0m\u001b[0;34m=\u001b[0m\u001b[0;34m\"Hyperparameters tuning\"\u001b[0m\u001b[0;34m)\u001b[0m\u001b[0;34m\u001b[0m\u001b[0;34m\u001b[0m\u001b[0m\n\u001b[0;32m---> 19\u001b[0;31m \u001b[0mstudy\u001b[0m\u001b[0;34m.\u001b[0m\u001b[0moptimize\u001b[0m\u001b[0;34m(\u001b[0m\u001b[0mobjective\u001b[0m\u001b[0;34m,\u001b[0m \u001b[0mn_trials\u001b[0m\u001b[0;34m=\u001b[0m\u001b[0;36m10\u001b[0m\u001b[0;34m)\u001b[0m\u001b[0;34m\u001b[0m\u001b[0;34m\u001b[0m\u001b[0m\n\u001b[0m",
            "\u001b[0;32m/usr/local/lib/python3.10/dist-packages/optuna/study/study.py\u001b[0m in \u001b[0;36moptimize\u001b[0;34m(self, func, n_trials, timeout, n_jobs, catch, callbacks, gc_after_trial, show_progress_bar)\u001b[0m\n\u001b[1;32m    423\u001b[0m         \"\"\"\n\u001b[1;32m    424\u001b[0m \u001b[0;34m\u001b[0m\u001b[0m\n\u001b[0;32m--> 425\u001b[0;31m         _optimize(\n\u001b[0m\u001b[1;32m    426\u001b[0m             \u001b[0mstudy\u001b[0m\u001b[0;34m=\u001b[0m\u001b[0mself\u001b[0m\u001b[0;34m,\u001b[0m\u001b[0;34m\u001b[0m\u001b[0;34m\u001b[0m\u001b[0m\n\u001b[1;32m    427\u001b[0m             \u001b[0mfunc\u001b[0m\u001b[0;34m=\u001b[0m\u001b[0mfunc\u001b[0m\u001b[0;34m,\u001b[0m\u001b[0;34m\u001b[0m\u001b[0;34m\u001b[0m\u001b[0m\n",
            "\u001b[0;32m/usr/local/lib/python3.10/dist-packages/optuna/study/_optimize.py\u001b[0m in \u001b[0;36m_optimize\u001b[0;34m(study, func, n_trials, timeout, n_jobs, catch, callbacks, gc_after_trial, show_progress_bar)\u001b[0m\n\u001b[1;32m     64\u001b[0m     \u001b[0;32mtry\u001b[0m\u001b[0;34m:\u001b[0m\u001b[0;34m\u001b[0m\u001b[0;34m\u001b[0m\u001b[0m\n\u001b[1;32m     65\u001b[0m         \u001b[0;32mif\u001b[0m \u001b[0mn_jobs\u001b[0m \u001b[0;34m==\u001b[0m \u001b[0;36m1\u001b[0m\u001b[0;34m:\u001b[0m\u001b[0;34m\u001b[0m\u001b[0;34m\u001b[0m\u001b[0m\n\u001b[0;32m---> 66\u001b[0;31m             _optimize_sequential(\n\u001b[0m\u001b[1;32m     67\u001b[0m                 \u001b[0mstudy\u001b[0m\u001b[0;34m,\u001b[0m\u001b[0;34m\u001b[0m\u001b[0;34m\u001b[0m\u001b[0m\n\u001b[1;32m     68\u001b[0m                 \u001b[0mfunc\u001b[0m\u001b[0;34m,\u001b[0m\u001b[0;34m\u001b[0m\u001b[0;34m\u001b[0m\u001b[0m\n",
            "\u001b[0;32m/usr/local/lib/python3.10/dist-packages/optuna/study/_optimize.py\u001b[0m in \u001b[0;36m_optimize_sequential\u001b[0;34m(study, func, n_trials, timeout, catch, callbacks, gc_after_trial, reseed_sampler_rng, time_start, progress_bar)\u001b[0m\n\u001b[1;32m    161\u001b[0m \u001b[0;34m\u001b[0m\u001b[0m\n\u001b[1;32m    162\u001b[0m         \u001b[0;32mtry\u001b[0m\u001b[0;34m:\u001b[0m\u001b[0;34m\u001b[0m\u001b[0;34m\u001b[0m\u001b[0m\n\u001b[0;32m--> 163\u001b[0;31m             \u001b[0mfrozen_trial\u001b[0m \u001b[0;34m=\u001b[0m \u001b[0m_run_trial\u001b[0m\u001b[0;34m(\u001b[0m\u001b[0mstudy\u001b[0m\u001b[0;34m,\u001b[0m \u001b[0mfunc\u001b[0m\u001b[0;34m,\u001b[0m \u001b[0mcatch\u001b[0m\u001b[0;34m)\u001b[0m\u001b[0;34m\u001b[0m\u001b[0;34m\u001b[0m\u001b[0m\n\u001b[0m\u001b[1;32m    164\u001b[0m         \u001b[0;32mfinally\u001b[0m\u001b[0;34m:\u001b[0m\u001b[0;34m\u001b[0m\u001b[0;34m\u001b[0m\u001b[0m\n\u001b[1;32m    165\u001b[0m             \u001b[0;31m# The following line mitigates memory problems that can be occurred in some\u001b[0m\u001b[0;34m\u001b[0m\u001b[0;34m\u001b[0m\u001b[0m\n",
            "\u001b[0;32m/usr/local/lib/python3.10/dist-packages/optuna/study/_optimize.py\u001b[0m in \u001b[0;36m_run_trial\u001b[0;34m(study, func, catch)\u001b[0m\n\u001b[1;32m    249\u001b[0m         \u001b[0;32mand\u001b[0m \u001b[0;32mnot\u001b[0m \u001b[0misinstance\u001b[0m\u001b[0;34m(\u001b[0m\u001b[0mfunc_err\u001b[0m\u001b[0;34m,\u001b[0m \u001b[0mcatch\u001b[0m\u001b[0;34m)\u001b[0m\u001b[0;34m\u001b[0m\u001b[0;34m\u001b[0m\u001b[0m\n\u001b[1;32m    250\u001b[0m     ):\n\u001b[0;32m--> 251\u001b[0;31m         \u001b[0;32mraise\u001b[0m \u001b[0mfunc_err\u001b[0m\u001b[0;34m\u001b[0m\u001b[0;34m\u001b[0m\u001b[0m\n\u001b[0m\u001b[1;32m    252\u001b[0m     \u001b[0;32mreturn\u001b[0m \u001b[0mfrozen_trial\u001b[0m\u001b[0;34m\u001b[0m\u001b[0;34m\u001b[0m\u001b[0m\n\u001b[1;32m    253\u001b[0m \u001b[0;34m\u001b[0m\u001b[0m\n",
            "\u001b[0;32m/usr/local/lib/python3.10/dist-packages/optuna/study/_optimize.py\u001b[0m in \u001b[0;36m_run_trial\u001b[0;34m(study, func, catch)\u001b[0m\n\u001b[1;32m    198\u001b[0m     \u001b[0;32mwith\u001b[0m \u001b[0mget_heartbeat_thread\u001b[0m\u001b[0;34m(\u001b[0m\u001b[0mtrial\u001b[0m\u001b[0;34m.\u001b[0m\u001b[0m_trial_id\u001b[0m\u001b[0;34m,\u001b[0m \u001b[0mstudy\u001b[0m\u001b[0;34m.\u001b[0m\u001b[0m_storage\u001b[0m\u001b[0;34m)\u001b[0m\u001b[0;34m:\u001b[0m\u001b[0;34m\u001b[0m\u001b[0;34m\u001b[0m\u001b[0m\n\u001b[1;32m    199\u001b[0m         \u001b[0;32mtry\u001b[0m\u001b[0;34m:\u001b[0m\u001b[0;34m\u001b[0m\u001b[0;34m\u001b[0m\u001b[0m\n\u001b[0;32m--> 200\u001b[0;31m             \u001b[0mvalue_or_values\u001b[0m \u001b[0;34m=\u001b[0m \u001b[0mfunc\u001b[0m\u001b[0;34m(\u001b[0m\u001b[0mtrial\u001b[0m\u001b[0;34m)\u001b[0m\u001b[0;34m\u001b[0m\u001b[0;34m\u001b[0m\u001b[0m\n\u001b[0m\u001b[1;32m    201\u001b[0m         \u001b[0;32mexcept\u001b[0m \u001b[0mexceptions\u001b[0m\u001b[0;34m.\u001b[0m\u001b[0mTrialPruned\u001b[0m \u001b[0;32mas\u001b[0m \u001b[0me\u001b[0m\u001b[0;34m:\u001b[0m\u001b[0;34m\u001b[0m\u001b[0;34m\u001b[0m\u001b[0m\n\u001b[1;32m    202\u001b[0m             \u001b[0;31m# TODO(mamu): Handle multi-objective cases.\u001b[0m\u001b[0;34m\u001b[0m\u001b[0;34m\u001b[0m\u001b[0m\n",
            "\u001b[0;32m<ipython-input-150-12eb9e17c126>\u001b[0m in \u001b[0;36mobjective\u001b[0;34m(trial)\u001b[0m\n\u001b[1;32m     10\u001b[0m \u001b[0;34m\u001b[0m\u001b[0m\n\u001b[1;32m     11\u001b[0m     \u001b[0;31m# Train model\u001b[0m\u001b[0;34m\u001b[0m\u001b[0;34m\u001b[0m\u001b[0m\n\u001b[0;32m---> 12\u001b[0;31m     \u001b[0mmetric\u001b[0m \u001b[0;34m=\u001b[0m \u001b[0mcross_validate\u001b[0m\u001b[0;34m(\u001b[0m\u001b[0mX_train\u001b[0m\u001b[0;34m,\u001b[0m \u001b[0my_train\u001b[0m\u001b[0;34m,\u001b[0m \u001b[0mn_folds\u001b[0m\u001b[0;34m=\u001b[0m\u001b[0;36m5\u001b[0m\u001b[0;34m,\u001b[0m \u001b[0mparams\u001b[0m\u001b[0;34m=\u001b[0m\u001b[0mparams\u001b[0m\u001b[0;34m)\u001b[0m\u001b[0;34m\u001b[0m\u001b[0;34m\u001b[0m\u001b[0m\n\u001b[0m\u001b[1;32m     13\u001b[0m \u001b[0;34m\u001b[0m\u001b[0m\n\u001b[1;32m     14\u001b[0m     \u001b[0;31m# Return cross-validated accuracy\u001b[0m\u001b[0;34m\u001b[0m\u001b[0;34m\u001b[0m\u001b[0m\n",
            "\u001b[0;32m<ipython-input-136-83959ba052d5>\u001b[0m in \u001b[0;36mcross_validate\u001b[0;34m(X_train, y_train, n_folds, params)\u001b[0m\n\u001b[1;32m     18\u001b[0m         \u001b[0mX_train_val\u001b[0m\u001b[0;34m,\u001b[0m \u001b[0mX_train_test\u001b[0m\u001b[0;34m,\u001b[0m \u001b[0my_train_val\u001b[0m\u001b[0;34m,\u001b[0m \u001b[0my_train_test\u001b[0m \u001b[0;34m=\u001b[0m \u001b[0mtrain_test_split\u001b[0m\u001b[0;34m(\u001b[0m\u001b[0mX_train_val_test\u001b[0m\u001b[0;34m,\u001b[0m \u001b[0my_train_val_test\u001b[0m\u001b[0;34m,\u001b[0m \u001b[0mtest_size\u001b[0m\u001b[0;34m=\u001b[0m\u001b[0;36m0.5\u001b[0m\u001b[0;34m,\u001b[0m \u001b[0mrandom_state\u001b[0m\u001b[0;34m=\u001b[0m\u001b[0;36m0\u001b[0m\u001b[0;34m)\u001b[0m\u001b[0;34m\u001b[0m\u001b[0;34m\u001b[0m\u001b[0m\n\u001b[1;32m     19\u001b[0m \u001b[0;34m\u001b[0m\u001b[0m\n\u001b[0;32m---> 20\u001b[0;31m         metric = train_lgb(X_train_train, y_train_train,\n\u001b[0m\u001b[1;32m     21\u001b[0m                            \u001b[0mX_train_test\u001b[0m\u001b[0;34m,\u001b[0m \u001b[0my_train_test\u001b[0m\u001b[0;34m,\u001b[0m\u001b[0;34m\u001b[0m\u001b[0;34m\u001b[0m\u001b[0m\n\u001b[1;32m     22\u001b[0m                            \u001b[0mX_val\u001b[0m\u001b[0;34m=\u001b[0m\u001b[0mX_train_val\u001b[0m\u001b[0;34m,\u001b[0m \u001b[0my_val\u001b[0m\u001b[0;34m=\u001b[0m\u001b[0my_train_val\u001b[0m\u001b[0;34m,\u001b[0m\u001b[0;34m\u001b[0m\u001b[0;34m\u001b[0m\u001b[0m\n",
            "\u001b[0;32m<ipython-input-149-edb80afedaf5>\u001b[0m in \u001b[0;36mtrain_lgb\u001b[0;34m(X_train, y_train, X_test, y_test, X_val, y_val, params)\u001b[0m\n\u001b[1;32m     23\u001b[0m     \u001b[0meval_set\u001b[0m \u001b[0;34m=\u001b[0m \u001b[0;34m[\u001b[0m\u001b[0;34m(\u001b[0m\u001b[0mX_val_pp\u001b[0m\u001b[0;34m,\u001b[0m \u001b[0my_val\u001b[0m\u001b[0;34m)\u001b[0m\u001b[0;34m]\u001b[0m \u001b[0;31m#if X_val is not None else [(X_train_pp, y_train)]\u001b[0m\u001b[0;34m\u001b[0m\u001b[0;34m\u001b[0m\u001b[0m\n\u001b[1;32m     24\u001b[0m \u001b[0;34m\u001b[0m\u001b[0m\n\u001b[0;32m---> 25\u001b[0;31m     clf.fit(X_train_pp, y_train,\n\u001b[0m\u001b[1;32m     26\u001b[0m             \u001b[0meval_set\u001b[0m \u001b[0;34m=\u001b[0m  \u001b[0meval_set\u001b[0m\u001b[0;34m,\u001b[0m\u001b[0;34m\u001b[0m\u001b[0;34m\u001b[0m\u001b[0m\n\u001b[1;32m     27\u001b[0m             \u001b[0meval_names\u001b[0m \u001b[0;34m=\u001b[0m \u001b[0;34m'val'\u001b[0m \u001b[0;32mif\u001b[0m \u001b[0mX_val\u001b[0m \u001b[0;32mis\u001b[0m \u001b[0;32mnot\u001b[0m \u001b[0;32mNone\u001b[0m \u001b[0;32melse\u001b[0m \u001b[0;34m'train'\u001b[0m\u001b[0;34m,\u001b[0m\u001b[0;34m\u001b[0m\u001b[0;34m\u001b[0m\u001b[0m\n",
            "\u001b[0;32m/usr/local/lib/python3.10/dist-packages/lightgbm/sklearn.py\u001b[0m in \u001b[0;36mfit\u001b[0;34m(self, X, y, sample_weight, init_score, eval_set, eval_names, eval_sample_weight, eval_class_weight, eval_init_score, eval_metric, early_stopping_rounds, verbose, feature_name, categorical_feature, callbacks, init_model)\u001b[0m\n\u001b[1;32m    965\u001b[0m                     \u001b[0mvalid_sets\u001b[0m\u001b[0;34m[\u001b[0m\u001b[0mi\u001b[0m\u001b[0;34m]\u001b[0m \u001b[0;34m=\u001b[0m \u001b[0;34m(\u001b[0m\u001b[0mvalid_x\u001b[0m\u001b[0;34m,\u001b[0m \u001b[0mself\u001b[0m\u001b[0;34m.\u001b[0m\u001b[0m_le\u001b[0m\u001b[0;34m.\u001b[0m\u001b[0mtransform\u001b[0m\u001b[0;34m(\u001b[0m\u001b[0mvalid_y\u001b[0m\u001b[0;34m)\u001b[0m\u001b[0;34m)\u001b[0m\u001b[0;34m\u001b[0m\u001b[0;34m\u001b[0m\u001b[0m\n\u001b[1;32m    966\u001b[0m \u001b[0;34m\u001b[0m\u001b[0m\n\u001b[0;32m--> 967\u001b[0;31m         super().fit(X, _y, sample_weight=sample_weight, init_score=init_score, eval_set=valid_sets,\n\u001b[0m\u001b[1;32m    968\u001b[0m                     \u001b[0meval_names\u001b[0m\u001b[0;34m=\u001b[0m\u001b[0meval_names\u001b[0m\u001b[0;34m,\u001b[0m \u001b[0meval_sample_weight\u001b[0m\u001b[0;34m=\u001b[0m\u001b[0meval_sample_weight\u001b[0m\u001b[0;34m,\u001b[0m\u001b[0;34m\u001b[0m\u001b[0;34m\u001b[0m\u001b[0m\n\u001b[1;32m    969\u001b[0m                     \u001b[0meval_class_weight\u001b[0m\u001b[0;34m=\u001b[0m\u001b[0meval_class_weight\u001b[0m\u001b[0;34m,\u001b[0m \u001b[0meval_init_score\u001b[0m\u001b[0;34m=\u001b[0m\u001b[0meval_init_score\u001b[0m\u001b[0;34m,\u001b[0m\u001b[0;34m\u001b[0m\u001b[0;34m\u001b[0m\u001b[0m\n",
            "\u001b[0;32m/usr/local/lib/python3.10/dist-packages/lightgbm/sklearn.py\u001b[0m in \u001b[0;36mfit\u001b[0;34m(self, X, y, sample_weight, init_score, group, eval_set, eval_names, eval_sample_weight, eval_class_weight, eval_init_score, eval_group, eval_metric, early_stopping_rounds, verbose, feature_name, categorical_feature, callbacks, init_model)\u001b[0m\n\u001b[1;32m    746\u001b[0m         \u001b[0mcallbacks\u001b[0m\u001b[0;34m.\u001b[0m\u001b[0mappend\u001b[0m\u001b[0;34m(\u001b[0m\u001b[0mrecord_evaluation\u001b[0m\u001b[0;34m(\u001b[0m\u001b[0mevals_result\u001b[0m\u001b[0;34m)\u001b[0m\u001b[0;34m)\u001b[0m\u001b[0;34m\u001b[0m\u001b[0;34m\u001b[0m\u001b[0m\n\u001b[1;32m    747\u001b[0m \u001b[0;34m\u001b[0m\u001b[0m\n\u001b[0;32m--> 748\u001b[0;31m         self._Booster = train(\n\u001b[0m\u001b[1;32m    749\u001b[0m             \u001b[0mparams\u001b[0m\u001b[0;34m=\u001b[0m\u001b[0mparams\u001b[0m\u001b[0;34m,\u001b[0m\u001b[0;34m\u001b[0m\u001b[0;34m\u001b[0m\u001b[0m\n\u001b[1;32m    750\u001b[0m             \u001b[0mtrain_set\u001b[0m\u001b[0;34m=\u001b[0m\u001b[0mtrain_set\u001b[0m\u001b[0;34m,\u001b[0m\u001b[0;34m\u001b[0m\u001b[0;34m\u001b[0m\u001b[0m\n",
            "\u001b[0;32m/usr/local/lib/python3.10/dist-packages/lightgbm/engine.py\u001b[0m in \u001b[0;36mtrain\u001b[0;34m(params, train_set, num_boost_round, valid_sets, valid_names, fobj, feval, init_model, feature_name, categorical_feature, early_stopping_rounds, evals_result, verbose_eval, learning_rates, keep_training_booster, callbacks)\u001b[0m\n\u001b[1;32m    290\u001b[0m                                     evaluation_result_list=None))\n\u001b[1;32m    291\u001b[0m \u001b[0;34m\u001b[0m\u001b[0m\n\u001b[0;32m--> 292\u001b[0;31m         \u001b[0mbooster\u001b[0m\u001b[0;34m.\u001b[0m\u001b[0mupdate\u001b[0m\u001b[0;34m(\u001b[0m\u001b[0mfobj\u001b[0m\u001b[0;34m=\u001b[0m\u001b[0mfobj\u001b[0m\u001b[0;34m)\u001b[0m\u001b[0;34m\u001b[0m\u001b[0;34m\u001b[0m\u001b[0m\n\u001b[0m\u001b[1;32m    293\u001b[0m \u001b[0;34m\u001b[0m\u001b[0m\n\u001b[1;32m    294\u001b[0m         \u001b[0mevaluation_result_list\u001b[0m \u001b[0;34m=\u001b[0m \u001b[0;34m[\u001b[0m\u001b[0;34m]\u001b[0m\u001b[0;34m\u001b[0m\u001b[0;34m\u001b[0m\u001b[0m\n",
            "\u001b[0;32m/usr/local/lib/python3.10/dist-packages/lightgbm/basic.py\u001b[0m in \u001b[0;36mupdate\u001b[0;34m(self, train_set, fobj)\u001b[0m\n\u001b[1;32m   3019\u001b[0m             \u001b[0;32mif\u001b[0m \u001b[0mself\u001b[0m\u001b[0;34m.\u001b[0m\u001b[0m__set_objective_to_none\u001b[0m\u001b[0;34m:\u001b[0m\u001b[0;34m\u001b[0m\u001b[0;34m\u001b[0m\u001b[0m\n\u001b[1;32m   3020\u001b[0m                 \u001b[0;32mraise\u001b[0m \u001b[0mLightGBMError\u001b[0m\u001b[0;34m(\u001b[0m\u001b[0;34m'Cannot update due to null objective function.'\u001b[0m\u001b[0;34m)\u001b[0m\u001b[0;34m\u001b[0m\u001b[0;34m\u001b[0m\u001b[0m\n\u001b[0;32m-> 3021\u001b[0;31m             _safe_call(_LIB.LGBM_BoosterUpdateOneIter(\n\u001b[0m\u001b[1;32m   3022\u001b[0m                 \u001b[0mself\u001b[0m\u001b[0;34m.\u001b[0m\u001b[0mhandle\u001b[0m\u001b[0;34m,\u001b[0m\u001b[0;34m\u001b[0m\u001b[0;34m\u001b[0m\u001b[0m\n\u001b[1;32m   3023\u001b[0m                 ctypes.byref(is_finished)))\n",
            "\u001b[0;31mKeyboardInterrupt\u001b[0m: "
          ]
        }
      ]
    },
    {
      "cell_type": "code",
      "source": [
        "best_params = study.best_params\n",
        "best_params"
      ],
      "metadata": {
        "id": "08lvLLkBz0V4",
        "outputId": "cc4797a2-6cef-4d80-a840-7f5e95fbc1c8",
        "colab": {
          "base_uri": "https://localhost:8080/"
        }
      },
      "execution_count": 141,
      "outputs": [
        {
          "output_type": "execute_result",
          "data": {
            "text/plain": [
              "{'learning_rate': 0.004858456696051978,\n",
              " 'num_leaves': 86,\n",
              " 'scale_pos_weight': 1}"
            ]
          },
          "metadata": {},
          "execution_count": 141
        }
      ]
    }
  ]
}