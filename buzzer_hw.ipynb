{
  "nbformat": 4,
  "nbformat_minor": 0,
  "metadata": {
    "colab": {
      "provenance": [],
      "toc_visible": true,
      "authorship_tag": "ABX9TyN5eDkVEXs2E+HjUjuGiMTi",
      "include_colab_link": true
    },
    "kernelspec": {
      "name": "python3",
      "display_name": "Python 3"
    },
    "language_info": {
      "name": "python"
    }
  },
  "cells": [
    {
      "cell_type": "markdown",
      "metadata": {
        "id": "view-in-github",
        "colab_type": "text"
      },
      "source": [
        "<a href=\"https://colab.research.google.com/github/gox6/buzzer/blob/main/buzzer_hw.ipynb\" target=\"_parent\"><img src=\"https://colab.research.google.com/assets/colab-badge.svg\" alt=\"Open In Colab\"/></a>"
      ]
    },
    {
      "cell_type": "markdown",
      "source": [
        "## Project setup"
      ],
      "metadata": {
        "id": "OETu99g2PC0L"
      }
    },
    {
      "cell_type": "code",
      "source": [
        "!pip install optuna"
      ],
      "metadata": {
        "colab": {
          "base_uri": "https://localhost:8080/"
        },
        "id": "9XkTzY8munJU",
        "outputId": "8eca9d76-8752-4044-dcd8-b8d1dba82bc0"
      },
      "execution_count": 6,
      "outputs": [
        {
          "output_type": "stream",
          "name": "stdout",
          "text": [
            "Looking in indexes: https://pypi.org/simple, https://us-python.pkg.dev/colab-wheels/public/simple/\n",
            "Requirement already satisfied: optuna in /usr/local/lib/python3.10/dist-packages (3.1.1)\n",
            "Requirement already satisfied: cmaes>=0.9.1 in /usr/local/lib/python3.10/dist-packages (from optuna) (0.9.1)\n",
            "Requirement already satisfied: PyYAML in /usr/local/lib/python3.10/dist-packages (from optuna) (6.0)\n",
            "Requirement already satisfied: packaging>=20.0 in /usr/local/lib/python3.10/dist-packages (from optuna) (23.1)\n",
            "Requirement already satisfied: numpy in /usr/local/lib/python3.10/dist-packages (from optuna) (1.22.4)\n",
            "Requirement already satisfied: alembic>=1.5.0 in /usr/local/lib/python3.10/dist-packages (from optuna) (1.10.4)\n",
            "Requirement already satisfied: tqdm in /usr/local/lib/python3.10/dist-packages (from optuna) (4.65.0)\n",
            "Requirement already satisfied: colorlog in /usr/local/lib/python3.10/dist-packages (from optuna) (6.7.0)\n",
            "Requirement already satisfied: sqlalchemy>=1.3.0 in /usr/local/lib/python3.10/dist-packages (from optuna) (2.0.10)\n",
            "Requirement already satisfied: Mako in /usr/local/lib/python3.10/dist-packages (from alembic>=1.5.0->optuna) (1.2.4)\n",
            "Requirement already satisfied: typing-extensions>=4 in /usr/local/lib/python3.10/dist-packages (from alembic>=1.5.0->optuna) (4.5.0)\n",
            "Requirement already satisfied: greenlet!=0.4.17 in /usr/local/lib/python3.10/dist-packages (from sqlalchemy>=1.3.0->optuna) (2.0.2)\n",
            "Requirement already satisfied: MarkupSafe>=0.9.2 in /usr/local/lib/python3.10/dist-packages (from Mako->alembic>=1.5.0->optuna) (2.1.2)\n"
          ]
        }
      ]
    },
    {
      "cell_type": "code",
      "source": [
        "import duckdb\n",
        "from functools import reduce\n",
        "import lightgbm as lgb\n",
        "import numpy as np\n",
        "import optuna\n",
        "import pandas as pd\n",
        "import polars as pl\n",
        "from sklearn.model_selection import train_test_split, KFold\n",
        "from sklearn.preprocessing import OrdinalEncoder, StandardScaler\n",
        "from statistics import mean"
      ],
      "metadata": {
        "id": "PJvAImoNPMgu"
      },
      "execution_count": 111,
      "outputs": []
    },
    {
      "cell_type": "code",
      "source": [
        "# Getting data from Google Drive file\n",
        "url='https://drive.google.com/uc?id=1FrSdVAw_nmouSCE7VZ54-_HfM_C9DIC6'\n",
        "df_orig = pl.read_csv(url)"
      ],
      "metadata": {
        "id": "t4zDdPU7NDc8"
      },
      "execution_count": 8,
      "outputs": []
    },
    {
      "cell_type": "code",
      "source": [
        "# Renaming columns using snake_case\n",
        "df = df_orig[:]\n",
        "to_snake_case = lambda x: '_'.join(x.lower().split(' '))\n",
        "df.columns = list(map(to_snake_case, df_orig.columns))"
      ],
      "metadata": {
        "id": "M5g1jibjQbEm"
      },
      "execution_count": 9,
      "outputs": []
    },
    {
      "cell_type": "markdown",
      "source": [
        "## Helicopter view EDA"
      ],
      "metadata": {
        "id": "Cvr9393GvRIB"
      }
    },
    {
      "cell_type": "code",
      "source": [
        "df.head(5)"
      ],
      "metadata": {
        "colab": {
          "base_uri": "https://localhost:8080/",
          "height": 362
        },
        "id": "vWOBBSofVbnV",
        "outputId": "a580990a-2447-4848-c73a-fadc68f4e73a"
      },
      "execution_count": 10,
      "outputs": [
        {
          "output_type": "execute_result",
          "data": {
            "text/plain": [
              "shape: (5, 36)\n",
              "┌───────────┬───────────┬───────────┬────────────┬───┬────────────┬────────────┬────────────┬────────────┐\n",
              "│ lead_numb ┆ lead_orig ┆ lead_sour ┆ do_not_ema ┆ … ┆ asymmetriq ┆ i_agree_to ┆ a_free_cop ┆ last_notab │\n",
              "│ er        ┆ in        ┆ ce        ┆ il         ┆   ┆ ue_profile ┆ _pay_the_a ┆ y_of_maste ┆ le_activit │\n",
              "│ ---       ┆ ---       ┆ ---       ┆ ---        ┆   ┆ _score     ┆ mount_thro ┆ ring_the_i ┆ y          │\n",
              "│ i64       ┆ str       ┆ str       ┆ str        ┆   ┆ ---        ┆ ug…        ┆ nt…        ┆ ---        │\n",
              "│           ┆           ┆           ┆            ┆   ┆ f64        ┆ ---        ┆ ---        ┆ str        │\n",
              "│           ┆           ┆           ┆            ┆   ┆            ┆ str        ┆ str        ┆            │\n",
              "╞═══════════╪═══════════╪═══════════╪════════════╪═══╪════════════╪════════════╪════════════╪════════════╡\n",
              "│ 660737    ┆ API       ┆ Olark     ┆ No         ┆ … ┆ 15.0       ┆ No         ┆ No         ┆ Modified   │\n",
              "│           ┆           ┆ Chat      ┆            ┆   ┆            ┆            ┆            ┆            │\n",
              "│ 660728    ┆ API       ┆ Organic   ┆ No         ┆ … ┆ 15.0       ┆ No         ┆ No         ┆ Email      │\n",
              "│           ┆           ┆ Search    ┆            ┆   ┆            ┆            ┆            ┆ Opened     │\n",
              "│ 660727    ┆ Landing   ┆ Direct    ┆ No         ┆ … ┆ 20.0       ┆ No         ┆ Yes        ┆ Email      │\n",
              "│           ┆ Page Subm ┆ Traffic   ┆            ┆   ┆            ┆            ┆            ┆ Opened     │\n",
              "│           ┆ ission    ┆           ┆            ┆   ┆            ┆            ┆            ┆            │\n",
              "│ 660719    ┆ Landing   ┆ Direct    ┆ No         ┆ … ┆ 17.0       ┆ No         ┆ No         ┆ Modified   │\n",
              "│           ┆ Page Subm ┆ Traffic   ┆            ┆   ┆            ┆            ┆            ┆            │\n",
              "│           ┆ ission    ┆           ┆            ┆   ┆            ┆            ┆            ┆            │\n",
              "│ 660681    ┆ Landing   ┆ Google    ┆ No         ┆ … ┆ 18.0       ┆ No         ┆ No         ┆ Modified   │\n",
              "│           ┆ Page Subm ┆           ┆            ┆   ┆            ┆            ┆            ┆            │\n",
              "│           ┆ ission    ┆           ┆            ┆   ┆            ┆            ┆            ┆            │\n",
              "└───────────┴───────────┴───────────┴────────────┴───┴────────────┴────────────┴────────────┴────────────┘"
            ],
            "text/html": [
              "<div><style>\n",
              ".dataframe > thead > tr > th,\n",
              ".dataframe > tbody > tr > td {\n",
              "  text-align: right;\n",
              "}\n",
              "</style>\n",
              "<small>shape: (5, 36)</small><table border=\"1\" class=\"dataframe\"><thead><tr><th>lead_number</th><th>lead_origin</th><th>lead_source</th><th>do_not_email</th><th>do_not_call</th><th>converted</th><th>totalvisits</th><th>total_time_spent_on_website</th><th>page_views_per_visit</th><th>last_activity</th><th>country</th><th>specialization</th><th>how_did_you_hear_about_x_education</th><th>what_is_your_current_occupation</th><th>what_matters_most_to_you_in_choosing_a_course</th><th>search</th><th>magazine</th><th>newspaper_article</th><th>x_education_forums</th><th>newspaper</th><th>digital_advertisement</th><th>through_recommendations</th><th>receive_more_updates_about_our_courses</th><th>tags</th><th>lead_quality</th><th>update_me_on_supply_chain_content</th><th>get_updates_on_dm_content</th><th>lead_profile</th><th>city</th><th>asymmetrique_activity_index</th><th>asymmetrique_profile_index</th><th>asymmetrique_activity_score</th><th>asymmetrique_profile_score</th><th>i_agree_to_pay_the_amount_through_cheque</th><th>a_free_copy_of_mastering_the_interview</th><th>last_notable_activity</th></tr><tr><td>i64</td><td>str</td><td>str</td><td>str</td><td>str</td><td>i64</td><td>f64</td><td>i64</td><td>f64</td><td>str</td><td>str</td><td>str</td><td>str</td><td>str</td><td>str</td><td>str</td><td>str</td><td>str</td><td>str</td><td>str</td><td>str</td><td>str</td><td>str</td><td>str</td><td>str</td><td>str</td><td>str</td><td>str</td><td>str</td><td>str</td><td>str</td><td>f64</td><td>f64</td><td>str</td><td>str</td><td>str</td></tr></thead><tbody><tr><td>660737</td><td>&quot;API&quot;</td><td>&quot;Olark Chat&quot;</td><td>&quot;No&quot;</td><td>&quot;No&quot;</td><td>0</td><td>0.0</td><td>0</td><td>0.0</td><td>&quot;Page Visited o…</td><td>&quot;India&quot;</td><td>&quot;Others&quot;</td><td>null</td><td>&quot;Unemployed&quot;</td><td>&quot;Better Career …</td><td>&quot;No&quot;</td><td>&quot;No&quot;</td><td>&quot;No&quot;</td><td>&quot;No&quot;</td><td>&quot;No&quot;</td><td>&quot;No&quot;</td><td>&quot;No&quot;</td><td>&quot;No&quot;</td><td>&quot;Interested in …</td><td>&quot;Low in Relevan…</td><td>&quot;No&quot;</td><td>&quot;No&quot;</td><td>null</td><td>null</td><td>&quot;02.Medium&quot;</td><td>&quot;02.Medium&quot;</td><td>15.0</td><td>15.0</td><td>&quot;No&quot;</td><td>&quot;No&quot;</td><td>&quot;Modified&quot;</td></tr><tr><td>660728</td><td>&quot;API&quot;</td><td>&quot;Organic Search…</td><td>&quot;No&quot;</td><td>&quot;No&quot;</td><td>0</td><td>5.0</td><td>674</td><td>2.5</td><td>&quot;Email Opened&quot;</td><td>&quot;India&quot;</td><td>&quot;Others&quot;</td><td>null</td><td>&quot;Unemployed&quot;</td><td>&quot;Better Career …</td><td>&quot;No&quot;</td><td>&quot;No&quot;</td><td>&quot;No&quot;</td><td>&quot;No&quot;</td><td>&quot;No&quot;</td><td>&quot;No&quot;</td><td>&quot;No&quot;</td><td>&quot;No&quot;</td><td>&quot;Ringing&quot;</td><td>&quot;Not Sure&quot;</td><td>&quot;No&quot;</td><td>&quot;No&quot;</td><td>null</td><td>null</td><td>&quot;02.Medium&quot;</td><td>&quot;02.Medium&quot;</td><td>15.0</td><td>15.0</td><td>&quot;No&quot;</td><td>&quot;No&quot;</td><td>&quot;Email Opened&quot;</td></tr><tr><td>660727</td><td>&quot;Landing Page S…</td><td>&quot;Direct Traffic…</td><td>&quot;No&quot;</td><td>&quot;No&quot;</td><td>1</td><td>2.0</td><td>1532</td><td>2.0</td><td>&quot;Email Opened&quot;</td><td>&quot;India&quot;</td><td>&quot;Business Admin…</td><td>null</td><td>&quot;Student&quot;</td><td>&quot;Better Career …</td><td>&quot;No&quot;</td><td>&quot;No&quot;</td><td>&quot;No&quot;</td><td>&quot;No&quot;</td><td>&quot;No&quot;</td><td>&quot;No&quot;</td><td>&quot;No&quot;</td><td>&quot;No&quot;</td><td>&quot;Will revert af…</td><td>&quot;Might be&quot;</td><td>&quot;No&quot;</td><td>&quot;No&quot;</td><td>&quot;Potential Lead…</td><td>&quot;Mumbai&quot;</td><td>&quot;02.Medium&quot;</td><td>&quot;01.High&quot;</td><td>14.0</td><td>20.0</td><td>&quot;No&quot;</td><td>&quot;Yes&quot;</td><td>&quot;Email Opened&quot;</td></tr><tr><td>660719</td><td>&quot;Landing Page S…</td><td>&quot;Direct Traffic…</td><td>&quot;No&quot;</td><td>&quot;No&quot;</td><td>0</td><td>1.0</td><td>305</td><td>1.0</td><td>&quot;Unreachable&quot;</td><td>&quot;India&quot;</td><td>&quot;Media and Adve…</td><td>&quot;Word Of Mouth&quot;</td><td>&quot;Unemployed&quot;</td><td>&quot;Better Career …</td><td>&quot;No&quot;</td><td>&quot;No&quot;</td><td>&quot;No&quot;</td><td>&quot;No&quot;</td><td>&quot;No&quot;</td><td>&quot;No&quot;</td><td>&quot;No&quot;</td><td>&quot;No&quot;</td><td>&quot;Ringing&quot;</td><td>&quot;Not Sure&quot;</td><td>&quot;No&quot;</td><td>&quot;No&quot;</td><td>null</td><td>&quot;Mumbai&quot;</td><td>&quot;02.Medium&quot;</td><td>&quot;01.High&quot;</td><td>13.0</td><td>17.0</td><td>&quot;No&quot;</td><td>&quot;No&quot;</td><td>&quot;Modified&quot;</td></tr><tr><td>660681</td><td>&quot;Landing Page S…</td><td>&quot;Google&quot;</td><td>&quot;No&quot;</td><td>&quot;No&quot;</td><td>1</td><td>2.0</td><td>1428</td><td>1.0</td><td>&quot;Converted to L…</td><td>&quot;India&quot;</td><td>&quot;Others&quot;</td><td>&quot;Other&quot;</td><td>&quot;Unemployed&quot;</td><td>&quot;Better Career …</td><td>&quot;No&quot;</td><td>&quot;No&quot;</td><td>&quot;No&quot;</td><td>&quot;No&quot;</td><td>&quot;No&quot;</td><td>&quot;No&quot;</td><td>&quot;No&quot;</td><td>&quot;No&quot;</td><td>&quot;Will revert af…</td><td>&quot;Might be&quot;</td><td>&quot;No&quot;</td><td>&quot;No&quot;</td><td>null</td><td>&quot;Mumbai&quot;</td><td>&quot;02.Medium&quot;</td><td>&quot;01.High&quot;</td><td>15.0</td><td>18.0</td><td>&quot;No&quot;</td><td>&quot;No&quot;</td><td>&quot;Modified&quot;</td></tr></tbody></table></div>"
            ]
          },
          "metadata": {},
          "execution_count": 10
        }
      ]
    },
    {
      "cell_type": "code",
      "source": [
        "df.describe()"
      ],
      "metadata": {
        "colab": {
          "base_uri": "https://localhost:8080/",
          "height": 452
        },
        "id": "ifCsXYWDT_fo",
        "outputId": "3057b1b8-4dc2-44f7-f89d-a855dbe541a0"
      },
      "execution_count": 11,
      "outputs": [
        {
          "output_type": "execute_result",
          "data": {
            "text/plain": [
              "shape: (9, 37)\n",
              "┌──────┬───────────┬───────────┬───────────┬───┬────────────┬────────────┬────────────┬────────────┐\n",
              "│ desc ┆ lead_numb ┆ lead_orig ┆ lead_sour ┆ … ┆ asymmetriq ┆ i_agree_to ┆ a_free_cop ┆ last_notab │\n",
              "│ ribe ┆ er        ┆ in        ┆ ce        ┆   ┆ ue_profile ┆ _pay_the_a ┆ y_of_maste ┆ le_activit │\n",
              "│ ---  ┆ ---       ┆ ---       ┆ ---       ┆   ┆ _score     ┆ mount_thro ┆ ring_the_i ┆ y          │\n",
              "│ str  ┆ f64       ┆ str       ┆ str       ┆   ┆ ---        ┆ ug…        ┆ nt…        ┆ ---        │\n",
              "│      ┆           ┆           ┆           ┆   ┆ f64        ┆ ---        ┆ ---        ┆ str        │\n",
              "│      ┆           ┆           ┆           ┆   ┆            ┆ str        ┆ str        ┆            │\n",
              "╞══════╪═══════════╪═══════════╪═══════════╪═══╪════════════╪════════════╪════════════╪════════════╡\n",
              "│ coun ┆ 9240.0    ┆ 9240      ┆ 9240      ┆ … ┆ 9240.0     ┆ 9240       ┆ 9240       ┆ 9240       │\n",
              "│ t    ┆           ┆           ┆           ┆   ┆            ┆            ┆            ┆            │\n",
              "│ null ┆ 0.0       ┆ 0         ┆ 36        ┆ … ┆ 4218.0     ┆ 0          ┆ 0          ┆ 0          │\n",
              "│ _cou ┆           ┆           ┆           ┆   ┆            ┆            ┆            ┆            │\n",
              "│ nt   ┆           ┆           ┆           ┆   ┆            ┆            ┆            ┆            │\n",
              "│ mean ┆ 617188.43 ┆ null      ┆ null      ┆ … ┆ 16.344883  ┆ null       ┆ null       ┆ null       │\n",
              "│      ┆ 5606      ┆           ┆           ┆   ┆            ┆            ┆            ┆            │\n",
              "│ std  ┆ 23405.995 ┆ null      ┆ null      ┆ … ┆ 1.811395   ┆ null       ┆ null       ┆ null       │\n",
              "│      ┆ 698       ┆           ┆           ┆   ┆            ┆            ┆            ┆            │\n",
              "│ min  ┆ 579533.0  ┆ API       ┆ Click2cal ┆ … ┆ 11.0       ┆ No         ┆ No         ┆ Approached │\n",
              "│      ┆           ┆           ┆ l         ┆   ┆            ┆            ┆            ┆ upfront    │\n",
              "│ max  ┆ 660737.0  ┆ Quick Add ┆ youtubech ┆ … ┆ 20.0       ┆ No         ┆ Yes        ┆ View in    │\n",
              "│      ┆           ┆ Form      ┆ annel     ┆   ┆            ┆            ┆            ┆ browser    │\n",
              "│      ┆           ┆           ┆           ┆   ┆            ┆            ┆            ┆ link       │\n",
              "│      ┆           ┆           ┆           ┆   ┆            ┆            ┆            ┆ Clicked    │\n",
              "│ medi ┆ 615479.0  ┆ null      ┆ null      ┆ … ┆ 16.0       ┆ null       ┆ null       ┆ null       │\n",
              "│ an   ┆           ┆           ┆           ┆   ┆            ┆            ┆            ┆            │\n",
              "│ 25%  ┆ 596485.0  ┆ null      ┆ null      ┆ … ┆ 15.0       ┆ null       ┆ null       ┆ null       │\n",
              "│ 75%  ┆ 637388.0  ┆ null      ┆ null      ┆ … ┆ 18.0       ┆ null       ┆ null       ┆ null       │\n",
              "└──────┴───────────┴───────────┴───────────┴───┴────────────┴────────────┴────────────┴────────────┘"
            ],
            "text/html": [
              "<div><style>\n",
              ".dataframe > thead > tr > th,\n",
              ".dataframe > tbody > tr > td {\n",
              "  text-align: right;\n",
              "}\n",
              "</style>\n",
              "<small>shape: (9, 37)</small><table border=\"1\" class=\"dataframe\"><thead><tr><th>describe</th><th>lead_number</th><th>lead_origin</th><th>lead_source</th><th>do_not_email</th><th>do_not_call</th><th>converted</th><th>totalvisits</th><th>total_time_spent_on_website</th><th>page_views_per_visit</th><th>last_activity</th><th>country</th><th>specialization</th><th>how_did_you_hear_about_x_education</th><th>what_is_your_current_occupation</th><th>what_matters_most_to_you_in_choosing_a_course</th><th>search</th><th>magazine</th><th>newspaper_article</th><th>x_education_forums</th><th>newspaper</th><th>digital_advertisement</th><th>through_recommendations</th><th>receive_more_updates_about_our_courses</th><th>tags</th><th>lead_quality</th><th>update_me_on_supply_chain_content</th><th>get_updates_on_dm_content</th><th>lead_profile</th><th>city</th><th>asymmetrique_activity_index</th><th>asymmetrique_profile_index</th><th>asymmetrique_activity_score</th><th>asymmetrique_profile_score</th><th>i_agree_to_pay_the_amount_through_cheque</th><th>a_free_copy_of_mastering_the_interview</th><th>last_notable_activity</th></tr><tr><td>str</td><td>f64</td><td>str</td><td>str</td><td>str</td><td>str</td><td>f64</td><td>f64</td><td>f64</td><td>f64</td><td>str</td><td>str</td><td>str</td><td>str</td><td>str</td><td>str</td><td>str</td><td>str</td><td>str</td><td>str</td><td>str</td><td>str</td><td>str</td><td>str</td><td>str</td><td>str</td><td>str</td><td>str</td><td>str</td><td>str</td><td>str</td><td>str</td><td>f64</td><td>f64</td><td>str</td><td>str</td><td>str</td></tr></thead><tbody><tr><td>&quot;count&quot;</td><td>9240.0</td><td>&quot;9240&quot;</td><td>&quot;9240&quot;</td><td>&quot;9240&quot;</td><td>&quot;9240&quot;</td><td>9240.0</td><td>9240.0</td><td>9240.0</td><td>9240.0</td><td>&quot;9240&quot;</td><td>&quot;9240&quot;</td><td>&quot;9240&quot;</td><td>&quot;9240&quot;</td><td>&quot;9240&quot;</td><td>&quot;9240&quot;</td><td>&quot;9240&quot;</td><td>&quot;9240&quot;</td><td>&quot;9240&quot;</td><td>&quot;9240&quot;</td><td>&quot;9240&quot;</td><td>&quot;9240&quot;</td><td>&quot;9240&quot;</td><td>&quot;9240&quot;</td><td>&quot;9240&quot;</td><td>&quot;9240&quot;</td><td>&quot;9240&quot;</td><td>&quot;9240&quot;</td><td>&quot;9240&quot;</td><td>&quot;9240&quot;</td><td>&quot;9240&quot;</td><td>&quot;9240&quot;</td><td>9240.0</td><td>9240.0</td><td>&quot;9240&quot;</td><td>&quot;9240&quot;</td><td>&quot;9240&quot;</td></tr><tr><td>&quot;null_count&quot;</td><td>0.0</td><td>&quot;0&quot;</td><td>&quot;36&quot;</td><td>&quot;0&quot;</td><td>&quot;0&quot;</td><td>0.0</td><td>137.0</td><td>0.0</td><td>137.0</td><td>&quot;103&quot;</td><td>&quot;0&quot;</td><td>&quot;0&quot;</td><td>&quot;7250&quot;</td><td>&quot;0&quot;</td><td>&quot;2709&quot;</td><td>&quot;0&quot;</td><td>&quot;0&quot;</td><td>&quot;0&quot;</td><td>&quot;0&quot;</td><td>&quot;0&quot;</td><td>&quot;0&quot;</td><td>&quot;0&quot;</td><td>&quot;0&quot;</td><td>&quot;0&quot;</td><td>&quot;0&quot;</td><td>&quot;0&quot;</td><td>&quot;0&quot;</td><td>&quot;6855&quot;</td><td>&quot;3669&quot;</td><td>&quot;4218&quot;</td><td>&quot;4218&quot;</td><td>4218.0</td><td>4218.0</td><td>&quot;0&quot;</td><td>&quot;0&quot;</td><td>&quot;0&quot;</td></tr><tr><td>&quot;mean&quot;</td><td>617188.435606</td><td>null</td><td>null</td><td>null</td><td>null</td><td>0.38539</td><td>3.445238</td><td>487.698268</td><td>2.36282</td><td>null</td><td>null</td><td>null</td><td>null</td><td>null</td><td>null</td><td>null</td><td>null</td><td>null</td><td>null</td><td>null</td><td>null</td><td>null</td><td>null</td><td>null</td><td>null</td><td>null</td><td>null</td><td>null</td><td>null</td><td>null</td><td>null</td><td>14.306252</td><td>16.344883</td><td>null</td><td>null</td><td>null</td></tr><tr><td>&quot;std&quot;</td><td>23405.995698</td><td>null</td><td>null</td><td>null</td><td>null</td><td>0.486714</td><td>4.854853</td><td>548.021466</td><td>2.161418</td><td>null</td><td>null</td><td>null</td><td>null</td><td>null</td><td>null</td><td>null</td><td>null</td><td>null</td><td>null</td><td>null</td><td>null</td><td>null</td><td>null</td><td>null</td><td>null</td><td>null</td><td>null</td><td>null</td><td>null</td><td>null</td><td>null</td><td>1.386694</td><td>1.811395</td><td>null</td><td>null</td><td>null</td></tr><tr><td>&quot;min&quot;</td><td>579533.0</td><td>&quot;API&quot;</td><td>&quot;Click2call&quot;</td><td>&quot;No&quot;</td><td>&quot;No&quot;</td><td>0.0</td><td>0.0</td><td>0.0</td><td>0.0</td><td>&quot;Approached upf…</td><td>&quot;Asia/Pacific R…</td><td>&quot;Banking, Inves…</td><td>&quot;Advertisements…</td><td>&quot;Businessman&quot;</td><td>&quot;Better Career …</td><td>&quot;No&quot;</td><td>&quot;No&quot;</td><td>&quot;No&quot;</td><td>&quot;No&quot;</td><td>&quot;No&quot;</td><td>&quot;No&quot;</td><td>&quot;No&quot;</td><td>&quot;No&quot;</td><td>&quot;Already a stud…</td><td>&quot;High in Releva…</td><td>&quot;No&quot;</td><td>&quot;No&quot;</td><td>&quot;Dual Specializ…</td><td>&quot;Mumbai&quot;</td><td>&quot;01.High&quot;</td><td>&quot;01.High&quot;</td><td>7.0</td><td>11.0</td><td>&quot;No&quot;</td><td>&quot;No&quot;</td><td>&quot;Approached upf…</td></tr><tr><td>&quot;max&quot;</td><td>660737.0</td><td>&quot;Quick Add Form…</td><td>&quot;youtubechannel…</td><td>&quot;Yes&quot;</td><td>&quot;Yes&quot;</td><td>1.0</td><td>251.0</td><td>2272.0</td><td>55.0</td><td>&quot;Visited Booth …</td><td>&quot;unknown&quot;</td><td>&quot;Travel and Tou…</td><td>&quot;Word Of Mouth&quot;</td><td>&quot;Working Profes…</td><td>&quot;Other&quot;</td><td>&quot;Yes&quot;</td><td>&quot;No&quot;</td><td>&quot;Yes&quot;</td><td>&quot;Yes&quot;</td><td>&quot;Yes&quot;</td><td>&quot;Yes&quot;</td><td>&quot;Yes&quot;</td><td>&quot;No&quot;</td><td>&quot;wrong number g…</td><td>&quot;Worst&quot;</td><td>&quot;No&quot;</td><td>&quot;No&quot;</td><td>&quot;Student of Som…</td><td>&quot;Tier II Cities…</td><td>&quot;03.Low&quot;</td><td>&quot;03.Low&quot;</td><td>18.0</td><td>20.0</td><td>&quot;No&quot;</td><td>&quot;Yes&quot;</td><td>&quot;View in browse…</td></tr><tr><td>&quot;median&quot;</td><td>615479.0</td><td>null</td><td>null</td><td>null</td><td>null</td><td>0.0</td><td>3.0</td><td>248.0</td><td>2.0</td><td>null</td><td>null</td><td>null</td><td>null</td><td>null</td><td>null</td><td>null</td><td>null</td><td>null</td><td>null</td><td>null</td><td>null</td><td>null</td><td>null</td><td>null</td><td>null</td><td>null</td><td>null</td><td>null</td><td>null</td><td>null</td><td>null</td><td>14.0</td><td>16.0</td><td>null</td><td>null</td><td>null</td></tr><tr><td>&quot;25%&quot;</td><td>596485.0</td><td>null</td><td>null</td><td>null</td><td>null</td><td>0.0</td><td>1.0</td><td>12.0</td><td>1.0</td><td>null</td><td>null</td><td>null</td><td>null</td><td>null</td><td>null</td><td>null</td><td>null</td><td>null</td><td>null</td><td>null</td><td>null</td><td>null</td><td>null</td><td>null</td><td>null</td><td>null</td><td>null</td><td>null</td><td>null</td><td>null</td><td>null</td><td>14.0</td><td>15.0</td><td>null</td><td>null</td><td>null</td></tr><tr><td>&quot;75%&quot;</td><td>637388.0</td><td>null</td><td>null</td><td>null</td><td>null</td><td>1.0</td><td>5.0</td><td>936.0</td><td>3.0</td><td>null</td><td>null</td><td>null</td><td>null</td><td>null</td><td>null</td><td>null</td><td>null</td><td>null</td><td>null</td><td>null</td><td>null</td><td>null</td><td>null</td><td>null</td><td>null</td><td>null</td><td>null</td><td>null</td><td>null</td><td>null</td><td>null</td><td>15.0</td><td>18.0</td><td>null</td><td>null</td><td>null</td></tr></tbody></table></div>"
            ]
          },
          "metadata": {},
          "execution_count": 11
        }
      ]
    },
    {
      "cell_type": "code",
      "source": [
        "# Types of variables\n",
        "\n",
        "for column, type_ in zip(df.columns, df.dtypes):\n",
        "  print(f\"{column:<50}{type_}\")"
      ],
      "metadata": {
        "colab": {
          "base_uri": "https://localhost:8080/"
        },
        "id": "6i95jh8RRk4v",
        "outputId": "45ad325b-f3c4-4d10-b1c7-534594262663"
      },
      "execution_count": 12,
      "outputs": [
        {
          "output_type": "stream",
          "name": "stdout",
          "text": [
            "lead_number                                       Int64\n",
            "lead_origin                                       Utf8\n",
            "lead_source                                       Utf8\n",
            "do_not_email                                      Utf8\n",
            "do_not_call                                       Utf8\n",
            "converted                                         Int64\n",
            "totalvisits                                       Float64\n",
            "total_time_spent_on_website                       Int64\n",
            "page_views_per_visit                              Float64\n",
            "last_activity                                     Utf8\n",
            "country                                           Utf8\n",
            "specialization                                    Utf8\n",
            "how_did_you_hear_about_x_education                Utf8\n",
            "what_is_your_current_occupation                   Utf8\n",
            "what_matters_most_to_you_in_choosing_a_course     Utf8\n",
            "search                                            Utf8\n",
            "magazine                                          Utf8\n",
            "newspaper_article                                 Utf8\n",
            "x_education_forums                                Utf8\n",
            "newspaper                                         Utf8\n",
            "digital_advertisement                             Utf8\n",
            "through_recommendations                           Utf8\n",
            "receive_more_updates_about_our_courses            Utf8\n",
            "tags                                              Utf8\n",
            "lead_quality                                      Utf8\n",
            "update_me_on_supply_chain_content                 Utf8\n",
            "get_updates_on_dm_content                         Utf8\n",
            "lead_profile                                      Utf8\n",
            "city                                              Utf8\n",
            "asymmetrique_activity_index                       Utf8\n",
            "asymmetrique_profile_index                        Utf8\n",
            "asymmetrique_activity_score                       Float64\n",
            "asymmetrique_profile_score                        Float64\n",
            "i_agree_to_pay_the_amount_through_cheque          Utf8\n",
            "a_free_copy_of_mastering_the_interview            Utf8\n",
            "last_notable_activity                             Utf8\n"
          ]
        }
      ]
    },
    {
      "cell_type": "markdown",
      "source": [
        "## Prep for modelling"
      ],
      "metadata": {
        "id": "MI067QMvvjAg"
      }
    },
    {
      "cell_type": "code",
      "source": [
        "# Assigning roles to variables\n",
        "\n",
        "df = df.with_columns(pl.col('total_time_spent_on_website').cast(pl.Float64))\n",
        "\n",
        "cat_vars = df.select([pl.col(pl.Utf8)]).columns\n",
        "num_vars = df.select([pl.col(pl.Float64)]).columns\n",
        "skip_vars = ['lead_number']\n",
        "target = 'converted'\n",
        "\n",
        "# Check that all variables were assigned the role\n",
        "assert len(df.columns) == len(cat_vars + num_vars + skip_vars + [target])\n"
      ],
      "metadata": {
        "id": "jSyKfz08Rcaw"
      },
      "execution_count": 13,
      "outputs": []
    },
    {
      "cell_type": "code",
      "source": [
        "X = df.select(cat_vars + num_vars)\n",
        "y = df.select(pl.col(target)).to_numpy().reshape(-1)\n",
        "\n",
        "X_train, X_test, y_train, y_test = train_test_split(X, y, test_size=0.2, random_state=0, shuffle=True)"
      ],
      "metadata": {
        "id": "Ugv2HRa7UWnA"
      },
      "execution_count": 14,
      "outputs": []
    },
    {
      "cell_type": "code",
      "source": [
        "cat_enc = OrdinalEncoder()\n",
        "cat_enc.fit(X.select(cat_vars))\n",
        "\n",
        "std_scaler =  StandardScaler()\n",
        "std_scaler.fit(X_train.select(num_vars))\n",
        "\n",
        "def preprocess(X, encoders):\n",
        "    X_partial_encodings = map(lambda enc: enc.transform(X.select(enc.feature_names_in_)), encoders)\n",
        "    return reduce(lambda x, y: np.concatenate([x, y], axis=1), X_partial_encodings)\n",
        "\n",
        "X_train_pp = preprocess(X_train, encoders=[cat_enc, std_scaler])\n",
        "X_test_pp = preprocess(X_test, encoders=[cat_enc, std_scaler])"
      ],
      "metadata": {
        "id": "WCvXL_1uPw5Z"
      },
      "execution_count": 15,
      "outputs": []
    },
    {
      "cell_type": "code",
      "source": [
        "def train_lgb(X_train, y_train,\n",
        "              X_test, y_test,\n",
        "              X_val=None, y_val=None,\n",
        "              params = {'objective': 'binary', 'n_estimators': 5000},\n",
        "              early_stopping_patience = 100,\n",
        "              ):\n",
        "  \n",
        "    std_scaler =  StandardScaler()\n",
        "    std_scaler.fit(X_train.select(num_vars))\n",
        "\n",
        "    X_train_pp = preprocess(X_train, encoders=[cat_enc, std_scaler])\n",
        "    X_test_pp = preprocess(X_test, encoders=[cat_enc, std_scaler])\n",
        "\n",
        "    if X_val is not None:\n",
        "        X_val_pp = preprocess(X_val, encoders=[cat_enc, std_scaler])\n",
        "        eval_set = [(X_val_pp, y_val)]\n",
        "        eval_names = 'val'\n",
        "    else:\n",
        "        eval_set = [(X_test_pp, y_test)]\n",
        "        eval_names = 'test'\n",
        "\n",
        "\n",
        "    \n",
        "    clf = lgb.sklearn.LGBMClassifier(**params)\n",
        "\n",
        "    \n",
        "    callbacks = [lgb.early_stopping(early_stopping_patience, verbose=False), lgb.log_evaluation(period=0)]\n",
        "\n",
        "    clf.fit(X_train_pp, y_train,\n",
        "            eval_set =  eval_set,\n",
        "            eval_names = eval_names,\n",
        "            callbacks=callbacks,\n",
        "            feature_name = cat_vars + num_vars,\n",
        "            #categorical_feature=list(range(len(cat_vars))),\n",
        "            )\n",
        "\n",
        "    return clf.score(X_test_pp, y_test), std_scaler, clf"
      ],
      "metadata": {
        "id": "wJP91bvsJZeK"
      },
      "execution_count": 58,
      "outputs": []
    },
    {
      "cell_type": "code",
      "source": [
        "def cross_validate(X_train, y_train, n_folds=5, params={'objective': 'binary', 'n_estimators': 5000}):\n",
        "\n",
        "    kf = KFold(n_splits=n_folds, shuffle=True, random_state=0)\n",
        "\n",
        "    metrics = []\n",
        "\n",
        "    for train_train_indices, train_val_test_indices in kf.split(X_train):\n",
        "\n",
        "        X_train_train = X_train[train_train_indices]\n",
        "        y_train_train = y_train[train_train_indices]\n",
        "\n",
        "        X_train_val_test = X_train[train_val_test_indices]\n",
        "        y_train_val_test = y_train[train_val_test_indices]\n",
        "        \n",
        "        X_train_val, X_train_test, y_train_val, y_train_test = train_test_split(X_train_val_test, y_train_val_test, test_size=0.5, random_state=0)\n",
        "\n",
        "        # metric, _, _ = train_lgb(X_train_train, y_train_train,\n",
        "        #                    X_train_test, y_train_test,\n",
        "        #                    X_val=X_train_val, y_val=y_train_val,\n",
        "        #                    params = params)\n",
        "        \n",
        "        metric, _, _ = train_lgb(X_train_train, y_train_train,\n",
        "                           X_train_val_test, y_train_val_test,\n",
        "\n",
        "                           params = params)\n",
        "        metrics.append(metric)\n",
        "\n",
        "    return mean(metrics)\n",
        "        \n",
        "  "
      ],
      "metadata": {
        "id": "UUFSvObBW8d7"
      },
      "execution_count": 56,
      "outputs": []
    },
    {
      "cell_type": "code",
      "source": [
        "def objective(trial):\n",
        "\n",
        "    # Define hyperparameters\n",
        "    params = {\n",
        "        'objective': 'binary',\n",
        "        'learning_rate': trial.suggest_float('learning_rate', 1e-4, 0.2),\n",
        "        'num_leaves': trial.suggest_int('num_leaves', 10, 128),\n",
        "        'min_child_samples': trial.suggest_int('min_child_samples', 10, 50),\n",
        "        'scale_pos_weight': trial.suggest_float('scale_pos_weight', 1, 10),\n",
        "        'reg_alpha': trial.suggest_float('reg_alpha', 0, 0.1),\n",
        "        'reg_lambda': trial.suggest_float('reg_lambda', 0, 0.1),\n",
        "        'n_estimators': 5000,\n",
        "    }\n",
        "    \n",
        "    # Train model\n",
        "    metric = cross_validate(X_train, y_train, n_folds=5, params=params)\n",
        "    \n",
        "    # Return cross-validated accuracy\n",
        "    return metric\n",
        "\n",
        "default_params = {\n",
        "                  'objective': 'binary',\n",
        "                  'learning_rate': 0.1,\n",
        "                  'num_leaves': 31,\n",
        "                  'min_child_samples': 20,\n",
        "                  'scale_pos_weight': 1,\n",
        "                  'reg_alpha': 0,\n",
        "                  'reg_lambda': 0,\n",
        "                  'n_estimators': 5000,\n",
        "                  }\n",
        "  \n",
        "study = optuna.create_study(direction='maximize', study_name=\"Buzzer: Propensity to buy\", sampler=optuna.samplers.TPESampler())\n",
        "study.enqueue_trial(default_params)\n",
        "\n",
        "study.optimize(objective, n_trials=200, gc_after_trial=True)"
      ],
      "metadata": {
        "colab": {
          "base_uri": "https://localhost:8080/"
        },
        "id": "tU4a9SJRrk_i",
        "outputId": "669d0011-4e89-4f61-fdf8-8ea79e8127e7"
      },
      "execution_count": 138,
      "outputs": [
        {
          "output_type": "stream",
          "name": "stderr",
          "text": [
            "\u001b[32m[I 2023-05-08 12:07:09,219]\u001b[0m A new study created in memory with name: Buzzer: Propensity to buy\u001b[0m\n",
            "\u001b[32m[I 2023-05-08 12:07:11,328]\u001b[0m Trial 0 finished with value: 0.9445350834095012 and parameters: {'learning_rate': 0.1, 'num_leaves': 31, 'min_child_samples': 20, 'scale_pos_weight': 1.0, 'reg_alpha': 0.0, 'reg_lambda': 0.0}. Best is trial 0 with value: 0.9445350834095012.\u001b[0m\n",
            "\u001b[32m[I 2023-05-08 12:07:17,104]\u001b[0m Trial 1 finished with value: 0.9389875029849558 and parameters: {'learning_rate': 0.104793105391747, 'num_leaves': 54, 'min_child_samples': 34, 'scale_pos_weight': 3.635216010692467, 'reg_alpha': 0.0628882803365363, 'reg_lambda': 0.07303490033767736}. Best is trial 0 with value: 0.9445350834095012.\u001b[0m\n",
            "\u001b[32m[I 2023-05-08 12:07:20,291]\u001b[0m Trial 2 finished with value: 0.9397995024616165 and parameters: {'learning_rate': 0.1415344536474595, 'num_leaves': 120, 'min_child_samples': 40, 'scale_pos_weight': 2.886175655244708, 'reg_alpha': 0.03823982294644845, 'reg_lambda': 0.08502910165164267}. Best is trial 0 with value: 0.9445350834095012.\u001b[0m\n",
            "\u001b[32m[I 2023-05-08 12:07:23,464]\u001b[0m Trial 3 finished with value: 0.9392584134582395 and parameters: {'learning_rate': 0.10846368913677862, 'num_leaves': 71, 'min_child_samples': 31, 'scale_pos_weight': 3.0631577365541163, 'reg_alpha': 0.0954322913615368, 'reg_lambda': 0.013994169123828693}. Best is trial 0 with value: 0.9445350834095012.\u001b[0m\n",
            "\u001b[32m[I 2023-05-08 12:07:30,439]\u001b[0m Trial 4 finished with value: 0.9372294669349238 and parameters: {'learning_rate': 0.09356425501030283, 'num_leaves': 112, 'min_child_samples': 49, 'scale_pos_weight': 8.932255429035479, 'reg_alpha': 0.09228397798780595, 'reg_lambda': 0.02382495938565168}. Best is trial 0 with value: 0.9445350834095012.\u001b[0m\n",
            "\u001b[32m[I 2023-05-08 12:07:33,251]\u001b[0m Trial 5 finished with value: 0.9364177419369596 and parameters: {'learning_rate': 0.11029579593484462, 'num_leaves': 15, 'min_child_samples': 44, 'scale_pos_weight': 4.673109451254451, 'reg_alpha': 0.021150561892433174, 'reg_lambda': 0.021072402821096417}. Best is trial 0 with value: 0.9445350834095012.\u001b[0m\n",
            "\u001b[32m[I 2023-05-08 12:07:41,076]\u001b[0m Trial 6 finished with value: 0.942640722940289 and parameters: {'learning_rate': 0.05100495042628257, 'num_leaves': 128, 'min_child_samples': 37, 'scale_pos_weight': 2.346141955647633, 'reg_alpha': 8.687243399723155e-05, 'reg_lambda': 0.05666908718567235}. Best is trial 0 with value: 0.9445350834095012.\u001b[0m\n",
            "\u001b[32m[I 2023-05-08 12:07:46,547]\u001b[0m Trial 7 finished with value: 0.9476464824182671 and parameters: {'learning_rate': 0.026642095919811957, 'num_leaves': 53, 'min_child_samples': 44, 'scale_pos_weight': 1.3792677932592925, 'reg_alpha': 0.07272601062032714, 'reg_lambda': 0.00921036889428869}. Best is trial 7 with value: 0.9476464824182671.\u001b[0m\n",
            "\u001b[32m[I 2023-05-08 12:07:49,978]\u001b[0m Trial 8 finished with value: 0.9356063829105904 and parameters: {'learning_rate': 0.13295389100966667, 'num_leaves': 100, 'min_child_samples': 25, 'scale_pos_weight': 5.7136846644830195, 'reg_alpha': 0.0007943656925752719, 'reg_lambda': 0.06413908113647986}. Best is trial 7 with value: 0.9476464824182671.\u001b[0m\n",
            "\u001b[32m[I 2023-05-08 12:07:57,038]\u001b[0m Trial 9 finished with value: 0.9352001544400131 and parameters: {'learning_rate': 0.0647438476146254, 'num_leaves': 49, 'min_child_samples': 49, 'scale_pos_weight': 9.117904100418066, 'reg_alpha': 0.042309014724211946, 'reg_lambda': 0.03988299146148762}. Best is trial 7 with value: 0.9476464824182671.\u001b[0m\n",
            "\u001b[32m[I 2023-05-08 12:09:00,549]\u001b[0m Trial 10 finished with value: 0.9450752574838904 and parameters: {'learning_rate': 0.00350980923745408, 'num_leaves': 84, 'min_child_samples': 10, 'scale_pos_weight': 1.1768836908019686, 'reg_alpha': 0.06711981886857563, 'reg_lambda': 0.03955739585955686}. Best is trial 7 with value: 0.9476464824182671.\u001b[0m\n",
            "\u001b[32m[I 2023-05-08 12:10:12,799]\u001b[0m Trial 11 finished with value: 0.9462933024453307 and parameters: {'learning_rate': 0.0018697066988097274, 'num_leaves': 80, 'min_child_samples': 13, 'scale_pos_weight': 1.3212639649905207, 'reg_alpha': 0.0669707222031491, 'reg_lambda': 0.04120753086106012}. Best is trial 7 with value: 0.9476464824182671.\u001b[0m\n",
            "\u001b[32m[I 2023-05-08 12:11:49,197]\u001b[0m Trial 12 finished with value: 0.9458871654676522 and parameters: {'learning_rate': 0.0014186109829275352, 'num_leaves': 86, 'min_child_samples': 11, 'scale_pos_weight': 1.0411507674125604, 'reg_alpha': 0.0745427357644598, 'reg_lambda': 0.04359029554294025}. Best is trial 7 with value: 0.9476464824182671.\u001b[0m\n",
            "\u001b[32m[I 2023-05-08 12:11:51,430]\u001b[0m Trial 13 finished with value: 0.9435874914568506 and parameters: {'learning_rate': 0.1997216874173034, 'num_leaves': 47, 'min_child_samples': 18, 'scale_pos_weight': 2.1660724275717977, 'reg_alpha': 0.054870919412042446, 'reg_lambda': 0.09530679899830632}. Best is trial 7 with value: 0.9476464824182671.\u001b[0m\n",
            "\u001b[32m[I 2023-05-08 12:12:00,454]\u001b[0m Trial 14 finished with value: 0.93885309991665 and parameters: {'learning_rate': 0.02942793316881895, 'num_leaves': 68, 'min_child_samples': 27, 'scale_pos_weight': 4.468290442027692, 'reg_alpha': 0.0776219775688731, 'reg_lambda': 0.0008534310596508606}. Best is trial 7 with value: 0.9476464824182671.\u001b[0m\n",
            "\u001b[32m[I 2023-05-08 12:12:06,435]\u001b[0m Trial 15 finished with value: 0.942640722940289 and parameters: {'learning_rate': 0.027078864180849527, 'num_leaves': 69, 'min_child_samples': 17, 'scale_pos_weight': 2.0243678067972475, 'reg_alpha': 0.0867979897103045, 'reg_lambda': 0.031229433822661336}. Best is trial 7 with value: 0.9476464824182671.\u001b[0m\n",
            "\u001b[32m[I 2023-05-08 12:12:15,543]\u001b[0m Trial 16 finished with value: 0.939258596444037 and parameters: {'learning_rate': 0.026065072774145076, 'num_leaves': 29, 'min_child_samples': 42, 'scale_pos_weight': 3.7020368204508194, 'reg_alpha': 0.08207888391783692, 'reg_lambda': 0.04984035057016007}. Best is trial 7 with value: 0.9476464824182671.\u001b[0m\n",
            "\u001b[32m[I 2023-05-08 12:14:13,215]\u001b[0m Trial 17 finished with value: 0.9362826984183622 and parameters: {'learning_rate': 0.0015797707758388284, 'num_leaves': 97, 'min_child_samples': 25, 'scale_pos_weight': 6.277781846598517, 'reg_alpha': 0.09994197260064734, 'reg_lambda': 0.015072175951239818}. Best is trial 7 with value: 0.9476464824182671.\u001b[0m\n",
            "\u001b[32m[I 2023-05-08 12:14:17,126]\u001b[0m Trial 18 finished with value: 0.9446701269280985 and parameters: {'learning_rate': 0.052149517954162436, 'num_leaves': 57, 'min_child_samples': 32, 'scale_pos_weight': 1.8042093084031336, 'reg_alpha': 0.06700400460261623, 'reg_lambda': 0.030721924251495218}. Best is trial 7 with value: 0.9476464824182671.\u001b[0m\n",
            "\u001b[32m[I 2023-05-08 12:14:26,799]\u001b[0m Trial 19 finished with value: 0.9414228609646462 and parameters: {'learning_rate': 0.02279814976136734, 'num_leaves': 37, 'min_child_samples': 46, 'scale_pos_weight': 2.9610583489968434, 'reg_alpha': 0.055466121589521945, 'reg_lambda': 0.05653813392216413}. Best is trial 7 with value: 0.9476464824182671.\u001b[0m\n",
            "\u001b[32m[I 2023-05-08 12:14:30,640]\u001b[0m Trial 20 finished with value: 0.9430465854392711 and parameters: {'learning_rate': 0.06857334270044696, 'num_leaves': 82, 'min_child_samples': 37, 'scale_pos_weight': 2.088769262742329, 'reg_alpha': 0.08528387371569725, 'reg_lambda': 0.007058604275200969}. Best is trial 7 with value: 0.9476464824182671.\u001b[0m\n",
            "\u001b[32m[I 2023-05-08 12:15:15,870]\u001b[0m Trial 21 finished with value: 0.9458868909889558 and parameters: {'learning_rate': 0.0035647279579462867, 'num_leaves': 86, 'min_child_samples': 10, 'scale_pos_weight': 1.0714603445152584, 'reg_alpha': 0.076711902552855, 'reg_lambda': 0.0416114901065331}. Best is trial 7 with value: 0.9476464824182671.\u001b[0m\n",
            "\u001b[32m[I 2023-05-08 12:15:33,922]\u001b[0m Trial 22 finished with value: 0.9435874914568506 and parameters: {'learning_rate': 0.009407776015874031, 'num_leaves': 101, 'min_child_samples': 14, 'scale_pos_weight': 1.4776517834040472, 'reg_alpha': 0.07350741909336, 'reg_lambda': 0.029048815584918862}. Best is trial 7 with value: 0.9476464824182671.\u001b[0m\n",
            "\u001b[32m[I 2023-05-08 12:15:41,754]\u001b[0m Trial 23 finished with value: 0.9452112159314755 and parameters: {'learning_rate': 0.037429006391871425, 'num_leaves': 75, 'min_child_samples': 14, 'scale_pos_weight': 1.5914679030884085, 'reg_alpha': 0.07153989967898883, 'reg_lambda': 0.04558707280892567}. Best is trial 7 with value: 0.9476464824182671.\u001b[0m\n",
            "\u001b[32m[I 2023-05-08 12:15:52,671]\u001b[0m Trial 24 finished with value: 0.9433172214338584 and parameters: {'learning_rate': 0.016588492356265954, 'num_leaves': 59, 'min_child_samples': 20, 'scale_pos_weight': 2.394802510314097, 'reg_alpha': 0.0620554010862244, 'reg_lambda': 0.034010100449824665}. Best is trial 7 with value: 0.9476464824182671.\u001b[0m\n",
            "\u001b[32m[I 2023-05-08 12:16:01,226]\u001b[0m Trial 25 finished with value: 0.9465639384399179 and parameters: {'learning_rate': 0.015433952796189546, 'num_leaves': 64, 'min_child_samples': 13, 'scale_pos_weight': 1.019956944342081, 'reg_alpha': 0.07845237799328694, 'reg_lambda': 0.020911249539635857}. Best is trial 7 with value: 0.9476464824182671.\u001b[0m\n",
            "\u001b[32m[I 2023-05-08 12:16:08,258]\u001b[0m Trial 26 finished with value: 0.9443993994406125 and parameters: {'learning_rate': 0.04227603462380324, 'num_leaves': 42, 'min_child_samples': 22, 'scale_pos_weight': 1.792321923852243, 'reg_alpha': 0.08296737263406605, 'reg_lambda': 0.017122357893878674}. Best is trial 7 with value: 0.9476464824182671.\u001b[0m\n",
            "\u001b[32m[I 2023-05-08 12:16:19,691]\u001b[0m Trial 27 finished with value: 0.9418289979423247 and parameters: {'learning_rate': 0.015839348387262624, 'num_leaves': 62, 'min_child_samples': 16, 'scale_pos_weight': 2.416619967553464, 'reg_alpha': 0.0891057410400735, 'reg_lambda': 0.008187371034813146}. Best is trial 7 with value: 0.9476464824182671.\u001b[0m\n",
            "\u001b[32m[I 2023-05-08 12:16:25,088]\u001b[0m Trial 28 finished with value: 0.9450760809199794 and parameters: {'learning_rate': 0.01924082157142897, 'num_leaves': 15, 'min_child_samples': 28, 'scale_pos_weight': 1.5389983504534936, 'reg_alpha': 0.07973605816535899, 'reg_lambda': 0.023950730587097048}. Best is trial 7 with value: 0.9476464824182671.\u001b[0m\n",
            "\u001b[32m[I 2023-05-08 12:16:32,883]\u001b[0m Trial 29 finished with value: 0.9465638469470192 and parameters: {'learning_rate': 0.03871469572602511, 'num_leaves': 76, 'min_child_samples': 22, 'scale_pos_weight': 1.1136511096550603, 'reg_alpha': 0.07041874660915333, 'reg_lambda': 0.0026818655964465487}. Best is trial 7 with value: 0.9476464824182671.\u001b[0m\n",
            "\u001b[32m[I 2023-05-08 12:16:36,650]\u001b[0m Trial 30 finished with value: 0.9457526709064475 and parameters: {'learning_rate': 0.037216707100505585, 'num_leaves': 25, 'min_child_samples': 22, 'scale_pos_weight': 1.0450930270084835, 'reg_alpha': 0.0912103489295204, 'reg_lambda': 0.00019166159006382515}. Best is trial 7 with value: 0.9476464824182671.\u001b[0m\n",
            "\u001b[32m[I 2023-05-08 12:16:48,034]\u001b[0m Trial 31 finished with value: 0.9445347174379061 and parameters: {'learning_rate': 0.01702770666902362, 'num_leaves': 79, 'min_child_samples': 13, 'scale_pos_weight': 1.6045660415076384, 'reg_alpha': 0.0702751315002823, 'reg_lambda': 0.01022807808643501}. Best is trial 7 with value: 0.9476464824182671.\u001b[0m\n",
            "\u001b[32m[I 2023-05-08 12:16:52,843]\u001b[0m Trial 32 finished with value: 0.9485927934703348 and parameters: {'learning_rate': 0.033968063922897224, 'num_leaves': 64, 'min_child_samples': 19, 'scale_pos_weight': 1.0594432618790288, 'reg_alpha': 0.06119065425258475, 'reg_lambda': 0.005633675687552972}. Best is trial 32 with value: 0.9485927934703348.\u001b[0m\n",
            "\u001b[32m[I 2023-05-08 12:16:59,898]\u001b[0m Trial 33 finished with value: 0.9416937714379299 and parameters: {'learning_rate': 0.04928872996447464, 'num_leaves': 64, 'min_child_samples': 20, 'scale_pos_weight': 2.63802790574294, 'reg_alpha': 0.05939798250617277, 'reg_lambda': 0.005314409416089837}. Best is trial 32 with value: 0.9485927934703348.\u001b[0m\n",
            "\u001b[32m[I 2023-05-08 12:17:04,470]\u001b[0m Trial 34 finished with value: 0.9462939428956222 and parameters: {'learning_rate': 0.03361799931876659, 'num_leaves': 50, 'min_child_samples': 23, 'scale_pos_weight': 1.0342479635651012, 'reg_alpha': 0.06026474988915132, 'reg_lambda': 0.012680124229927833}. Best is trial 32 with value: 0.9485927934703348.\u001b[0m\n",
            "\u001b[32m[I 2023-05-08 12:17:11,675]\u001b[0m Trial 35 finished with value: 0.9410169069727653 and parameters: {'learning_rate': 0.06175415611353017, 'num_leaves': 93, 'min_child_samples': 35, 'scale_pos_weight': 3.0568782401255614, 'reg_alpha': 0.04914375334601326, 'reg_lambda': 0.018321591226964355}. Best is trial 32 with value: 0.9485927934703348.\u001b[0m\n",
            "\u001b[32m[I 2023-05-08 12:17:14,851]\u001b[0m Trial 36 finished with value: 0.9442643559220151 and parameters: {'learning_rate': 0.07348992168158161, 'num_leaves': 55, 'min_child_samples': 18, 'scale_pos_weight': 1.8456194466084175, 'reg_alpha': 0.0790889117684423, 'reg_lambda': 0.007116811909815264}. Best is trial 32 with value: 0.9485927934703348.\u001b[0m\n",
            "\u001b[32m[I 2023-05-08 12:17:20,337]\u001b[0m Trial 37 finished with value: 0.9402055479463961 and parameters: {'learning_rate': 0.04057215687934592, 'num_leaves': 72, 'min_child_samples': 29, 'scale_pos_weight': 3.404145685114724, 'reg_alpha': 0.06610738870446019, 'reg_lambda': 0.011240220894372358}. Best is trial 32 with value: 0.9485927934703348.\u001b[0m\n",
            "\u001b[32m[I 2023-05-08 12:17:29,666]\u001b[0m Trial 38 finished with value: 0.9403411404223861 and parameters: {'learning_rate': 0.027931100471145234, 'num_leaves': 109, 'min_child_samples': 24, 'scale_pos_weight': 2.6773082952143374, 'reg_alpha': 0.07332451350883498, 'reg_lambda': 0.02108900874759833}. Best is trial 32 with value: 0.9485927934703348.\u001b[0m\n",
            "\u001b[32m[I 2023-05-08 12:17:32,653]\u001b[0m Trial 39 finished with value: 0.9460226664507434 and parameters: {'learning_rate': 0.08035627945191445, 'num_leaves': 36, 'min_child_samples': 40, 'scale_pos_weight': 2.084802884062051, 'reg_alpha': 0.08764760943150494, 'reg_lambda': 3.0483275022962723e-05}. Best is trial 32 with value: 0.9485927934703348.\u001b[0m\n",
            "\u001b[32m[I 2023-05-08 12:17:39,352]\u001b[0m Trial 40 finished with value: 0.9468342999558089 and parameters: {'learning_rate': 0.053128417534864816, 'num_leaves': 64, 'min_child_samples': 16, 'scale_pos_weight': 1.3996064191968431, 'reg_alpha': 0.06343917841692698, 'reg_lambda': 0.015122860173855474}. Best is trial 32 with value: 0.9485927934703348.\u001b[0m\n",
            "\u001b[32m[I 2023-05-08 12:17:43,251]\u001b[0m Trial 41 finished with value: 0.9453464424358704 and parameters: {'learning_rate': 0.05598999622131714, 'num_leaves': 65, 'min_child_samples': 16, 'scale_pos_weight': 1.4916453868864434, 'reg_alpha': 0.0636507489875442, 'reg_lambda': 0.014878783151011871}. Best is trial 32 with value: 0.9485927934703348.\u001b[0m\n",
            "\u001b[32m[I 2023-05-08 12:17:49,886]\u001b[0m Trial 42 finished with value: 0.9460230324223385 and parameters: {'learning_rate': 0.0446684129167486, 'num_leaves': 52, 'min_child_samples': 15, 'scale_pos_weight': 1.0129728744666573, 'reg_alpha': 0.06989446868075673, 'reg_lambda': 0.004543571917387286}. Best is trial 32 with value: 0.9485927934703348.\u001b[0m\n",
            "\u001b[32m[I 2023-05-08 12:17:54,238]\u001b[0m Trial 43 finished with value: 0.9458874399463486 and parameters: {'learning_rate': 0.048317110097006136, 'num_leaves': 75, 'min_child_samples': 19, 'scale_pos_weight': 1.4764598713957475, 'reg_alpha': 0.057142055909961444, 'reg_lambda': 0.013095205785774727}. Best is trial 32 with value: 0.9485927934703348.\u001b[0m\n",
            "\u001b[32m[I 2023-05-08 12:17:57,722]\u001b[0m Trial 44 finished with value: 0.9425053134500966 and parameters: {'learning_rate': 0.060227160250085836, 'num_leaves': 45, 'min_child_samples': 12, 'scale_pos_weight': 2.3773707278424334, 'reg_alpha': 0.05210921671259734, 'reg_lambda': 0.023560982951602083}. Best is trial 32 with value: 0.9485927934703348.\u001b[0m\n",
            "\u001b[32m[I 2023-05-08 12:18:05,530]\u001b[0m Trial 45 finished with value: 0.9426405399544915 and parameters: {'learning_rate': 0.034802224088189726, 'num_leaves': 60, 'min_child_samples': 21, 'scale_pos_weight': 1.9132956692855319, 'reg_alpha': 0.06182584803955994, 'reg_lambda': 0.004641745766829341}. Best is trial 32 with value: 0.9485927934703348.\u001b[0m\n",
            "\u001b[32m[I 2023-05-08 12:18:11,074]\u001b[0m Trial 46 finished with value: 0.9448053534324934 and parameters: {'learning_rate': 0.030625112441984893, 'num_leaves': 67, 'min_child_samples': 26, 'scale_pos_weight': 1.3719671566715723, 'reg_alpha': 0.07663427094855105, 'reg_lambda': 0.019035769012348693}. Best is trial 32 with value: 0.9485927934703348.\u001b[0m\n",
            "\u001b[32m[I 2023-05-08 12:18:29,904]\u001b[0m Trial 47 finished with value: 0.941422952457545 and parameters: {'learning_rate': 0.012014507942244108, 'num_leaves': 89, 'min_child_samples': 31, 'scale_pos_weight': 2.7867473100976876, 'reg_alpha': 0.06491738127635496, 'reg_lambda': 0.010423490763477612}. Best is trial 32 with value: 0.9485927934703348.\u001b[0m\n",
            "\u001b[32m[I 2023-05-08 12:18:34,018]\u001b[0m Trial 48 finished with value: 0.9430469514108663 and parameters: {'learning_rate': 0.05436718019124229, 'num_leaves': 76, 'min_child_samples': 17, 'scale_pos_weight': 1.99103201012502, 'reg_alpha': 0.07025161229015649, 'reg_lambda': 0.014659909485229324}. Best is trial 32 with value: 0.9485927934703348.\u001b[0m\n",
            "\u001b[32m[I 2023-05-08 12:18:43,092]\u001b[0m Trial 49 finished with value: 0.9453468084074654 and parameters: {'learning_rate': 0.021325451370423014, 'num_leaves': 54, 'min_child_samples': 19, 'scale_pos_weight': 1.3419895487333957, 'reg_alpha': 0.08123414579999857, 'reg_lambda': 0.003864025929407055}. Best is trial 32 with value: 0.9485927934703348.\u001b[0m\n",
            "\u001b[32m[I 2023-05-08 12:18:46,979]\u001b[0m Trial 50 finished with value: 0.943317404419656 and parameters: {'learning_rate': 0.043991338781407444, 'num_leaves': 40, 'min_child_samples': 45, 'scale_pos_weight': 2.3883128451430227, 'reg_alpha': 0.04805020096543587, 'reg_lambda': 0.00849058742641201}. Best is trial 32 with value: 0.9485927934703348.\u001b[0m\n",
            "\u001b[32m[I 2023-05-08 12:18:54,261]\u001b[0m Trial 51 finished with value: 0.9456171699233564 and parameters: {'learning_rate': 0.03144830095440916, 'num_leaves': 50, 'min_child_samples': 24, 'scale_pos_weight': 1.0237534928148655, 'reg_alpha': 0.06034089542731315, 'reg_lambda': 0.012309322659715518}. Best is trial 32 with value: 0.9485927934703348.\u001b[0m\n",
            "\u001b[32m[I 2023-05-08 12:18:59,329]\u001b[0m Trial 52 finished with value: 0.9457521219490549 and parameters: {'learning_rate': 0.03517964972302575, 'num_leaves': 69, 'min_child_samples': 22, 'scale_pos_weight': 1.3149625340468887, 'reg_alpha': 0.05925347326844242, 'reg_lambda': 0.01797263061683405}. Best is trial 32 with value: 0.9485927934703348.\u001b[0m\n",
            "\u001b[32m[I 2023-05-08 12:19:08,294]\u001b[0m Trial 53 finished with value: 0.9466992564372116 and parameters: {'learning_rate': 0.02265059740700584, 'num_leaves': 46, 'min_child_samples': 23, 'scale_pos_weight': 1.004038646369748, 'reg_alpha': 0.06589611033504839, 'reg_lambda': 0.002917474013881727}. Best is trial 32 with value: 0.9485927934703348.\u001b[0m\n",
            "\u001b[32m[I 2023-05-08 12:19:24,300]\u001b[0m Trial 54 finished with value: 0.9450753489767891 and parameters: {'learning_rate': 0.009237921377418074, 'num_leaves': 57, 'min_child_samples': 12, 'scale_pos_weight': 1.747312628405751, 'reg_alpha': 0.06747392583026059, 'reg_lambda': 0.004392272719802061}. Best is trial 32 with value: 0.9485927934703348.\u001b[0m\n",
            "\u001b[32m[I 2023-05-08 12:19:33,557]\u001b[0m Trial 55 finished with value: 0.9435876744426481 and parameters: {'learning_rate': 0.024040062612163425, 'num_leaves': 45, 'min_child_samples': 49, 'scale_pos_weight': 2.156538090609435, 'reg_alpha': 0.07319032197579038, 'reg_lambda': 0.00201952585474075}. Best is trial 32 with value: 0.9485927934703348.\u001b[0m\n",
            "\u001b[32m[I 2023-05-08 12:19:48,088]\u001b[0m Trial 56 finished with value: 0.9465638469470192 and parameters: {'learning_rate': 0.010460825287552464, 'num_leaves': 62, 'min_child_samples': 15, 'scale_pos_weight': 1.330891009089111, 'reg_alpha': 0.07719963641823842, 'reg_lambda': 0.007488749082676599}. Best is trial 32 with value: 0.9485927934703348.\u001b[0m\n",
            "\u001b[32m[I 2023-05-08 12:19:53,168]\u001b[0m Trial 57 finished with value: 0.9443985760045234 and parameters: {'learning_rate': 0.02394338610835515, 'num_leaves': 21, 'min_child_samples': 18, 'scale_pos_weight': 1.747711926487428, 'reg_alpha': 0.06474546452183594, 'reg_lambda': 8.768349555273933e-05}. Best is trial 32 with value: 0.9485927934703348.\u001b[0m\n",
            "\u001b[32m[I 2023-05-08 12:19:59,510]\u001b[0m Trial 58 finished with value: 0.9458875314392473 and parameters: {'learning_rate': 0.04314012365787853, 'num_leaves': 30, 'min_child_samples': 33, 'scale_pos_weight': 1.3108890316804451, 'reg_alpha': 0.08374308499222577, 'reg_lambda': 0.008185883256792273}. Best is trial 32 with value: 0.9485927934703348.\u001b[0m\n",
            "\u001b[32m[I 2023-05-08 12:20:03,644]\u001b[0m Trial 59 finished with value: 0.9439934454487315 and parameters: {'learning_rate': 0.05239152346282197, 'num_leaves': 70, 'min_child_samples': 26, 'scale_pos_weight': 1.71302825715541, 'reg_alpha': 0.054637916795928665, 'reg_lambda': 0.01592136095703456}. Best is trial 32 with value: 0.9485927934703348.\u001b[0m\n",
            "\u001b[32m[I 2023-05-08 12:20:26,980]\u001b[0m Trial 60 finished with value: 0.9412877259531501 and parameters: {'learning_rate': 0.007656720592346016, 'num_leaves': 79, 'min_child_samples': 10, 'scale_pos_weight': 2.198108586324123, 'reg_alpha': 0.07348156787424942, 'reg_lambda': 0.025968118657980502}. Best is trial 32 with value: 0.9485927934703348.\u001b[0m\n",
            "\u001b[32m[I 2023-05-08 12:20:38,134]\u001b[0m Trial 61 finished with value: 0.9466992564372116 and parameters: {'learning_rate': 0.01769519928993814, 'num_leaves': 63, 'min_child_samples': 14, 'scale_pos_weight': 1.3000955619800016, 'reg_alpha': 0.07873839706826338, 'reg_lambda': 0.010944656672604938}. Best is trial 32 with value: 0.9485927934703348.\u001b[0m\n",
            "\u001b[32m[I 2023-05-08 12:20:47,072]\u001b[0m Trial 62 finished with value: 0.9466994394230092 and parameters: {'learning_rate': 0.014653296388656851, 'num_leaves': 59, 'min_child_samples': 14, 'scale_pos_weight': 1.263125042959708, 'reg_alpha': 0.0674365103035702, 'reg_lambda': 0.010678909979049765}. Best is trial 32 with value: 0.9485927934703348.\u001b[0m\n",
            "\u001b[32m[I 2023-05-08 12:20:57,737]\u001b[0m Trial 63 finished with value: 0.9460226664507434 and parameters: {'learning_rate': 0.016150435677447762, 'num_leaves': 55, 'min_child_samples': 12, 'scale_pos_weight': 1.5806138007722113, 'reg_alpha': 0.0756324838176926, 'reg_lambda': 0.010368857140907295}. Best is trial 32 with value: 0.9485927934703348.\u001b[0m\n",
            "\u001b[32m[I 2023-05-08 12:21:07,160]\u001b[0m Trial 64 finished with value: 0.9442638069646224 and parameters: {'learning_rate': 0.0229466717143569, 'num_leaves': 60, 'min_child_samples': 14, 'scale_pos_weight': 1.8559410881536424, 'reg_alpha': 0.0672921824577353, 'reg_lambda': 0.021078913388343803}. Best is trial 32 with value: 0.9485927934703348.\u001b[0m\n",
            "\u001b[32m[I 2023-05-08 12:21:26,431]\u001b[0m Trial 65 finished with value: 0.9473757549307811 and parameters: {'learning_rate': 0.0064431699128449475, 'num_leaves': 47, 'min_child_samples': 16, 'scale_pos_weight': 1.3369389119176378, 'reg_alpha': 0.0799676545768362, 'reg_lambda': 0.01440278325297087}. Best is trial 32 with value: 0.9485927934703348.\u001b[0m\n",
            "\u001b[32m[I 2023-05-08 12:22:32,224]\u001b[0m Trial 66 finished with value: 0.9456171699233564 and parameters: {'learning_rate': 0.0014378108991866846, 'num_leaves': 35, 'min_child_samples': 17, 'scale_pos_weight': 1.2981080739556572, 'reg_alpha': 0.08363644701185155, 'reg_lambda': 0.014509451154320242}. Best is trial 32 with value: 0.9485927934703348.\u001b[0m\n",
            "\u001b[32m[I 2023-05-08 12:22:40,372]\u001b[0m Trial 67 finished with value: 0.9437228094541442 and parameters: {'learning_rate': 0.027351507144243854, 'num_leaves': 47, 'min_child_samples': 16, 'scale_pos_weight': 2.060475716831046, 'reg_alpha': 0.08090917119485413, 'reg_lambda': 0.0059794963242302285}. Best is trial 32 with value: 0.9485927934703348.\u001b[0m\n",
            "\u001b[32m[I 2023-05-08 12:23:17,727]\u001b[0m Trial 68 finished with value: 0.9420999084156083 and parameters: {'learning_rate': 0.0038991211211694132, 'num_leaves': 43, 'min_child_samples': 20, 'scale_pos_weight': 2.6498313734303913, 'reg_alpha': 0.06870642819775565, 'reg_lambda': 0.011492455545730687}. Best is trial 32 with value: 0.9485927934703348.\u001b[0m\n",
            "\u001b[32m[I 2023-05-08 12:23:28,819]\u001b[0m Trial 69 finished with value: 0.9461578929551383 and parameters: {'learning_rate': 0.015166537025060337, 'num_leaves': 39, 'min_child_samples': 15, 'scale_pos_weight': 1.5500441222863346, 'reg_alpha': 0.06225631608345013, 'reg_lambda': 0.016561834152098824}. Best is trial 32 with value: 0.9485927934703348.\u001b[0m\n",
            "\u001b[32m[I 2023-05-08 12:24:51,503]\u001b[0m Trial 70 finished with value: 0.9335780768375662 and parameters: {'learning_rate': 0.00015840762257035915, 'num_leaves': 49, 'min_child_samples': 19, 'scale_pos_weight': 1.226020229018283, 'reg_alpha': 0.07210525489962395, 'reg_lambda': 0.009189311890460145}. Best is trial 32 with value: 0.9485927934703348.\u001b[0m\n",
            "\u001b[32m[I 2023-05-08 12:25:01,927]\u001b[0m Trial 71 finished with value: 0.9462929364737356 and parameters: {'learning_rate': 0.019135419653919294, 'num_leaves': 64, 'min_child_samples': 13, 'scale_pos_weight': 1.0017224692329871, 'reg_alpha': 0.06481377368359245, 'reg_lambda': 0.019541148852409443}. Best is trial 32 with value: 0.9485927934703348.\u001b[0m\n",
            "\u001b[32m[I 2023-05-08 12:25:15,700]\u001b[0m Trial 72 finished with value: 0.9445346259450073 and parameters: {'learning_rate': 0.011960721339577412, 'num_leaves': 58, 'min_child_samples': 11, 'scale_pos_weight': 1.8045460247203993, 'reg_alpha': 0.07951035139506389, 'reg_lambda': 0.013309543744323584}. Best is trial 32 with value: 0.9485927934703348.\u001b[0m\n",
            "\u001b[32m[I 2023-05-08 12:25:20,642]\u001b[0m Trial 73 finished with value: 0.9471052104290926 and parameters: {'learning_rate': 0.03055864359073645, 'num_leaves': 52, 'min_child_samples': 13, 'scale_pos_weight': 1.2399259073669884, 'reg_alpha': 0.07721082856956364, 'reg_lambda': 0.006715572731643409}. Best is trial 32 with value: 0.9485927934703348.\u001b[0m\n",
            "\u001b[32m[I 2023-05-08 12:25:28,711]\u001b[0m Trial 74 finished with value: 0.9457526709064477 and parameters: {'learning_rate': 0.02971526588888897, 'num_leaves': 52, 'min_child_samples': 17, 'scale_pos_weight': 1.448312765061001, 'reg_alpha': 0.07605618625174493, 'reg_lambda': 0.002911878533403055}. Best is trial 32 with value: 0.9485927934703348.\u001b[0m\n",
            "\u001b[32m[I 2023-05-08 12:25:33,589]\u001b[0m Trial 75 finished with value: 0.9429111759490787 and parameters: {'learning_rate': 0.037090528632298295, 'num_leaves': 52, 'min_child_samples': 14, 'scale_pos_weight': 2.344833768285514, 'reg_alpha': 0.08536015431722446, 'reg_lambda': 0.006254080658959367}. Best is trial 32 with value: 0.9485927934703348.\u001b[0m\n",
            "\u001b[32m[I 2023-05-08 12:25:43,839]\u001b[0m Trial 76 finished with value: 0.9461580759409358 and parameters: {'learning_rate': 0.021345476858960804, 'num_leaves': 72, 'min_child_samples': 41, 'scale_pos_weight': 1.6559907921657886, 'reg_alpha': 0.06856396835997489, 'reg_lambda': 0.009817596490523823}. Best is trial 32 with value: 0.9485927934703348.\u001b[0m\n",
            "\u001b[32m[I 2023-05-08 12:25:51,900]\u001b[0m Trial 77 finished with value: 0.9472404369334874 and parameters: {'learning_rate': 0.026888402344925753, 'num_leaves': 47, 'min_child_samples': 36, 'scale_pos_weight': 1.1925010146400683, 'reg_alpha': 0.07447281646559649, 'reg_lambda': 0.002703390880785593}. Best is trial 32 with value: 0.9485927934703348.\u001b[0m\n",
            "\u001b[32m[I 2023-05-08 12:25:57,048]\u001b[0m Trial 78 finished with value: 0.9456171699233564 and parameters: {'learning_rate': 0.027541198917911743, 'num_leaves': 32, 'min_child_samples': 36, 'scale_pos_weight': 1.9510915826907502, 'reg_alpha': 0.073990011406358, 'reg_lambda': 0.0014633049505649912}. Best is trial 32 with value: 0.9485927934703348.\u001b[0m\n",
            "\u001b[32m[I 2023-05-08 12:26:16,537]\u001b[0m Trial 79 finished with value: 0.947781708922662 and parameters: {'learning_rate': 0.007376574608151169, 'num_leaves': 47, 'min_child_samples': 47, 'scale_pos_weight': 1.1820133111970712, 'reg_alpha': 0.07039550734371654, 'reg_lambda': 0.0060019765135854285}. Best is trial 32 with value: 0.9485927934703348.\u001b[0m\n",
            "\u001b[32m[I 2023-05-08 12:26:31,314]\u001b[0m Trial 80 finished with value: 0.9452111244385767 and parameters: {'learning_rate': 0.009221020217194906, 'num_leaves': 43, 'min_child_samples': 50, 'scale_pos_weight': 1.6049743422077518, 'reg_alpha': 0.0709163241300045, 'reg_lambda': 0.006097779437052498}. Best is trial 32 with value: 0.9485927934703348.\u001b[0m\n",
            "\u001b[32m[I 2023-05-08 12:26:50,546]\u001b[0m Trial 81 finished with value: 0.9487289349037175 and parameters: {'learning_rate': 0.00634794306637913, 'num_leaves': 47, 'min_child_samples': 47, 'scale_pos_weight': 1.1940827604728055, 'reg_alpha': 0.06580867113767158, 'reg_lambda': 0.003163616443393918}. Best is trial 81 with value: 0.9487289349037175.\u001b[0m\n",
            "\u001b[32m[I 2023-05-08 12:27:10,434]\u001b[0m Trial 82 finished with value: 0.9485937998922214 and parameters: {'learning_rate': 0.007165958154582154, 'num_leaves': 49, 'min_child_samples': 47, 'scale_pos_weight': 1.175576493780083, 'reg_alpha': 0.07569162000941403, 'reg_lambda': 0.006861822419547226}. Best is trial 81 with value: 0.9487289349037175.\u001b[0m\n",
            "\u001b[32m[I 2023-05-08 12:27:37,819]\u001b[0m Trial 83 finished with value: 0.9466997139017055 and parameters: {'learning_rate': 0.004132000317887205, 'num_leaves': 41, 'min_child_samples': 47, 'scale_pos_weight': 1.205909922540566, 'reg_alpha': 0.07511726492744124, 'reg_lambda': 0.006674266654064432}. Best is trial 81 with value: 0.9487289349037175.\u001b[0m\n",
            "\u001b[32m[I 2023-05-08 12:27:56,326]\u001b[0m Trial 84 finished with value: 0.9475115303925686 and parameters: {'learning_rate': 0.006807370650575232, 'num_leaves': 48, 'min_child_samples': 43, 'scale_pos_weight': 1.452555460368535, 'reg_alpha': 0.07169292276632049, 'reg_lambda': 0.0030878045603337074}. Best is trial 81 with value: 0.9487289349037175.\u001b[0m\n",
            "\u001b[32m[I 2023-05-08 12:28:20,896]\u001b[0m Trial 85 finished with value: 0.9453463509429716 and parameters: {'learning_rate': 0.00553080966204283, 'num_leaves': 38, 'min_child_samples': 44, 'scale_pos_weight': 1.9762941589279959, 'reg_alpha': 0.07252190016366418, 'reg_lambda': 0.002869904718090857}. Best is trial 81 with value: 0.9487289349037175.\u001b[0m\n",
            "\u001b[32m[I 2023-05-08 12:28:41,607]\u001b[0m Trial 86 finished with value: 0.9462932109524319 and parameters: {'learning_rate': 0.00684587324522941, 'num_leaves': 34, 'min_child_samples': 43, 'scale_pos_weight': 1.531704734085811, 'reg_alpha': 0.08134615882333264, 'reg_lambda': 0.0003568288483743135}. Best is trial 81 with value: 0.9487289349037175.\u001b[0m\n",
            "\u001b[32m[I 2023-05-08 12:30:04,361]\u001b[0m Trial 87 finished with value: 0.9093627428107167 and parameters: {'learning_rate': 0.00012349815278225613, 'num_leaves': 48, 'min_child_samples': 47, 'scale_pos_weight': 2.2014431362641362, 'reg_alpha': 0.07673410080658676, 'reg_lambda': 0.004657855902639587}. Best is trial 81 with value: 0.9487289349037175.\u001b[0m\n",
            "\u001b[32m[I 2023-05-08 12:30:17,615]\u001b[0m Trial 88 finished with value: 0.9454820349118603 and parameters: {'learning_rate': 0.01190513624071061, 'num_leaves': 54, 'min_child_samples': 47, 'scale_pos_weight': 1.7448675607644408, 'reg_alpha': 0.07068220612350759, 'reg_lambda': 0.007325673584284183}. Best is trial 81 with value: 0.9487289349037175.\u001b[0m\n",
            "\u001b[32m[I 2023-05-08 12:30:38,347]\u001b[0m Trial 89 finished with value: 0.9487292093824138 and parameters: {'learning_rate': 0.006788716196826271, 'num_leaves': 44, 'min_child_samples': 45, 'scale_pos_weight': 1.1848069434581796, 'reg_alpha': 0.07885543177387411, 'reg_lambda': 0.002309836099942583}. Best is trial 89 with value: 0.9487292093824138.\u001b[0m\n",
            "\u001b[32m[I 2023-05-08 12:31:03,037]\u001b[0m Trial 90 finished with value: 0.9472408029050825 and parameters: {'learning_rate': 0.005774055797370829, 'num_leaves': 43, 'min_child_samples': 39, 'scale_pos_weight': 1.5336665148613358, 'reg_alpha': 0.08587279741789086, 'reg_lambda': 0.0027154314195121138}. Best is trial 89 with value: 0.9487292093824138.\u001b[0m\n",
            "\u001b[32m[I 2023-05-08 12:31:21,107]\u001b[0m Trial 91 finished with value: 0.9471054849077889 and parameters: {'learning_rate': 0.006647221615566821, 'num_leaves': 43, 'min_child_samples': 38, 'scale_pos_weight': 1.1634479575782077, 'reg_alpha': 0.08891183515327644, 'reg_lambda': 0.002358924970447817}. Best is trial 89 with value: 0.9487292093824138.\u001b[0m\n",
            "\u001b[32m[I 2023-05-08 12:31:33,568]\u001b[0m Trial 92 finished with value: 0.9448053534324933 and parameters: {'learning_rate': 0.01142548123601899, 'num_leaves': 27, 'min_child_samples': 39, 'scale_pos_weight': 1.573499654425595, 'reg_alpha': 0.08495351184342967, 'reg_lambda': 0.0046634825487521115}. Best is trial 89 with value: 0.9487292093824138.\u001b[0m\n",
            "\u001b[32m[I 2023-05-08 12:31:43,765]\u001b[0m Trial 93 finished with value: 0.9471053019219913 and parameters: {'learning_rate': 0.019073566294191102, 'num_leaves': 45, 'min_child_samples': 45, 'scale_pos_weight': 1.4398246134183892, 'reg_alpha': 0.07966473721884629, 'reg_lambda': 0.0021076474569826243}. Best is trial 89 with value: 0.9487292093824138.\u001b[0m\n",
            "\u001b[32m[I 2023-05-08 12:31:55,371]\u001b[0m Trial 94 finished with value: 0.9479173013986519 and parameters: {'learning_rate': 0.013435350668979017, 'num_leaves': 49, 'min_child_samples': 43, 'scale_pos_weight': 1.1697115773539577, 'reg_alpha': 0.08257667093349991, 'reg_lambda': 0.009246576470799035}. Best is trial 89 with value: 0.9487292093824138.\u001b[0m\n",
            "\u001b[32m[I 2023-05-08 12:32:15,553]\u001b[0m Trial 95 finished with value: 0.9457521219490549 and parameters: {'learning_rate': 0.007160214243018485, 'num_leaves': 50, 'min_child_samples': 42, 'scale_pos_weight': 1.9270186592850296, 'reg_alpha': 0.09165761411376562, 'reg_lambda': 0.008460937569140025}. Best is trial 89 with value: 0.9487292093824138.\u001b[0m\n",
            "\u001b[32m[I 2023-05-08 12:33:23,772]\u001b[0m Trial 96 finished with value: 0.9399363758381893 and parameters: {'learning_rate': 0.0005907018153277228, 'num_leaves': 38, 'min_child_samples': 46, 'scale_pos_weight': 1.0093191878632715, 'reg_alpha': 0.08146204014559481, 'reg_lambda': 0.012939713847869383}. Best is trial 89 with value: 0.9487292093824138.\u001b[0m\n",
            "\u001b[32m[I 2023-05-08 12:33:34,374]\u001b[0m Trial 97 finished with value: 0.9460228494365409 and parameters: {'learning_rate': 0.013486384641419737, 'num_leaves': 55, 'min_child_samples': 43, 'scale_pos_weight': 1.7121263774131759, 'reg_alpha': 0.08721570230215987, 'reg_lambda': 0.000242222442930538}. Best is trial 89 with value: 0.9487292093824138.\u001b[0m\n",
            "\u001b[32m[I 2023-05-08 12:34:07,489]\u001b[0m Trial 98 finished with value: 0.9429113589348763 and parameters: {'learning_rate': 0.00546395529592225, 'num_leaves': 123, 'min_child_samples': 48, 'scale_pos_weight': 2.474500961339637, 'reg_alpha': 0.08296306214864564, 'reg_lambda': 0.009224064998510258}. Best is trial 89 with value: 0.9487292093824138.\u001b[0m\n",
            "\u001b[32m[I 2023-05-08 12:34:14,482]\u001b[0m Trial 99 finished with value: 0.9465643959044119 and parameters: {'learning_rate': 0.018715674108083596, 'num_leaves': 42, 'min_child_samples': 44, 'scale_pos_weight': 1.4309469469766012, 'reg_alpha': 0.08596334087157835, 'reg_lambda': 0.004452048834041461}. Best is trial 89 with value: 0.9487292093824138.\u001b[0m\n",
            "\u001b[32m[I 2023-05-08 12:34:25,522]\u001b[0m Trial 100 finished with value: 0.9473762123952749 and parameters: {'learning_rate': 0.012419770334939422, 'num_leaves': 34, 'min_child_samples': 45, 'scale_pos_weight': 1.1577113936400643, 'reg_alpha': 0.07773256454888273, 'reg_lambda': 0.011777330551774668}. Best is trial 89 with value: 0.9487292093824138.\u001b[0m\n",
            "\u001b[32m[I 2023-05-08 12:34:36,350]\u001b[0m Trial 101 finished with value: 0.9457528538922452 and parameters: {'learning_rate': 0.013126242448572458, 'num_leaves': 22, 'min_child_samples': 45, 'scale_pos_weight': 1.2000015008130671, 'reg_alpha': 0.07244857234195297, 'reg_lambda': 0.012562826940598194}. Best is trial 89 with value: 0.9487292093824138.\u001b[0m\n",
            "\u001b[32m[I 2023-05-08 12:34:50,773]\u001b[0m Trial 102 finished with value: 0.9457523964277512 and parameters: {'learning_rate': 0.009153729839571254, 'num_leaves': 32, 'min_child_samples': 46, 'scale_pos_weight': 1.6088615151231558, 'reg_alpha': 0.0780987666711566, 'reg_lambda': 0.009065132753993425}. Best is trial 89 with value: 0.9487292093824138.\u001b[0m\n",
            "\u001b[32m[I 2023-05-08 12:35:23,606]\u001b[0m Trial 103 finished with value: 0.9465643959044119 and parameters: {'learning_rate': 0.0037197563830653306, 'num_leaves': 40, 'min_child_samples': 48, 'scale_pos_weight': 1.157516708830378, 'reg_alpha': 0.06941278481789699, 'reg_lambda': 0.01647786914465687}. Best is trial 89 with value: 0.9487292093824138.\u001b[0m\n",
            "\u001b[32m[I 2023-05-08 12:35:30,554]\u001b[0m Trial 104 finished with value: 0.9469699839246977 and parameters: {'learning_rate': 0.01712437063003562, 'num_leaves': 36, 'min_child_samples': 41, 'scale_pos_weight': 1.4335196459685076, 'reg_alpha': 0.07522954509746115, 'reg_lambda': 0.0055450615293766055}. Best is trial 89 with value: 0.9487292093824138.\u001b[0m\n",
            "\u001b[32m[I 2023-05-08 12:35:40,068]\u001b[0m Trial 105 finished with value: 0.9442644474149139 and parameters: {'learning_rate': 0.02256684904882057, 'num_leaves': 45, 'min_child_samples': 50, 'scale_pos_weight': 1.9437049982752144, 'reg_alpha': 0.0797733364955046, 'reg_lambda': 0.01226354722025412}. Best is trial 89 with value: 0.9487292093824138.\u001b[0m\n",
            "\u001b[32m[I 2023-05-08 12:35:52,754]\u001b[0m Trial 106 finished with value: 0.944805078953797 and parameters: {'learning_rate': 0.013974495012060483, 'num_leaves': 49, 'min_child_samples': 42, 'scale_pos_weight': 1.793498226167856, 'reg_alpha': 0.08273705136739046, 'reg_lambda': 0.014423752632104674}. Best is trial 89 with value: 0.9487292093824138.\u001b[0m\n",
            "\u001b[32m[I 2023-05-08 12:36:15,737]\u001b[0m Trial 107 finished with value: 0.9472408029050825 and parameters: {'learning_rate': 0.007434295851108884, 'num_leaves': 57, 'min_child_samples': 43, 'scale_pos_weight': 1.1601481598432593, 'reg_alpha': 0.09455720282020355, 'reg_lambda': 0.007902714670779232}. Best is trial 89 with value: 0.9487292093824138.\u001b[0m\n",
            "\u001b[32m[I 2023-05-08 12:36:29,151]\u001b[0m Trial 108 finished with value: 0.9468353978705942 and parameters: {'learning_rate': 0.010556009431761777, 'num_leaves': 51, 'min_child_samples': 48, 'scale_pos_weight': 1.458310780572519, 'reg_alpha': 0.0714674850591478, 'reg_lambda': 0.00353231169181281}. Best is trial 89 with value: 0.9487292093824138.\u001b[0m\n",
            "\u001b[32m[I 2023-05-08 12:36:35,133]\u001b[0m Trial 109 finished with value: 0.9435875829497493 and parameters: {'learning_rate': 0.02498126818895205, 'num_leaves': 11, 'min_child_samples': 44, 'scale_pos_weight': 2.1055991732520667, 'reg_alpha': 0.07788050750735476, 'reg_lambda': 0.010600494462794909}. Best is trial 89 with value: 0.9487292093824138.\u001b[0m\n",
            "\u001b[32m[I 2023-05-08 12:36:43,870]\u001b[0m Trial 110 finished with value: 0.9472408943979813 and parameters: {'learning_rate': 0.019539328277946244, 'num_leaves': 34, 'min_child_samples': 49, 'scale_pos_weight': 1.0067847974380382, 'reg_alpha': 0.06848355041885347, 'reg_lambda': 0.0055455233437534095}. Best is trial 89 with value: 0.9487292093824138.\u001b[0m\n",
            "\u001b[32m[I 2023-05-08 12:37:11,378]\u001b[0m Trial 111 finished with value: 0.9469704413891915 and parameters: {'learning_rate': 0.003973243301520531, 'num_leaves': 33, 'min_child_samples': 49, 'scale_pos_weight': 1.3236967657163443, 'reg_alpha': 0.06554657346155864, 'reg_lambda': 0.006140254963922048}. Best is trial 89 with value: 0.9487292093824138.\u001b[0m\n",
            "\u001b[32m[I 2023-05-08 12:37:23,509]\u001b[0m Trial 112 finished with value: 0.9469703498962928 and parameters: {'learning_rate': 0.01561903379800526, 'num_leaves': 44, 'min_child_samples': 46, 'scale_pos_weight': 1.070482617225687, 'reg_alpha': 0.0680690995074315, 'reg_lambda': 0.0015191114807666072}. Best is trial 89 with value: 0.9487292093824138.\u001b[0m\n",
            "\u001b[32m[I 2023-05-08 12:37:32,226]\u001b[0m Trial 113 finished with value: 0.9472408943979813 and parameters: {'learning_rate': 0.02048258509233855, 'num_leaves': 40, 'min_child_samples': 45, 'scale_pos_weight': 1.0072088562270034, 'reg_alpha': 0.07441418079665733, 'reg_lambda': 0.008205402239386714}. Best is trial 89 with value: 0.9487292093824138.\u001b[0m\n",
            "\u001b[32m[I 2023-05-08 12:37:36,567]\u001b[0m Trial 114 finished with value: 0.9468344829416064 and parameters: {'learning_rate': 0.03386404325861573, 'num_leaves': 37, 'min_child_samples': 47, 'scale_pos_weight': 1.196303174616681, 'reg_alpha': 0.06913291894991935, 'reg_lambda': 0.008230921242946818}. Best is trial 89 with value: 0.9487292093824138.\u001b[0m\n",
            "\u001b[32m[I 2023-05-08 12:37:46,231]\u001b[0m Trial 115 finished with value: 0.9477821663871558 and parameters: {'learning_rate': 0.01949329285373884, 'num_leaves': 47, 'min_child_samples': 48, 'scale_pos_weight': 1.3722960671928992, 'reg_alpha': 0.07421502267373471, 'reg_lambda': 0.010580899147159414}. Best is trial 89 with value: 0.9487292093824138.\u001b[0m\n",
            "\u001b[32m[I 2023-05-08 12:37:51,223]\u001b[0m Trial 116 finished with value: 0.9468350318989992 and parameters: {'learning_rate': 0.025784758722923518, 'num_leaves': 29, 'min_child_samples': 48, 'scale_pos_weight': 1.6805373540323296, 'reg_alpha': 0.07278184940146373, 'reg_lambda': 0.017507465094308082}. Best is trial 89 with value: 0.9487292093824138.\u001b[0m\n",
            "\u001b[32m[I 2023-05-08 12:38:01,131]\u001b[0m Trial 117 finished with value: 0.946429169400017 and parameters: {'learning_rate': 0.018979787556472512, 'num_leaves': 54, 'min_child_samples': 49, 'scale_pos_weight': 1.3440973222999768, 'reg_alpha': 0.07543263966245599, 'reg_lambda': 0.010999299801302648}. Best is trial 89 with value: 0.9487292093824138.\u001b[0m\n",
            "\u001b[32m[I 2023-05-08 12:38:14,919]\u001b[0m Trial 118 finished with value: 0.9458877144250449 and parameters: {'learning_rate': 0.010871778608170592, 'num_leaves': 47, 'min_child_samples': 46, 'scale_pos_weight': 1.8118407432109096, 'reg_alpha': 0.06692633252249038, 'reg_lambda': 0.014744592329006254}. Best is trial 89 with value: 0.9487292093824138.\u001b[0m\n",
            "\u001b[32m[I 2023-05-08 12:38:25,518]\u001b[0m Trial 119 finished with value: 0.9468350318989991 and parameters: {'learning_rate': 0.01546917013892438, 'num_leaves': 49, 'min_child_samples': 50, 'scale_pos_weight': 1.286529285225344, 'reg_alpha': 0.0625593635288806, 'reg_lambda': 0.004995173965947299}. Best is trial 89 with value: 0.9487292093824138.\u001b[0m\n",
            "\u001b[32m[I 2023-05-08 12:38:31,028]\u001b[0m Trial 120 finished with value: 0.946699530915908 and parameters: {'learning_rate': 0.030558065279494777, 'num_leaves': 60, 'min_child_samples': 45, 'scale_pos_weight': 1.4304596867170678, 'reg_alpha': 0.07167523387038371, 'reg_lambda': 0.011686218372823978}. Best is trial 89 with value: 0.9487292093824138.\u001b[0m\n",
            "\u001b[32m[I 2023-05-08 12:38:40,009]\u001b[0m Trial 121 finished with value: 0.94724098589088 and parameters: {'learning_rate': 0.020691607537211346, 'num_leaves': 46, 'min_child_samples': 45, 'scale_pos_weight': 1.0754348217289211, 'reg_alpha': 0.07454866000069169, 'reg_lambda': 0.007517470980301821}. Best is trial 89 with value: 0.9487292093824138.\u001b[0m\n",
            "\u001b[32m[I 2023-05-08 12:38:48,825]\u001b[0m Trial 122 finished with value: 0.9479172099057531 and parameters: {'learning_rate': 0.022378257382218696, 'num_leaves': 56, 'min_child_samples': 47, 'scale_pos_weight': 1.019327735251395, 'reg_alpha': 0.07743227742576486, 'reg_lambda': 0.006340793981461567}. Best is trial 89 with value: 0.9487292093824138.\u001b[0m\n",
            "\u001b[32m[I 2023-05-08 12:38:55,060]\u001b[0m Trial 123 finished with value: 0.9485934339206262 and parameters: {'learning_rate': 0.02266397655914384, 'num_leaves': 55, 'min_child_samples': 43, 'scale_pos_weight': 1.1569594626282729, 'reg_alpha': 0.07771249492640091, 'reg_lambda': 0.009468990621571386}. Best is trial 89 with value: 0.9487292093824138.\u001b[0m\n",
            "\u001b[32m[I 2023-05-08 12:39:04,464]\u001b[0m Trial 124 finished with value: 0.9446702184209973 and parameters: {'learning_rate': 0.02541890287441786, 'num_leaves': 67, 'min_child_samples': 43, 'scale_pos_weight': 1.5999887146262959, 'reg_alpha': 0.07763949552959784, 'reg_lambda': 0.009839223522097556}. Best is trial 89 with value: 0.9487292093824138.\u001b[0m\n",
            "\u001b[32m[I 2023-05-08 12:39:08,850]\u001b[0m Trial 125 finished with value: 0.9481873884358466 and parameters: {'learning_rate': 0.03967551172557354, 'num_leaves': 56, 'min_child_samples': 41, 'scale_pos_weight': 1.3770529973766146, 'reg_alpha': 0.08021896948342268, 'reg_lambda': 0.013258881877997588}. Best is trial 89 with value: 0.9487292093824138.\u001b[0m\n",
            "\u001b[32m[I 2023-05-08 12:39:16,178]\u001b[0m Trial 126 finished with value: 0.9466994394230092 and parameters: {'learning_rate': 0.03788618792831346, 'num_leaves': 57, 'min_child_samples': 41, 'scale_pos_weight': 1.1961043264791515, 'reg_alpha': 0.07874567946543103, 'reg_lambda': 0.012830729589160225}. Best is trial 89 with value: 0.9487292093824138.\u001b[0m\n",
            "\u001b[32m[I 2023-05-08 12:39:22,190]\u001b[0m Trial 127 finished with value: 0.9452115819030706 and parameters: {'learning_rate': 0.02897789058401009, 'num_leaves': 62, 'min_child_samples': 42, 'scale_pos_weight': 1.6822051729651775, 'reg_alpha': 0.08225865824105198, 'reg_lambda': 0.004156732659624615}. Best is trial 89 with value: 0.9487292093824138.\u001b[0m\n",
            "\u001b[32m[I 2023-05-08 12:39:30,053]\u001b[0m Trial 128 finished with value: 0.9471051189361938 and parameters: {'learning_rate': 0.03251995981769613, 'num_leaves': 53, 'min_child_samples': 44, 'scale_pos_weight': 1.4450820894514798, 'reg_alpha': 0.07649617367103233, 'reg_lambda': 0.00013268667204925167}. Best is trial 89 with value: 0.9487292093824138.\u001b[0m\n",
            "\u001b[32m[I 2023-05-08 12:39:34,306]\u001b[0m Trial 129 finished with value: 0.9448050789537971 and parameters: {'learning_rate': 0.0467402731142791, 'num_leaves': 56, 'min_child_samples': 47, 'scale_pos_weight': 1.8638872950721543, 'reg_alpha': 0.08025652149152802, 'reg_lambda': 0.01656024301005755}. Best is trial 89 with value: 0.9487292093824138.\u001b[0m\n",
            "\u001b[32m[I 2023-05-08 12:39:43,023]\u001b[0m Trial 130 finished with value: 0.93979922798292 and parameters: {'learning_rate': 0.03447777091431321, 'num_leaves': 61, 'min_child_samples': 44, 'scale_pos_weight': 3.847113213544233, 'reg_alpha': 0.0843311803004665, 'reg_lambda': 0.018960519068207282}. Best is trial 89 with value: 0.9487292093824138.\u001b[0m\n",
            "\u001b[32m[I 2023-05-08 12:39:57,709]\u001b[0m Trial 131 finished with value: 0.946970258403394 and parameters: {'learning_rate': 0.00976481680591411, 'num_leaves': 50, 'min_child_samples': 46, 'scale_pos_weight': 1.3347918804630372, 'reg_alpha': 0.08053809692825947, 'reg_lambda': 0.009650805801518062}. Best is trial 89 with value: 0.9487292093824138.\u001b[0m\n",
            "\u001b[32m[I 2023-05-08 12:40:37,455]\u001b[0m Trial 132 finished with value: 0.9476465739111659 and parameters: {'learning_rate': 0.0031384480845893076, 'num_leaves': 52, 'min_child_samples': 40, 'scale_pos_weight': 1.1841734424136783, 'reg_alpha': 0.07697693259779423, 'reg_lambda': 0.006694880394014764}. Best is trial 89 with value: 0.9487292093824138.\u001b[0m\n",
            "\u001b[32m[I 2023-05-08 12:41:56,977]\u001b[0m Trial 133 finished with value: 0.9477819834013583 and parameters: {'learning_rate': 0.0014362641269867532, 'num_leaves': 52, 'min_child_samples': 42, 'scale_pos_weight': 1.159462406740278, 'reg_alpha': 0.0732428691677732, 'reg_lambda': 0.0062615035875257345}. Best is trial 89 with value: 0.9487292093824138.\u001b[0m\n",
            "\u001b[32m[I 2023-05-08 12:43:01,846]\u001b[0m Trial 134 finished with value: 0.946563938439918 and parameters: {'learning_rate': 0.0019229995865868753, 'num_leaves': 52, 'min_child_samples': 40, 'scale_pos_weight': 1.5486145841870975, 'reg_alpha': 0.07255110498370056, 'reg_lambda': 0.00633483843247012}. Best is trial 89 with value: 0.9487292093824138.\u001b[0m\n",
            "\u001b[32m[I 2023-05-08 12:44:29,901]\u001b[0m Trial 135 finished with value: 0.9473759379165786 and parameters: {'learning_rate': 0.0013399694600092387, 'num_leaves': 58, 'min_child_samples': 40, 'scale_pos_weight': 1.0071318396193447, 'reg_alpha': 0.07571018231357966, 'reg_lambda': 0.0038123897409874964}. Best is trial 89 with value: 0.9487292093824138.\u001b[0m\n",
            "\u001b[32m[I 2023-05-08 12:44:41,005]\u001b[0m Trial 136 finished with value: 0.9473757549307811 and parameters: {'learning_rate': 0.014967314254713024, 'num_leaves': 55, 'min_child_samples': 42, 'scale_pos_weight': 1.3166985130969346, 'reg_alpha': 0.07318394898053729, 'reg_lambda': 0.006664489951807309}. Best is trial 89 with value: 0.9487292093824138.\u001b[0m\n",
            "\u001b[32m[I 2023-05-08 12:44:45,814]\u001b[0m Trial 137 finished with value: 0.9454818519260627 and parameters: {'learning_rate': 0.04016123195018246, 'num_leaves': 66, 'min_child_samples': 43, 'scale_pos_weight': 1.6774793982212586, 'reg_alpha': 0.07007711210166778, 'reg_lambda': 0.00245433596776017}. Best is trial 89 with value: 0.9487292093824138.\u001b[0m\n",
            "\u001b[32m[I 2023-05-08 12:45:01,278]\u001b[0m Trial 138 finished with value: 0.9469705328820903 and parameters: {'learning_rate': 0.008359039523135154, 'num_leaves': 48, 'min_child_samples': 30, 'scale_pos_weight': 1.186515812672578, 'reg_alpha': 0.06996355825804898, 'reg_lambda': 0.008817873262203266}. Best is trial 89 with value: 0.9487292093824138.\u001b[0m\n",
            "\u001b[32m[I 2023-05-08 12:45:10,806]\u001b[0m Trial 139 finished with value: 0.9431816289578685 and parameters: {'learning_rate': 0.022536964171630886, 'num_leaves': 51, 'min_child_samples': 43, 'scale_pos_weight': 2.0486947887932727, 'reg_alpha': 0.07606775628830113, 'reg_lambda': 0.004085038942785909}. Best is trial 89 with value: 0.9487292093824138.\u001b[0m\n",
            "\u001b[32m[I 2023-05-08 12:45:37,683]\u001b[0m Trial 140 finished with value: 0.9465642129186144 and parameters: {'learning_rate': 0.005031926416095999, 'num_leaves': 53, 'min_child_samples': 41, 'scale_pos_weight': 1.469686315278155, 'reg_alpha': 0.08235358785792282, 'reg_lambda': 0.0015666886612248961}. Best is trial 89 with value: 0.9487292093824138.\u001b[0m\n",
            "\u001b[32m[I 2023-05-08 12:45:50,108]\u001b[0m Trial 141 finished with value: 0.9475116218854673 and parameters: {'learning_rate': 0.012751001379180706, 'num_leaves': 59, 'min_child_samples': 44, 'scale_pos_weight': 1.176008707443537, 'reg_alpha': 0.07785538524529143, 'reg_lambda': 0.010344749343588816}. Best is trial 89 with value: 0.9487292093824138.\u001b[0m\n",
            "\u001b[32m[I 2023-05-08 12:46:00,416]\u001b[0m Trial 142 finished with value: 0.9476465739111659 and parameters: {'learning_rate': 0.016694719603276283, 'num_leaves': 59, 'min_child_samples': 39, 'scale_pos_weight': 1.00094901097702, 'reg_alpha': 0.07905543034632212, 'reg_lambda': 0.007273612611244373}. Best is trial 89 with value: 0.9487292093824138.\u001b[0m\n",
            "\u001b[32m[I 2023-05-08 12:46:11,317]\u001b[0m Trial 143 finished with value: 0.9476463909253683 and parameters: {'learning_rate': 0.017113670148341954, 'num_leaves': 58, 'min_child_samples': 39, 'scale_pos_weight': 1.2186258815007123, 'reg_alpha': 0.07857634799059111, 'reg_lambda': 0.010227107359452394}. Best is trial 89 with value: 0.9487292093824138.\u001b[0m\n",
            "\u001b[32m[I 2023-05-08 12:46:18,612]\u001b[0m Trial 144 finished with value: 0.9475114388996698 and parameters: {'learning_rate': 0.017815827163627576, 'num_leaves': 57, 'min_child_samples': 38, 'scale_pos_weight': 1.0027810374671726, 'reg_alpha': 0.08065003560769571, 'reg_lambda': 0.013503964079609973}. Best is trial 89 with value: 0.9487292093824138.\u001b[0m\n",
            "\u001b[32m[I 2023-05-08 12:46:27,869]\u001b[0m Trial 145 finished with value: 0.948729117889515 and parameters: {'learning_rate': 0.02368019626345673, 'num_leaves': 63, 'min_child_samples': 39, 'scale_pos_weight': 1.2625767963145664, 'reg_alpha': 0.07434550440754203, 'reg_lambda': 0.007188202085137299}. Best is trial 89 with value: 0.9487292093824138.\u001b[0m\n",
            "\u001b[32m[I 2023-05-08 12:46:36,806]\u001b[0m Trial 146 finished with value: 0.9465644873973107 and parameters: {'learning_rate': 0.02480466518892918, 'num_leaves': 64, 'min_child_samples': 38, 'scale_pos_weight': 1.3648068094570822, 'reg_alpha': 0.07534999403143182, 'reg_lambda': 0.007192658786245179}. Best is trial 89 with value: 0.9487292093824138.\u001b[0m\n",
            "\u001b[32m[I 2023-05-08 12:48:02,237]\u001b[0m Trial 147 finished with value: 0.9208617533150164 and parameters: {'learning_rate': 0.00021717734897309872, 'num_leaves': 55, 'min_child_samples': 41, 'scale_pos_weight': 1.6284756415253763, 'reg_alpha': 0.07381761715563871, 'reg_lambda': 0.006122038388475865}. Best is trial 89 with value: 0.9487292093824138.\u001b[0m\n",
            "\u001b[32m[I 2023-05-08 12:48:10,571]\u001b[0m Trial 148 finished with value: 0.9457519389632574 and parameters: {'learning_rate': 0.028677388854670995, 'num_leaves': 60, 'min_child_samples': 39, 'scale_pos_weight': 1.829991332504936, 'reg_alpha': 0.08355548962352105, 'reg_lambda': 0.008241670938859804}. Best is trial 89 with value: 0.9487292093824138.\u001b[0m\n",
            "\u001b[32m[I 2023-05-08 12:48:15,380]\u001b[0m Trial 149 finished with value: 0.9468352148847967 and parameters: {'learning_rate': 0.037665474395206885, 'num_leaves': 69, 'min_child_samples': 37, 'scale_pos_weight': 1.17662505716275, 'reg_alpha': 0.064295135223152, 'reg_lambda': 0.005100802989322958}. Best is trial 89 with value: 0.9487292093824138.\u001b[0m\n",
            "\u001b[32m[I 2023-05-08 12:48:26,637]\u001b[0m Trial 150 finished with value: 0.9388520934947634 and parameters: {'learning_rate': 0.021583848608376286, 'num_leaves': 51, 'min_child_samples': 48, 'scale_pos_weight': 5.081660132022294, 'reg_alpha': 0.066520608846913, 'reg_lambda': 0.012456080597825124}. Best is trial 89 with value: 0.9487292093824138.\u001b[0m\n",
            "\u001b[32m[I 2023-05-08 12:48:37,607]\u001b[0m Trial 151 finished with value: 0.9468352148847967 and parameters: {'learning_rate': 0.01597214587088233, 'num_leaves': 62, 'min_child_samples': 39, 'scale_pos_weight': 1.0046306145192052, 'reg_alpha': 0.0777254265516885, 'reg_lambda': 0.009453605217748663}. Best is trial 89 with value: 0.9487292093824138.\u001b[0m\n",
            "\u001b[32m[I 2023-05-08 12:48:53,052]\u001b[0m Trial 152 finished with value: 0.9469701669104952 and parameters: {'learning_rate': 0.009392157612574645, 'num_leaves': 54, 'min_child_samples': 34, 'scale_pos_weight': 1.2949326874903544, 'reg_alpha': 0.07960139090826701, 'reg_lambda': 0.010820411000737967}. Best is trial 89 with value: 0.9487292093824138.\u001b[0m\n",
            "\u001b[32m[I 2023-05-08 12:49:02,004]\u001b[0m Trial 153 finished with value: 0.9466992564372116 and parameters: {'learning_rate': 0.02545867442346046, 'num_leaves': 57, 'min_child_samples': 40, 'scale_pos_weight': 1.4735502183053681, 'reg_alpha': 0.07384791533798063, 'reg_lambda': 0.03552308889435407}. Best is trial 89 with value: 0.9487292093824138.\u001b[0m\n",
            "\u001b[32m[I 2023-05-08 12:49:14,076]\u001b[0m Trial 154 finished with value: 0.9469704413891916 and parameters: {'learning_rate': 0.013834467027464353, 'num_leaves': 66, 'min_child_samples': 47, 'scale_pos_weight': 1.208880344798883, 'reg_alpha': 0.07875124708501163, 'reg_lambda': 0.007691278647709264}. Best is trial 89 with value: 0.9487292093824138.\u001b[0m\n",
            "\u001b[32m[I 2023-05-08 12:49:18,999]\u001b[0m Trial 155 finished with value: 0.9460231239152374 and parameters: {'learning_rate': 0.03219118104707984, 'num_leaves': 45, 'min_child_samples': 40, 'scale_pos_weight': 1.5747282633792072, 'reg_alpha': 0.07614343316900465, 'reg_lambda': 0.004810855706782527}. Best is trial 89 with value: 0.9487292093824138.\u001b[0m\n",
            "\u001b[32m[I 2023-05-08 12:49:29,062]\u001b[0m Trial 156 finished with value: 0.9477816174297632 and parameters: {'learning_rate': 0.01824836535574753, 'num_leaves': 50, 'min_child_samples': 42, 'scale_pos_weight': 1.3477920041666447, 'reg_alpha': 0.07131151794103743, 'reg_lambda': 0.01563915125920402}. Best is trial 89 with value: 0.9487292093824138.\u001b[0m\n",
            "\u001b[32m[I 2023-05-08 12:49:37,700]\u001b[0m Trial 157 finished with value: 0.9469703498962928 and parameters: {'learning_rate': 0.021887845297427926, 'num_leaves': 50, 'min_child_samples': 42, 'scale_pos_weight': 1.3749439022662813, 'reg_alpha': 0.07084182719005253, 'reg_lambda': 0.014336585781912308}. Best is trial 89 with value: 0.9487292093824138.\u001b[0m\n",
            "\u001b[32m[I 2023-05-08 12:49:51,616]\u001b[0m Trial 158 finished with value: 0.9468348489132016 and parameters: {'learning_rate': 0.010465298442023412, 'num_leaves': 47, 'min_child_samples': 46, 'scale_pos_weight': 1.0064595493972193, 'reg_alpha': 0.07213109577886433, 'reg_lambda': 0.015136761390556797}. Best is trial 89 with value: 0.9487292093824138.\u001b[0m\n",
            "\u001b[32m[I 2023-05-08 12:50:17,914]\u001b[0m Trial 159 finished with value: 0.9437230839328405 and parameters: {'learning_rate': 0.005736988703394522, 'num_leaves': 53, 'min_child_samples': 41, 'scale_pos_weight': 2.2169150718442014, 'reg_alpha': 0.06882696571140128, 'reg_lambda': 0.04770998307917258}. Best is trial 89 with value: 0.9487292093824138.\u001b[0m\n",
            "\u001b[32m[I 2023-05-08 12:50:23,161]\u001b[0m Trial 160 finished with value: 0.9379060569213921 and parameters: {'learning_rate': 0.04355920337801531, 'num_leaves': 43, 'min_child_samples': 47, 'scale_pos_weight': 6.144156641397572, 'reg_alpha': 0.08155356552192564, 'reg_lambda': 0.001699848883119942}. Best is trial 89 with value: 0.9487292093824138.\u001b[0m\n",
            "\u001b[32m[I 2023-05-08 12:50:34,163]\u001b[0m Trial 161 finished with value: 0.9475109814351759 and parameters: {'learning_rate': 0.016883482002800376, 'num_leaves': 58, 'min_child_samples': 36, 'scale_pos_weight': 1.2367046856703992, 'reg_alpha': 0.07519258166968891, 'reg_lambda': 0.011179045174776473}. Best is trial 89 with value: 0.9487292093824138.\u001b[0m\n",
            "\u001b[32m[I 2023-05-08 12:50:44,125]\u001b[0m Trial 162 finished with value: 0.9473759379165786 and parameters: {'learning_rate': 0.018146904941845805, 'num_leaves': 49, 'min_child_samples': 38, 'scale_pos_weight': 1.1692664954518606, 'reg_alpha': 0.07714264636533585, 'reg_lambda': 0.009318643729464135}. Best is trial 89 with value: 0.9487292093824138.\u001b[0m\n",
            "\u001b[32m[I 2023-05-08 12:50:49,493]\u001b[0m Trial 163 finished with value: 0.9471048444574974 and parameters: {'learning_rate': 0.02760511842592713, 'num_leaves': 55, 'min_child_samples': 39, 'scale_pos_weight': 1.4181590942213544, 'reg_alpha': 0.07365786288010764, 'reg_lambda': 0.006414004562220091}. Best is trial 89 with value: 0.9487292093824138.\u001b[0m\n",
            "\u001b[32m[I 2023-05-08 12:51:01,921]\u001b[0m Trial 164 finished with value: 0.9465642129186144 and parameters: {'learning_rate': 0.014033899407302057, 'num_leaves': 61, 'min_child_samples': 42, 'scale_pos_weight': 1.6670290560431789, 'reg_alpha': 0.07877335031906266, 'reg_lambda': 0.012726932913971728}. Best is trial 89 with value: 0.9487292093824138.\u001b[0m\n",
            "\u001b[32m[I 2023-05-08 12:51:39,081]\u001b[0m Trial 165 finished with value: 0.9475107069564795 and parameters: {'learning_rate': 0.00355097783800925, 'num_leaves': 52, 'min_child_samples': 40, 'scale_pos_weight': 1.3105160405068446, 'reg_alpha': 0.0709952476553265, 'reg_lambda': 0.05616110279096645}. Best is trial 89 with value: 0.9487292093824138.\u001b[0m\n",
            "\u001b[32m[I 2023-05-08 12:51:56,196]\u001b[0m Trial 166 finished with value: 0.9411523164629577 and parameters: {'learning_rate': 0.009416201289445675, 'num_leaves': 46, 'min_child_samples': 44, 'scale_pos_weight': 2.967348360070858, 'reg_alpha': 0.08459727923904918, 'reg_lambda': 0.003630299630648185}. Best is trial 89 with value: 0.9487292093824138.\u001b[0m\n",
            "\u001b[32m[I 2023-05-08 12:52:02,079]\u001b[0m Trial 167 finished with value: 0.9460235813797312 and parameters: {'learning_rate': 0.0926202541815844, 'num_leaves': 63, 'min_child_samples': 45, 'scale_pos_weight': 1.5496183487162316, 'reg_alpha': 0.0817985392085984, 'reg_lambda': 0.007814431553989084}. Best is trial 89 with value: 0.9487292093824138.\u001b[0m\n",
            "\u001b[32m[I 2023-05-08 12:52:09,023]\u001b[0m Trial 168 finished with value: 0.9468352148847967 and parameters: {'learning_rate': 0.01892871397794646, 'num_leaves': 59, 'min_child_samples': 42, 'scale_pos_weight': 1.1572441899424837, 'reg_alpha': 0.0874844775467281, 'reg_lambda': 0.017016524074792375}. Best is trial 89 with value: 0.9487292093824138.\u001b[0m\n",
            "\u001b[32m[I 2023-05-08 12:52:18,379]\u001b[0m Trial 169 finished with value: 0.9454814859544677 and parameters: {'learning_rate': 0.023031625399577503, 'num_leaves': 56, 'min_child_samples': 46, 'scale_pos_weight': 1.837058731743789, 'reg_alpha': 0.0660993265052454, 'reg_lambda': 0.005461961729416562}. Best is trial 89 with value: 0.9487292093824138.\u001b[0m\n",
            "\u001b[32m[I 2023-05-08 12:52:27,089]\u001b[0m Trial 170 finished with value: 0.9469699839246977 and parameters: {'learning_rate': 0.030069646839048617, 'num_leaves': 108, 'min_child_samples': 48, 'scale_pos_weight': 1.391849017338086, 'reg_alpha': 0.0766720761918046, 'reg_lambda': 0.009141211176142753}. Best is trial 89 with value: 0.9487292093824138.\u001b[0m\n",
            "\u001b[32m[I 2023-05-08 12:52:39,653]\u001b[0m Trial 171 finished with value: 0.9473760294094774 and parameters: {'learning_rate': 0.012997757180150721, 'num_leaves': 59, 'min_child_samples': 44, 'scale_pos_weight': 1.181413387484542, 'reg_alpha': 0.07844629320482559, 'reg_lambda': 0.01071505926810588}. Best is trial 89 with value: 0.9487292093824138.\u001b[0m\n",
            "\u001b[32m[I 2023-05-08 12:52:48,428]\u001b[0m Trial 172 finished with value: 0.9469700754175965 and parameters: {'learning_rate': 0.01391440283243092, 'num_leaves': 50, 'min_child_samples': 43, 'scale_pos_weight': 1.0168547033012354, 'reg_alpha': 0.07432465065835561, 'reg_lambda': 0.009487151785818965}. Best is trial 89 with value: 0.9487292093824138.\u001b[0m\n",
            "\u001b[32m[I 2023-05-08 12:53:09,579]\u001b[0m Trial 173 finished with value: 0.947511347406771 and parameters: {'learning_rate': 0.0072760687511976545, 'num_leaves': 52, 'min_child_samples': 41, 'scale_pos_weight': 1.1908722699590546, 'reg_alpha': 0.0789955375418151, 'reg_lambda': 0.010948499902883942}. Best is trial 89 with value: 0.9487292093824138.\u001b[0m\n",
            "\u001b[32m[I 2023-05-08 12:54:34,266]\u001b[0m Trial 174 finished with value: 0.9296553188024311 and parameters: {'learning_rate': 0.0003131384528106615, 'num_leaves': 54, 'min_child_samples': 44, 'scale_pos_weight': 1.3173026372706067, 'reg_alpha': 0.07700114941010769, 'reg_lambda': 0.006579275388741269}. Best is trial 89 with value: 0.9487292093824138.\u001b[0m\n",
            "\u001b[32m[I 2023-05-08 12:54:46,712]\u001b[0m Trial 175 finished with value: 0.9457523964277512 and parameters: {'learning_rate': 0.011233761077521479, 'num_leaves': 48, 'min_child_samples': 45, 'scale_pos_weight': 1.5331452318519874, 'reg_alpha': 0.08071092570562038, 'reg_lambda': 4.778725507473963e-07}. Best is trial 89 with value: 0.9487292093824138.\u001b[0m\n",
            "\u001b[32m[I 2023-05-08 12:54:59,034]\u001b[0m Trial 176 finished with value: 0.946428803428422 and parameters: {'learning_rate': 0.019709812359102085, 'num_leaves': 65, 'min_child_samples': 28, 'scale_pos_weight': 1.1816834152069353, 'reg_alpha': 0.0722259822131737, 'reg_lambda': 0.02375979906032223}. Best is trial 89 with value: 0.9487292093824138.\u001b[0m\n",
            "\u001b[32m[I 2023-05-08 12:55:07,960]\u001b[0m Trial 177 finished with value: 0.9464285289497256 and parameters: {'learning_rate': 0.025065845755013923, 'num_leaves': 59, 'min_child_samples': 37, 'scale_pos_weight': 1.763941647978887, 'reg_alpha': 0.07455896451116402, 'reg_lambda': 0.02011940180257771}. Best is trial 89 with value: 0.9487292093824138.\u001b[0m\n",
            "\u001b[32m[I 2023-05-08 12:55:15,371]\u001b[0m Trial 178 finished with value: 0.9456171699233564 and parameters: {'learning_rate': 0.03446804258191173, 'num_leaves': 41, 'min_child_samples': 42, 'scale_pos_weight': 1.4447107743245524, 'reg_alpha': 0.06889538329822967, 'reg_lambda': 0.013547011681502751}. Best is trial 89 with value: 0.9487292093824138.\u001b[0m\n",
            "\u001b[32m[I 2023-05-08 12:55:42,174]\u001b[0m Trial 179 finished with value: 0.9480528023817432 and parameters: {'learning_rate': 0.005010518557563815, 'num_leaves': 56, 'min_child_samples': 43, 'scale_pos_weight': 1.0033049722103904, 'reg_alpha': 0.07679464148454995, 'reg_lambda': 0.003367894652360379}. Best is trial 89 with value: 0.9487292093824138.\u001b[0m\n",
            "\u001b[32m[I 2023-05-08 12:56:25,439]\u001b[0m Trial 180 finished with value: 0.9346586079721422 and parameters: {'learning_rate': 0.004747596285544829, 'num_leaves': 44, 'min_child_samples': 49, 'scale_pos_weight': 7.340619221218792, 'reg_alpha': 0.0703859255029, 'reg_lambda': 0.002759986285690859}. Best is trial 89 with value: 0.9487292093824138.\u001b[0m\n",
            "\u001b[32m[I 2023-05-08 12:56:38,879]\u001b[0m Trial 181 finished with value: 0.9467000798733006 and parameters: {'learning_rate': 0.011323534923673365, 'num_leaves': 57, 'min_child_samples': 43, 'scale_pos_weight': 1.0268213185759885, 'reg_alpha': 0.07706412659677024, 'reg_lambda': 0.004542200410785414}. Best is trial 89 with value: 0.9487292093824138.\u001b[0m\n",
            "\u001b[32m[I 2023-05-08 12:56:59,755]\u001b[0m Trial 182 finished with value: 0.9476467568969634 and parameters: {'learning_rate': 0.007386463865743224, 'num_leaves': 61, 'min_child_samples': 41, 'scale_pos_weight': 1.2647871840947882, 'reg_alpha': 0.08304383285731082, 'reg_lambda': 0.007762575758536434}. Best is trial 89 with value: 0.9487292093824138.\u001b[0m\n",
            "\u001b[32m[I 2023-05-08 12:57:34,409]\u001b[0m Trial 183 finished with value: 0.9464287119355231 and parameters: {'learning_rate': 0.0036947803777142834, 'num_leaves': 61, 'min_child_samples': 41, 'scale_pos_weight': 1.3386934699041393, 'reg_alpha': 0.08261584313802124, 'reg_lambda': 0.007117236160756858}. Best is trial 89 with value: 0.9487292093824138.\u001b[0m\n",
            "\u001b[32m[I 2023-05-08 12:57:54,848]\u001b[0m Trial 184 finished with value: 0.9468346659274041 and parameters: {'learning_rate': 0.00776604621317562, 'num_leaves': 55, 'min_child_samples': 39, 'scale_pos_weight': 1.580888542682899, 'reg_alpha': 0.08385727861634207, 'reg_lambda': 0.0035695828911777435}. Best is trial 89 with value: 0.9487292093824138.\u001b[0m\n",
            "\u001b[32m[I 2023-05-08 12:58:07,308]\u001b[0m Trial 185 finished with value: 0.9393937314555331 and parameters: {'learning_rate': 0.01654631940985781, 'num_leaves': 51, 'min_child_samples': 42, 'scale_pos_weight': 3.578564527638444, 'reg_alpha': 0.08069914317998216, 'reg_lambda': 0.005828541263026159}. Best is trial 89 with value: 0.9487292093824138.\u001b[0m\n",
            "\u001b[32m[I 2023-05-08 12:58:40,225]\u001b[0m Trial 186 finished with value: 0.9473762123952749 and parameters: {'learning_rate': 0.00399861218991438, 'num_leaves': 73, 'min_child_samples': 40, 'scale_pos_weight': 1.0053709543111877, 'reg_alpha': 0.07349096599444041, 'reg_lambda': 0.007793855422370086}. Best is trial 89 with value: 0.9487292093824138.\u001b[0m\n",
            "\u001b[32m[I 2023-05-08 12:58:45,945]\u001b[0m Trial 187 finished with value: 0.947511347406771 and parameters: {'learning_rate': 0.048845308146836144, 'num_leaves': 53, 'min_child_samples': 47, 'scale_pos_weight': 1.2805096347287623, 'reg_alpha': 0.060640258140700974, 'reg_lambda': 0.0015051039234025808}. Best is trial 89 with value: 0.9487292093824138.\u001b[0m\n",
            "\u001b[32m[I 2023-05-08 12:58:48,693]\u001b[0m Trial 188 finished with value: 0.945482583869253 and parameters: {'learning_rate': 0.12784715638329236, 'num_leaves': 64, 'min_child_samples': 46, 'scale_pos_weight': 1.4381500813256776, 'reg_alpha': 0.08550873924687713, 'reg_lambda': 0.005352330253898718}. Best is trial 89 with value: 0.9487292093824138.\u001b[0m\n",
            "\u001b[32m[I 2023-05-08 12:58:52,115]\u001b[0m Trial 189 finished with value: 0.9475111644209735 and parameters: {'learning_rate': 0.060076051471288104, 'num_leaves': 47, 'min_child_samples': 40, 'scale_pos_weight': 1.1601149814798724, 'reg_alpha': 0.07984416995361267, 'reg_lambda': 0.008928548879016862}. Best is trial 89 with value: 0.9487292093824138.\u001b[0m\n",
            "\u001b[32m[I 2023-05-08 12:59:15,786]\u001b[0m Trial 190 finished with value: 0.9462939428956222 and parameters: {'learning_rate': 0.006929855188156401, 'num_leaves': 68, 'min_child_samples': 41, 'scale_pos_weight': 1.630532322091181, 'reg_alpha': 0.07639152156213612, 'reg_lambda': 0.01182379870888587}. Best is trial 89 with value: 0.9487292093824138.\u001b[0m\n",
            "\u001b[32m[I 2023-05-08 12:59:28,263]\u001b[0m Trial 191 finished with value: 0.9487292093824138 and parameters: {'learning_rate': 0.01302862068916883, 'num_leaves': 61, 'min_child_samples': 43, 'scale_pos_weight': 1.165562125571402, 'reg_alpha': 0.07849094848730755, 'reg_lambda': 0.009978324612392061}. Best is trial 89 with value: 0.9487292093824138.\u001b[0m\n",
            "\u001b[32m[I 2023-05-08 13:00:55,900]\u001b[0m Trial 192 finished with value: 0.9337130288632648 and parameters: {'learning_rate': 0.000319239748634197, 'num_leaves': 56, 'min_child_samples': 43, 'scale_pos_weight': 1.1389953096796923, 'reg_alpha': 0.07911670677452208, 'reg_lambda': 0.007791841726065717}. Best is trial 89 with value: 0.9487292093824138.\u001b[0m\n",
            "\u001b[32m[I 2023-05-08 13:01:06,422]\u001b[0m Trial 193 finished with value: 0.9415582704548386 and parameters: {'learning_rate': 0.02160343193523769, 'num_leaves': 61, 'min_child_samples': 43, 'scale_pos_weight': 3.133370290138674, 'reg_alpha': 0.07545015572789082, 'reg_lambda': 0.07633995090178838}. Best is trial 89 with value: 0.9487292093824138.\u001b[0m\n",
            "\u001b[32m[I 2023-05-08 13:01:21,420]\u001b[0m Trial 194 finished with value: 0.9472407114121837 and parameters: {'learning_rate': 0.009731805721471833, 'num_leaves': 49, 'min_child_samples': 42, 'scale_pos_weight': 1.317699263156271, 'reg_alpha': 0.05719630594210406, 'reg_lambda': 0.0035492162688726603}. Best is trial 89 with value: 0.9487292093824138.\u001b[0m\n",
            "\u001b[32m[I 2023-05-08 13:01:32,928]\u001b[0m Trial 195 finished with value: 0.9479173928915507 and parameters: {'learning_rate': 0.015997254801935624, 'num_leaves': 62, 'min_child_samples': 48, 'scale_pos_weight': 1.4384171172906284, 'reg_alpha': 0.0827233817845972, 'reg_lambda': 0.009866687535518668}. Best is trial 89 with value: 0.9487292093824138.\u001b[0m\n",
            "\u001b[32m[I 2023-05-08 13:01:38,337]\u001b[0m Trial 196 finished with value: 0.9458878059179436 and parameters: {'learning_rate': 0.07159592277374252, 'num_leaves': 63, 'min_child_samples': 48, 'scale_pos_weight': 1.015041607970709, 'reg_alpha': 0.08964033531503098, 'reg_lambda': 0.016031126423058022}. Best is trial 89 with value: 0.9487292093824138.\u001b[0m\n",
            "\u001b[32m[I 2023-05-08 13:01:50,944]\u001b[0m Trial 197 finished with value: 0.9471053934148901 and parameters: {'learning_rate': 0.01291449184496568, 'num_leaves': 62, 'min_child_samples': 48, 'scale_pos_weight': 1.4758094302685967, 'reg_alpha': 0.08219451946364742, 'reg_lambda': 0.025973323607748046}. Best is trial 89 with value: 0.9487292093824138.\u001b[0m\n",
            "\u001b[32m[I 2023-05-08 13:01:59,913]\u001b[0m Trial 198 finished with value: 0.944940213965293 and parameters: {'learning_rate': 0.026368050509876617, 'num_leaves': 66, 'min_child_samples': 46, 'scale_pos_weight': 1.729408384976719, 'reg_alpha': 0.06306593104094368, 'reg_lambda': 0.005916099979597817}. Best is trial 89 with value: 0.9487292093824138.\u001b[0m\n",
            "\u001b[32m[I 2023-05-08 13:02:17,292]\u001b[0m Trial 199 finished with value: 0.9485934339206262 and parameters: {'learning_rate': 0.008231116794674509, 'num_leaves': 53, 'min_child_samples': 44, 'scale_pos_weight': 1.3447486786235676, 'reg_alpha': 0.08370847979927429, 'reg_lambda': 0.013037852315951278}. Best is trial 89 with value: 0.9487292093824138.\u001b[0m\n"
          ]
        }
      ]
    },
    {
      "cell_type": "code",
      "source": [
        "best_params_after_200_trials_with_TPE_sampler = {'learning_rate': 0.006788716196826271,\n",
        "                                                  'num_leaves': 44,\n",
        "                                                  'min_child_samples': 45,\n",
        "                                                  'scale_pos_weight': 1.1848069434581796,\n",
        "                                                  'reg_alpha': 0.07885543177387411,\n",
        "                                                  'reg_lambda': 0.002309836099942583}"
      ],
      "metadata": {
        "id": "tvcVy3Qmdh7Y"
      },
      "execution_count": 141,
      "outputs": []
    },
    {
      "cell_type": "code",
      "source": [
        "# Best parameters, with validation set incorporated into training set\n",
        "best_params = study.best_params\n",
        "\n",
        "optuna_accuracy, optuna_std_scaler, optuna_clf = train_lgb(X_train, y_train,\n",
        "                                      X_test, y_test,\n",
        "                                      params = best_params,\n",
        "                                      early_stopping_patience = 5000\n",
        "                                      )\n",
        "accuracy, std_scaler, clf = train_lgb(X_train, y_train,\n",
        "                                      X_test, y_test,\n",
        "                                      params = default_params,\n",
        "                                      early_stopping_patience = 5000\n",
        "                                      )\n",
        "\n",
        "# There is overfitting in hyperparameter optimization: random_state has to be changed for each iteration\n",
        "print(f\"Model accuracy with best params from hyperparameter optimization: {optuna_accuracy}\")\n",
        "print(f\"Model accuracy with default params: {accuracy}\")"
      ],
      "metadata": {
        "colab": {
          "base_uri": "https://localhost:8080/"
        },
        "id": "08lvLLkBz0V4",
        "outputId": "fc417690-e4a6-4dda-9e82-79ccaa716385"
      },
      "execution_count": 171,
      "outputs": [
        {
          "output_type": "stream",
          "name": "stdout",
          "text": [
            "Model accuracy with best params from hyperparameter optimization: 0.9237012987012987\n",
            "Model accuracy with default params: 0.9534632034632035\n"
          ]
        }
      ]
    },
    {
      "cell_type": "code",
      "source": [
        "X_test_pp = preprocess(X_test, encoders=[cat_enc, std_scaler])\n",
        "\n",
        "y_pred=clf.predict(X_test_pp)\n",
        "from sklearn.metrics import accuracy_score\n",
        "accuracy=accuracy_score(y_pred, y_test)\n",
        "\n",
        "print(f\"Model accuracy: {accuracy}\")"
      ],
      "metadata": {
        "id": "fJlrTFR7A8be",
        "outputId": "6081b80e-7e04-4ec4-834c-ac2c6d455b10",
        "colab": {
          "base_uri": "https://localhost:8080/"
        }
      },
      "execution_count": 147,
      "outputs": [
        {
          "output_type": "stream",
          "name": "stdout",
          "text": [
            "Model accuracy: 0.9534632034632035\n"
          ]
        }
      ]
    },
    {
      "cell_type": "markdown",
      "source": [
        "# Results"
      ],
      "metadata": {
        "id": "NJxEKTG6h-xq"
      }
    },
    {
      "cell_type": "code",
      "source": [
        "y_proba = clf.predict_proba(X_test_pp)\n",
        "\n",
        "backtest_array = np.concatenate([pl.DataFrame(y_proba), np.reshape(y_test, (-1, 1))], axis=1)\n",
        "backtest_pl = pl.DataFrame(backtest_array, schema=[\"failure\", \"success\", \"ground_truth\"])\n",
        "backtest_arrow = backtest_pl.to_arrow()\n",
        "\n",
        "results = duckdb.query(\"\"\"\n",
        "select \n",
        "  t2.*,\n",
        "  case when decile is not null\n",
        "      then round(sum(conversions) over(order by decile desc nulls last rows between unbounded preceding and 0 preceding) / \n",
        "                  sum(lead_cnt) over(order by decile desc nulls last rows between unbounded preceding and 0 preceding), 4) \n",
        "      else 0.3912 end as precision,\n",
        "  case when decile is not null\n",
        "      then round(sum(conversions) over(order by decile desc nulls last rows between unbounded preceding and 0 preceding) / sum(conversions) over(), 4) \n",
        "      else 1 end as recall\n",
        "from (\n",
        "    select \n",
        "      decile,\n",
        "      round(min(success), 4) as decile_value,\n",
        "      count() as lead_cnt,\n",
        "      sum(ground_truth) as conversions,\n",
        "      round(avg(ground_truth), 4) as hit_rate\n",
        "    from (select\n",
        "            ntile(10) over(order by success asc) - 1 as decile,\n",
        "            success,\n",
        "            ground_truth\n",
        "          from backtest_arrow\n",
        "        ) t1\n",
        "    group by grouping sets ((decile), ())\n",
        ") t2\n",
        "    order by decile desc nulls last\n",
        "\"\"\")\n",
        "\n",
        "print(results)"
      ],
      "metadata": {
        "id": "3ceVXI0kBfqg",
        "outputId": "aee08184-d206-4196-b2bf-50afdf9d3837",
        "colab": {
          "base_uri": "https://localhost:8080/"
        }
      },
      "execution_count": 170,
      "outputs": [
        {
          "output_type": "stream",
          "name": "stdout",
          "text": [
            "┌────────┬──────────────┬──────────┬─────────────┬──────────┬───────────┬────────┐\n",
            "│ decile │ decile_value │ lead_cnt │ conversions │ hit_rate │ precision │ recall │\n",
            "│ int64  │    double    │  int64   │   double    │  double  │  double   │ double │\n",
            "├────────┼──────────────┼──────────┼─────────────┼──────────┼───────────┼────────┤\n",
            "│      9 │       0.9959 │      184 │       182.0 │   0.9891 │    0.9891 │ 0.1259 │\n",
            "│      8 │       0.9886 │      184 │       184.0 │      1.0 │    0.9946 │ 0.2531 │\n",
            "│      7 │       0.9433 │      185 │       177.0 │   0.9568 │    0.9819 │ 0.3755 │\n",
            "│      6 │       0.3466 │      185 │       143.0 │    0.773 │    0.9295 │ 0.4744 │\n",
            "│      5 │       0.0484 │      185 │        22.0 │   0.1189 │    0.7671 │ 0.4896 │\n",
            "│      4 │       0.0183 │      185 │        10.0 │   0.0541 │     0.648 │ 0.4965 │\n",
            "│      3 │       0.0087 │      185 │         3.0 │   0.0162 │    0.5576 │ 0.4986 │\n",
            "│      2 │       0.0038 │      185 │         1.0 │   0.0054 │    0.4885 │ 0.4993 │\n",
            "│      1 │       0.0015 │      185 │         0.0 │      0.0 │    0.4342 │ 0.4993 │\n",
            "│      0 │       0.0002 │      185 │         1.0 │   0.0054 │    0.3912 │    0.5 │\n",
            "│   NULL │       0.0002 │     1848 │       723.0 │   0.3912 │    0.3912 │    1.0 │\n",
            "├────────┴──────────────┴──────────┴─────────────┴──────────┴───────────┴────────┤\n",
            "│ 11 rows                                                              7 columns │\n",
            "└────────────────────────────────────────────────────────────────────────────────┘\n",
            "\n"
          ]
        }
      ]
    }
  ]
}