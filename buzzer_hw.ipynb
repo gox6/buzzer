{
  "nbformat": 4,
  "nbformat_minor": 0,
  "metadata": {
    "colab": {
      "provenance": [],
      "toc_visible": true,
      "authorship_tag": "ABX9TyMeavS0IAIgwQ+wzSEcupKE",
      "include_colab_link": true
    },
    "kernelspec": {
      "name": "python3",
      "display_name": "Python 3"
    },
    "language_info": {
      "name": "python"
    }
  },
  "cells": [
    {
      "cell_type": "markdown",
      "metadata": {
        "id": "view-in-github",
        "colab_type": "text"
      },
      "source": [
        "<a href=\"https://colab.research.google.com/github/gox6/buzzer/blob/main/buzzer_hw.ipynb\" target=\"_parent\"><img src=\"https://colab.research.google.com/assets/colab-badge.svg\" alt=\"Open In Colab\"/></a>"
      ]
    },
    {
      "cell_type": "markdown",
      "source": [
        "# Data cleanup"
      ],
      "metadata": {
        "id": "OETu99g2PC0L"
      }
    },
    {
      "cell_type": "code",
      "source": [
        "import pandas as pd\n",
        "import polars as pl"
      ],
      "metadata": {
        "id": "PJvAImoNPMgu"
      },
      "execution_count": 69,
      "outputs": []
    },
    {
      "cell_type": "code",
      "source": [
        "# Getting data from Google Drive file\n",
        "url='https://drive.google.com/uc?id=1FrSdVAw_nmouSCE7VZ54-_HfM_C9DIC6'\n",
        "df_orig = pl.read_csv(url)"
      ],
      "metadata": {
        "id": "t4zDdPU7NDc8"
      },
      "execution_count": 70,
      "outputs": []
    },
    {
      "cell_type": "code",
      "source": [
        "# Renaming columns using snake_case\n",
        "df = df_orig[:]\n",
        "to_snake_case = lambda x: '_'.join(x.lower().split(' '))\n",
        "df.columns = list(map(to_snake_case, df_orig.columns))"
      ],
      "metadata": {
        "id": "M5g1jibjQbEm"
      },
      "execution_count": 72,
      "outputs": []
    },
    {
      "cell_type": "code",
      "source": [
        "df.head(5)"
      ],
      "metadata": {
        "id": "vWOBBSofVbnV",
        "outputId": "776fbb09-d4f4-4235-edde-fa9845845bbc",
        "colab": {
          "base_uri": "https://localhost:8080/",
          "height": 362
        }
      },
      "execution_count": 85,
      "outputs": [
        {
          "output_type": "execute_result",
          "data": {
            "text/plain": [
              "shape: (5, 36)\n",
              "┌───────────┬───────────┬───────────┬────────────┬───┬────────────┬────────────┬────────────┬────────────┐\n",
              "│ lead_numb ┆ lead_orig ┆ lead_sour ┆ do_not_ema ┆ … ┆ asymmetriq ┆ i_agree_to ┆ a_free_cop ┆ last_notab │\n",
              "│ er        ┆ in        ┆ ce        ┆ il         ┆   ┆ ue_profile ┆ _pay_the_a ┆ y_of_maste ┆ le_activit │\n",
              "│ ---       ┆ ---       ┆ ---       ┆ ---        ┆   ┆ _score     ┆ mount_thro ┆ ring_the_i ┆ y          │\n",
              "│ i64       ┆ str       ┆ str       ┆ str        ┆   ┆ ---        ┆ ug…        ┆ nt…        ┆ ---        │\n",
              "│           ┆           ┆           ┆            ┆   ┆ f64        ┆ ---        ┆ ---        ┆ str        │\n",
              "│           ┆           ┆           ┆            ┆   ┆            ┆ str        ┆ str        ┆            │\n",
              "╞═══════════╪═══════════╪═══════════╪════════════╪═══╪════════════╪════════════╪════════════╪════════════╡\n",
              "│ 660737    ┆ API       ┆ Olark     ┆ No         ┆ … ┆ 15.0       ┆ No         ┆ No         ┆ Modified   │\n",
              "│           ┆           ┆ Chat      ┆            ┆   ┆            ┆            ┆            ┆            │\n",
              "│ 660728    ┆ API       ┆ Organic   ┆ No         ┆ … ┆ 15.0       ┆ No         ┆ No         ┆ Email      │\n",
              "│           ┆           ┆ Search    ┆            ┆   ┆            ┆            ┆            ┆ Opened     │\n",
              "│ 660727    ┆ Landing   ┆ Direct    ┆ No         ┆ … ┆ 20.0       ┆ No         ┆ Yes        ┆ Email      │\n",
              "│           ┆ Page Subm ┆ Traffic   ┆            ┆   ┆            ┆            ┆            ┆ Opened     │\n",
              "│           ┆ ission    ┆           ┆            ┆   ┆            ┆            ┆            ┆            │\n",
              "│ 660719    ┆ Landing   ┆ Direct    ┆ No         ┆ … ┆ 17.0       ┆ No         ┆ No         ┆ Modified   │\n",
              "│           ┆ Page Subm ┆ Traffic   ┆            ┆   ┆            ┆            ┆            ┆            │\n",
              "│           ┆ ission    ┆           ┆            ┆   ┆            ┆            ┆            ┆            │\n",
              "│ 660681    ┆ Landing   ┆ Google    ┆ No         ┆ … ┆ 18.0       ┆ No         ┆ No         ┆ Modified   │\n",
              "│           ┆ Page Subm ┆           ┆            ┆   ┆            ┆            ┆            ┆            │\n",
              "│           ┆ ission    ┆           ┆            ┆   ┆            ┆            ┆            ┆            │\n",
              "└───────────┴───────────┴───────────┴────────────┴───┴────────────┴────────────┴────────────┴────────────┘"
            ],
            "text/html": [
              "<div><style>\n",
              ".dataframe > thead > tr > th,\n",
              ".dataframe > tbody > tr > td {\n",
              "  text-align: right;\n",
              "}\n",
              "</style>\n",
              "<small>shape: (5, 36)</small><table border=\"1\" class=\"dataframe\"><thead><tr><th>lead_number</th><th>lead_origin</th><th>lead_source</th><th>do_not_email</th><th>do_not_call</th><th>converted</th><th>totalvisits</th><th>total_time_spent_on_website</th><th>page_views_per_visit</th><th>last_activity</th><th>country</th><th>specialization</th><th>how_did_you_hear_about_x_education</th><th>what_is_your_current_occupation</th><th>what_matters_most_to_you_in_choosing_a_course</th><th>search</th><th>magazine</th><th>newspaper_article</th><th>x_education_forums</th><th>newspaper</th><th>digital_advertisement</th><th>through_recommendations</th><th>receive_more_updates_about_our_courses</th><th>tags</th><th>lead_quality</th><th>update_me_on_supply_chain_content</th><th>get_updates_on_dm_content</th><th>lead_profile</th><th>city</th><th>asymmetrique_activity_index</th><th>asymmetrique_profile_index</th><th>asymmetrique_activity_score</th><th>asymmetrique_profile_score</th><th>i_agree_to_pay_the_amount_through_cheque</th><th>a_free_copy_of_mastering_the_interview</th><th>last_notable_activity</th></tr><tr><td>i64</td><td>str</td><td>str</td><td>str</td><td>str</td><td>i64</td><td>f64</td><td>i64</td><td>f64</td><td>str</td><td>str</td><td>str</td><td>str</td><td>str</td><td>str</td><td>str</td><td>str</td><td>str</td><td>str</td><td>str</td><td>str</td><td>str</td><td>str</td><td>str</td><td>str</td><td>str</td><td>str</td><td>str</td><td>str</td><td>str</td><td>str</td><td>f64</td><td>f64</td><td>str</td><td>str</td><td>str</td></tr></thead><tbody><tr><td>660737</td><td>&quot;API&quot;</td><td>&quot;Olark Chat&quot;</td><td>&quot;No&quot;</td><td>&quot;No&quot;</td><td>0</td><td>0.0</td><td>0</td><td>0.0</td><td>&quot;Page Visited o…</td><td>&quot;India&quot;</td><td>&quot;Others&quot;</td><td>null</td><td>&quot;Unemployed&quot;</td><td>&quot;Better Career …</td><td>&quot;No&quot;</td><td>&quot;No&quot;</td><td>&quot;No&quot;</td><td>&quot;No&quot;</td><td>&quot;No&quot;</td><td>&quot;No&quot;</td><td>&quot;No&quot;</td><td>&quot;No&quot;</td><td>&quot;Interested in …</td><td>&quot;Low in Relevan…</td><td>&quot;No&quot;</td><td>&quot;No&quot;</td><td>null</td><td>null</td><td>&quot;02.Medium&quot;</td><td>&quot;02.Medium&quot;</td><td>15.0</td><td>15.0</td><td>&quot;No&quot;</td><td>&quot;No&quot;</td><td>&quot;Modified&quot;</td></tr><tr><td>660728</td><td>&quot;API&quot;</td><td>&quot;Organic Search…</td><td>&quot;No&quot;</td><td>&quot;No&quot;</td><td>0</td><td>5.0</td><td>674</td><td>2.5</td><td>&quot;Email Opened&quot;</td><td>&quot;India&quot;</td><td>&quot;Others&quot;</td><td>null</td><td>&quot;Unemployed&quot;</td><td>&quot;Better Career …</td><td>&quot;No&quot;</td><td>&quot;No&quot;</td><td>&quot;No&quot;</td><td>&quot;No&quot;</td><td>&quot;No&quot;</td><td>&quot;No&quot;</td><td>&quot;No&quot;</td><td>&quot;No&quot;</td><td>&quot;Ringing&quot;</td><td>&quot;Not Sure&quot;</td><td>&quot;No&quot;</td><td>&quot;No&quot;</td><td>null</td><td>null</td><td>&quot;02.Medium&quot;</td><td>&quot;02.Medium&quot;</td><td>15.0</td><td>15.0</td><td>&quot;No&quot;</td><td>&quot;No&quot;</td><td>&quot;Email Opened&quot;</td></tr><tr><td>660727</td><td>&quot;Landing Page S…</td><td>&quot;Direct Traffic…</td><td>&quot;No&quot;</td><td>&quot;No&quot;</td><td>1</td><td>2.0</td><td>1532</td><td>2.0</td><td>&quot;Email Opened&quot;</td><td>&quot;India&quot;</td><td>&quot;Business Admin…</td><td>null</td><td>&quot;Student&quot;</td><td>&quot;Better Career …</td><td>&quot;No&quot;</td><td>&quot;No&quot;</td><td>&quot;No&quot;</td><td>&quot;No&quot;</td><td>&quot;No&quot;</td><td>&quot;No&quot;</td><td>&quot;No&quot;</td><td>&quot;No&quot;</td><td>&quot;Will revert af…</td><td>&quot;Might be&quot;</td><td>&quot;No&quot;</td><td>&quot;No&quot;</td><td>&quot;Potential Lead…</td><td>&quot;Mumbai&quot;</td><td>&quot;02.Medium&quot;</td><td>&quot;01.High&quot;</td><td>14.0</td><td>20.0</td><td>&quot;No&quot;</td><td>&quot;Yes&quot;</td><td>&quot;Email Opened&quot;</td></tr><tr><td>660719</td><td>&quot;Landing Page S…</td><td>&quot;Direct Traffic…</td><td>&quot;No&quot;</td><td>&quot;No&quot;</td><td>0</td><td>1.0</td><td>305</td><td>1.0</td><td>&quot;Unreachable&quot;</td><td>&quot;India&quot;</td><td>&quot;Media and Adve…</td><td>&quot;Word Of Mouth&quot;</td><td>&quot;Unemployed&quot;</td><td>&quot;Better Career …</td><td>&quot;No&quot;</td><td>&quot;No&quot;</td><td>&quot;No&quot;</td><td>&quot;No&quot;</td><td>&quot;No&quot;</td><td>&quot;No&quot;</td><td>&quot;No&quot;</td><td>&quot;No&quot;</td><td>&quot;Ringing&quot;</td><td>&quot;Not Sure&quot;</td><td>&quot;No&quot;</td><td>&quot;No&quot;</td><td>null</td><td>&quot;Mumbai&quot;</td><td>&quot;02.Medium&quot;</td><td>&quot;01.High&quot;</td><td>13.0</td><td>17.0</td><td>&quot;No&quot;</td><td>&quot;No&quot;</td><td>&quot;Modified&quot;</td></tr><tr><td>660681</td><td>&quot;Landing Page S…</td><td>&quot;Google&quot;</td><td>&quot;No&quot;</td><td>&quot;No&quot;</td><td>1</td><td>2.0</td><td>1428</td><td>1.0</td><td>&quot;Converted to L…</td><td>&quot;India&quot;</td><td>&quot;Others&quot;</td><td>&quot;Other&quot;</td><td>&quot;Unemployed&quot;</td><td>&quot;Better Career …</td><td>&quot;No&quot;</td><td>&quot;No&quot;</td><td>&quot;No&quot;</td><td>&quot;No&quot;</td><td>&quot;No&quot;</td><td>&quot;No&quot;</td><td>&quot;No&quot;</td><td>&quot;No&quot;</td><td>&quot;Will revert af…</td><td>&quot;Might be&quot;</td><td>&quot;No&quot;</td><td>&quot;No&quot;</td><td>null</td><td>&quot;Mumbai&quot;</td><td>&quot;02.Medium&quot;</td><td>&quot;01.High&quot;</td><td>15.0</td><td>18.0</td><td>&quot;No&quot;</td><td>&quot;No&quot;</td><td>&quot;Modified&quot;</td></tr></tbody></table></div>"
            ]
          },
          "metadata": {},
          "execution_count": 85
        }
      ]
    },
    {
      "cell_type": "code",
      "source": [
        "df.describe()"
      ],
      "metadata": {
        "id": "ifCsXYWDT_fo",
        "outputId": "b0d9cb29-b67c-40d3-bd96-64876445a4ca",
        "colab": {
          "base_uri": "https://localhost:8080/",
          "height": 452
        }
      },
      "execution_count": 90,
      "outputs": [
        {
          "output_type": "execute_result",
          "data": {
            "text/plain": [
              "shape: (9, 37)\n",
              "┌──────┬───────────┬───────────┬───────────┬───┬────────────┬────────────┬────────────┬────────────┐\n",
              "│ desc ┆ lead_numb ┆ lead_orig ┆ lead_sour ┆ … ┆ asymmetriq ┆ i_agree_to ┆ a_free_cop ┆ last_notab │\n",
              "│ ribe ┆ er        ┆ in        ┆ ce        ┆   ┆ ue_profile ┆ _pay_the_a ┆ y_of_maste ┆ le_activit │\n",
              "│ ---  ┆ ---       ┆ ---       ┆ ---       ┆   ┆ _score     ┆ mount_thro ┆ ring_the_i ┆ y          │\n",
              "│ str  ┆ f64       ┆ str       ┆ str       ┆   ┆ ---        ┆ ug…        ┆ nt…        ┆ ---        │\n",
              "│      ┆           ┆           ┆           ┆   ┆ f64        ┆ ---        ┆ ---        ┆ str        │\n",
              "│      ┆           ┆           ┆           ┆   ┆            ┆ str        ┆ str        ┆            │\n",
              "╞══════╪═══════════╪═══════════╪═══════════╪═══╪════════════╪════════════╪════════════╪════════════╡\n",
              "│ coun ┆ 9240.0    ┆ 9240      ┆ 9240      ┆ … ┆ 9240.0     ┆ 9240       ┆ 9240       ┆ 9240       │\n",
              "│ t    ┆           ┆           ┆           ┆   ┆            ┆            ┆            ┆            │\n",
              "│ null ┆ 0.0       ┆ 0         ┆ 36        ┆ … ┆ 4218.0     ┆ 0          ┆ 0          ┆ 0          │\n",
              "│ _cou ┆           ┆           ┆           ┆   ┆            ┆            ┆            ┆            │\n",
              "│ nt   ┆           ┆           ┆           ┆   ┆            ┆            ┆            ┆            │\n",
              "│ mean ┆ 617188.43 ┆ null      ┆ null      ┆ … ┆ 16.344883  ┆ null       ┆ null       ┆ null       │\n",
              "│      ┆ 5606      ┆           ┆           ┆   ┆            ┆            ┆            ┆            │\n",
              "│ std  ┆ 23405.995 ┆ null      ┆ null      ┆ … ┆ 1.811395   ┆ null       ┆ null       ┆ null       │\n",
              "│      ┆ 698       ┆           ┆           ┆   ┆            ┆            ┆            ┆            │\n",
              "│ min  ┆ 579533.0  ┆ API       ┆ Click2cal ┆ … ┆ 11.0       ┆ No         ┆ No         ┆ Approached │\n",
              "│      ┆           ┆           ┆ l         ┆   ┆            ┆            ┆            ┆ upfront    │\n",
              "│ max  ┆ 660737.0  ┆ Quick Add ┆ youtubech ┆ … ┆ 20.0       ┆ No         ┆ Yes        ┆ View in    │\n",
              "│      ┆           ┆ Form      ┆ annel     ┆   ┆            ┆            ┆            ┆ browser    │\n",
              "│      ┆           ┆           ┆           ┆   ┆            ┆            ┆            ┆ link       │\n",
              "│      ┆           ┆           ┆           ┆   ┆            ┆            ┆            ┆ Clicked    │\n",
              "│ medi ┆ 615479.0  ┆ null      ┆ null      ┆ … ┆ 16.0       ┆ null       ┆ null       ┆ null       │\n",
              "│ an   ┆           ┆           ┆           ┆   ┆            ┆            ┆            ┆            │\n",
              "│ 25%  ┆ 596485.0  ┆ null      ┆ null      ┆ … ┆ 15.0       ┆ null       ┆ null       ┆ null       │\n",
              "│ 75%  ┆ 637388.0  ┆ null      ┆ null      ┆ … ┆ 18.0       ┆ null       ┆ null       ┆ null       │\n",
              "└──────┴───────────┴───────────┴───────────┴───┴────────────┴────────────┴────────────┴────────────┘"
            ],
            "text/html": [
              "<div><style>\n",
              ".dataframe > thead > tr > th,\n",
              ".dataframe > tbody > tr > td {\n",
              "  text-align: right;\n",
              "}\n",
              "</style>\n",
              "<small>shape: (9, 37)</small><table border=\"1\" class=\"dataframe\"><thead><tr><th>describe</th><th>lead_number</th><th>lead_origin</th><th>lead_source</th><th>do_not_email</th><th>do_not_call</th><th>converted</th><th>totalvisits</th><th>total_time_spent_on_website</th><th>page_views_per_visit</th><th>last_activity</th><th>country</th><th>specialization</th><th>how_did_you_hear_about_x_education</th><th>what_is_your_current_occupation</th><th>what_matters_most_to_you_in_choosing_a_course</th><th>search</th><th>magazine</th><th>newspaper_article</th><th>x_education_forums</th><th>newspaper</th><th>digital_advertisement</th><th>through_recommendations</th><th>receive_more_updates_about_our_courses</th><th>tags</th><th>lead_quality</th><th>update_me_on_supply_chain_content</th><th>get_updates_on_dm_content</th><th>lead_profile</th><th>city</th><th>asymmetrique_activity_index</th><th>asymmetrique_profile_index</th><th>asymmetrique_activity_score</th><th>asymmetrique_profile_score</th><th>i_agree_to_pay_the_amount_through_cheque</th><th>a_free_copy_of_mastering_the_interview</th><th>last_notable_activity</th></tr><tr><td>str</td><td>f64</td><td>str</td><td>str</td><td>str</td><td>str</td><td>f64</td><td>f64</td><td>f64</td><td>f64</td><td>str</td><td>str</td><td>str</td><td>str</td><td>str</td><td>str</td><td>str</td><td>str</td><td>str</td><td>str</td><td>str</td><td>str</td><td>str</td><td>str</td><td>str</td><td>str</td><td>str</td><td>str</td><td>str</td><td>str</td><td>str</td><td>str</td><td>f64</td><td>f64</td><td>str</td><td>str</td><td>str</td></tr></thead><tbody><tr><td>&quot;count&quot;</td><td>9240.0</td><td>&quot;9240&quot;</td><td>&quot;9240&quot;</td><td>&quot;9240&quot;</td><td>&quot;9240&quot;</td><td>9240.0</td><td>9240.0</td><td>9240.0</td><td>9240.0</td><td>&quot;9240&quot;</td><td>&quot;9240&quot;</td><td>&quot;9240&quot;</td><td>&quot;9240&quot;</td><td>&quot;9240&quot;</td><td>&quot;9240&quot;</td><td>&quot;9240&quot;</td><td>&quot;9240&quot;</td><td>&quot;9240&quot;</td><td>&quot;9240&quot;</td><td>&quot;9240&quot;</td><td>&quot;9240&quot;</td><td>&quot;9240&quot;</td><td>&quot;9240&quot;</td><td>&quot;9240&quot;</td><td>&quot;9240&quot;</td><td>&quot;9240&quot;</td><td>&quot;9240&quot;</td><td>&quot;9240&quot;</td><td>&quot;9240&quot;</td><td>&quot;9240&quot;</td><td>&quot;9240&quot;</td><td>9240.0</td><td>9240.0</td><td>&quot;9240&quot;</td><td>&quot;9240&quot;</td><td>&quot;9240&quot;</td></tr><tr><td>&quot;null_count&quot;</td><td>0.0</td><td>&quot;0&quot;</td><td>&quot;36&quot;</td><td>&quot;0&quot;</td><td>&quot;0&quot;</td><td>0.0</td><td>137.0</td><td>0.0</td><td>137.0</td><td>&quot;103&quot;</td><td>&quot;0&quot;</td><td>&quot;0&quot;</td><td>&quot;7250&quot;</td><td>&quot;0&quot;</td><td>&quot;2709&quot;</td><td>&quot;0&quot;</td><td>&quot;0&quot;</td><td>&quot;0&quot;</td><td>&quot;0&quot;</td><td>&quot;0&quot;</td><td>&quot;0&quot;</td><td>&quot;0&quot;</td><td>&quot;0&quot;</td><td>&quot;0&quot;</td><td>&quot;0&quot;</td><td>&quot;0&quot;</td><td>&quot;0&quot;</td><td>&quot;6855&quot;</td><td>&quot;3669&quot;</td><td>&quot;4218&quot;</td><td>&quot;4218&quot;</td><td>4218.0</td><td>4218.0</td><td>&quot;0&quot;</td><td>&quot;0&quot;</td><td>&quot;0&quot;</td></tr><tr><td>&quot;mean&quot;</td><td>617188.435606</td><td>null</td><td>null</td><td>null</td><td>null</td><td>0.38539</td><td>3.445238</td><td>487.698268</td><td>2.36282</td><td>null</td><td>null</td><td>null</td><td>null</td><td>null</td><td>null</td><td>null</td><td>null</td><td>null</td><td>null</td><td>null</td><td>null</td><td>null</td><td>null</td><td>null</td><td>null</td><td>null</td><td>null</td><td>null</td><td>null</td><td>null</td><td>null</td><td>14.306252</td><td>16.344883</td><td>null</td><td>null</td><td>null</td></tr><tr><td>&quot;std&quot;</td><td>23405.995698</td><td>null</td><td>null</td><td>null</td><td>null</td><td>0.486714</td><td>4.854853</td><td>548.021466</td><td>2.161418</td><td>null</td><td>null</td><td>null</td><td>null</td><td>null</td><td>null</td><td>null</td><td>null</td><td>null</td><td>null</td><td>null</td><td>null</td><td>null</td><td>null</td><td>null</td><td>null</td><td>null</td><td>null</td><td>null</td><td>null</td><td>null</td><td>null</td><td>1.386694</td><td>1.811395</td><td>null</td><td>null</td><td>null</td></tr><tr><td>&quot;min&quot;</td><td>579533.0</td><td>&quot;API&quot;</td><td>&quot;Click2call&quot;</td><td>&quot;No&quot;</td><td>&quot;No&quot;</td><td>0.0</td><td>0.0</td><td>0.0</td><td>0.0</td><td>&quot;Approached upf…</td><td>&quot;Asia/Pacific R…</td><td>&quot;Banking, Inves…</td><td>&quot;Advertisements…</td><td>&quot;Businessman&quot;</td><td>&quot;Better Career …</td><td>&quot;No&quot;</td><td>&quot;No&quot;</td><td>&quot;No&quot;</td><td>&quot;No&quot;</td><td>&quot;No&quot;</td><td>&quot;No&quot;</td><td>&quot;No&quot;</td><td>&quot;No&quot;</td><td>&quot;Already a stud…</td><td>&quot;High in Releva…</td><td>&quot;No&quot;</td><td>&quot;No&quot;</td><td>&quot;Dual Specializ…</td><td>&quot;Mumbai&quot;</td><td>&quot;01.High&quot;</td><td>&quot;01.High&quot;</td><td>7.0</td><td>11.0</td><td>&quot;No&quot;</td><td>&quot;No&quot;</td><td>&quot;Approached upf…</td></tr><tr><td>&quot;max&quot;</td><td>660737.0</td><td>&quot;Quick Add Form…</td><td>&quot;youtubechannel…</td><td>&quot;Yes&quot;</td><td>&quot;Yes&quot;</td><td>1.0</td><td>251.0</td><td>2272.0</td><td>55.0</td><td>&quot;Visited Booth …</td><td>&quot;unknown&quot;</td><td>&quot;Travel and Tou…</td><td>&quot;Word Of Mouth&quot;</td><td>&quot;Working Profes…</td><td>&quot;Other&quot;</td><td>&quot;Yes&quot;</td><td>&quot;No&quot;</td><td>&quot;Yes&quot;</td><td>&quot;Yes&quot;</td><td>&quot;Yes&quot;</td><td>&quot;Yes&quot;</td><td>&quot;Yes&quot;</td><td>&quot;No&quot;</td><td>&quot;wrong number g…</td><td>&quot;Worst&quot;</td><td>&quot;No&quot;</td><td>&quot;No&quot;</td><td>&quot;Student of Som…</td><td>&quot;Tier II Cities…</td><td>&quot;03.Low&quot;</td><td>&quot;03.Low&quot;</td><td>18.0</td><td>20.0</td><td>&quot;No&quot;</td><td>&quot;Yes&quot;</td><td>&quot;View in browse…</td></tr><tr><td>&quot;median&quot;</td><td>615479.0</td><td>null</td><td>null</td><td>null</td><td>null</td><td>0.0</td><td>3.0</td><td>248.0</td><td>2.0</td><td>null</td><td>null</td><td>null</td><td>null</td><td>null</td><td>null</td><td>null</td><td>null</td><td>null</td><td>null</td><td>null</td><td>null</td><td>null</td><td>null</td><td>null</td><td>null</td><td>null</td><td>null</td><td>null</td><td>null</td><td>null</td><td>null</td><td>14.0</td><td>16.0</td><td>null</td><td>null</td><td>null</td></tr><tr><td>&quot;25%&quot;</td><td>596485.0</td><td>null</td><td>null</td><td>null</td><td>null</td><td>0.0</td><td>1.0</td><td>12.0</td><td>1.0</td><td>null</td><td>null</td><td>null</td><td>null</td><td>null</td><td>null</td><td>null</td><td>null</td><td>null</td><td>null</td><td>null</td><td>null</td><td>null</td><td>null</td><td>null</td><td>null</td><td>null</td><td>null</td><td>null</td><td>null</td><td>null</td><td>null</td><td>14.0</td><td>15.0</td><td>null</td><td>null</td><td>null</td></tr><tr><td>&quot;75%&quot;</td><td>637388.0</td><td>null</td><td>null</td><td>null</td><td>null</td><td>1.0</td><td>5.0</td><td>936.0</td><td>3.0</td><td>null</td><td>null</td><td>null</td><td>null</td><td>null</td><td>null</td><td>null</td><td>null</td><td>null</td><td>null</td><td>null</td><td>null</td><td>null</td><td>null</td><td>null</td><td>null</td><td>null</td><td>null</td><td>null</td><td>null</td><td>null</td><td>null</td><td>15.0</td><td>18.0</td><td>null</td><td>null</td><td>null</td></tr></tbody></table></div>"
            ]
          },
          "metadata": {},
          "execution_count": 90
        }
      ]
    },
    {
      "cell_type": "code",
      "source": [
        "# Types of variables\n",
        "\n",
        "for column, type_ in zip(df.columns, df.dtypes):\n",
        "  print(f\"{column:<50}{type_}\")"
      ],
      "metadata": {
        "colab": {
          "base_uri": "https://localhost:8080/"
        },
        "id": "6i95jh8RRk4v",
        "outputId": "4332ebc5-c844-4da1-f1f9-99b32f1517c9"
      },
      "execution_count": 98,
      "outputs": [
        {
          "output_type": "stream",
          "name": "stdout",
          "text": [
            "lead_number                                       Int64\n",
            "lead_origin                                       Utf8\n",
            "lead_source                                       Utf8\n",
            "do_not_email                                      Utf8\n",
            "do_not_call                                       Utf8\n",
            "converted                                         Int64\n",
            "totalvisits                                       Float64\n",
            "total_time_spent_on_website                       Float64\n",
            "page_views_per_visit                              Float64\n",
            "last_activity                                     Utf8\n",
            "country                                           Utf8\n",
            "specialization                                    Utf8\n",
            "how_did_you_hear_about_x_education                Utf8\n",
            "what_is_your_current_occupation                   Utf8\n",
            "what_matters_most_to_you_in_choosing_a_course     Utf8\n",
            "search                                            Utf8\n",
            "magazine                                          Utf8\n",
            "newspaper_article                                 Utf8\n",
            "x_education_forums                                Utf8\n",
            "newspaper                                         Utf8\n",
            "digital_advertisement                             Utf8\n",
            "through_recommendations                           Utf8\n",
            "receive_more_updates_about_our_courses            Utf8\n",
            "tags                                              Utf8\n",
            "lead_quality                                      Utf8\n",
            "update_me_on_supply_chain_content                 Utf8\n",
            "get_updates_on_dm_content                         Utf8\n",
            "lead_profile                                      Utf8\n",
            "city                                              Utf8\n",
            "asymmetrique_activity_index                       Utf8\n",
            "asymmetrique_profile_index                        Utf8\n",
            "asymmetrique_activity_score                       Float64\n",
            "asymmetrique_profile_score                        Float64\n",
            "i_agree_to_pay_the_amount_through_cheque          Utf8\n",
            "a_free_copy_of_mastering_the_interview            Utf8\n",
            "last_notable_activity                             Utf8\n"
          ]
        }
      ]
    },
    {
      "cell_type": "code",
      "source": [
        "# Assigning roles to variables\n",
        "\n",
        "df = df.with_columns(pl.col('total_time_spent_on_website').cast(pl.Float64))\n",
        "\n",
        "cat_vars = df.select([pl.col(pl.Utf8)]).columns\n",
        "num_vars = df.select([pl.col(pl.Float64)]).columns\n",
        "skip_vars = ['lead_number']\n",
        "target = 'converted'\n",
        "\n",
        "# Check that all variables were assigned the role\n",
        "assert len(df.columns) == len(cat_vars + num_vars + skip_vars + [target])\n"
      ],
      "metadata": {
        "id": "jSyKfz08Rcaw"
      },
      "execution_count": 95,
      "outputs": []
    },
    {
      "cell_type": "code",
      "source": [
        "from sklearn.model_selection import train_test_split\n",
        "\n",
        "X = df.select(cat_vars + num_vars)\n",
        "y = df.select(pl.col(target))\n",
        "\n",
        "X_train, X_pre, y_train, y_pre = train_test_split(X, y, test_size = 0.4, random_state = 0)\n",
        "X_val, X_test, y_val, y_test = train_test_split(X_pre, y_pre, test_size = 0.5, random_state = 0)"
      ],
      "metadata": {
        "id": "Ugv2HRa7UWnA"
      },
      "execution_count": 124,
      "outputs": []
    },
    {
      "cell_type": "code",
      "source": [],
      "metadata": {
        "id": "HGuNRRY3Tykm"
      },
      "execution_count": 50,
      "outputs": []
    },
    {
      "cell_type": "code",
      "source": [
        "from sklearn.preprocessing import OrdinalEncoder, StandardScaler\n",
        "from functools import reduce\n",
        "import numpy as np\n",
        "\n",
        "cat_enc = OrdinalEncoder()\n",
        "cat_enc.fit(X.select(cat_vars))\n",
        "\n",
        "std_scaler =  StandardScaler()\n",
        "std_scaler.fit(X_train.select(num_vars))\n",
        "\n",
        "def preprocess(X, encoders):\n",
        "    X_partial_encodings = map(lambda enc: enc.transform(X.select(enc.feature_names_in_)), encoders)\n",
        "    return reduce(lambda x, y: np.concatenate([x, y], axis=1), X_partial_encodings)\n",
        "\n",
        "\n",
        "X_train_pp = preprocess(X_train, encoders=[cat_enc, std_scaler])\n",
        "X_val_pp = preprocess(X_val, encoders=[cat_enc, std_scaler])\n",
        "X_test_pp = preprocess(X_test, encoders=[cat_enc, std_scaler])"
      ],
      "metadata": {
        "id": "WCvXL_1uPw5Z"
      },
      "execution_count": 125,
      "outputs": []
    },
    {
      "cell_type": "code",
      "source": [],
      "metadata": {
        "colab": {
          "base_uri": "https://localhost:8080/"
        },
        "id": "kRjXipoUUIpj",
        "outputId": "ad7c05b9-5db5-460b-ed5d-73464f1d616d"
      },
      "execution_count": 54,
      "outputs": [
        {
          "output_type": "execute_result",
          "data": {
            "text/plain": [
              "[array(['API', 'Landing Page Submission', 'Lead Add Form', 'Lead Import',\n",
              "        'Quick Add Form'], dtype=object),\n",
              " array(['Click2call', 'Direct Traffic', 'Facebook', 'Google', 'Live Chat',\n",
              "        'NC_EDM', 'Olark Chat', 'Organic Search', 'Pay per Click Ads',\n",
              "        'Press_Release', 'Reference', 'Referral Sites', 'Social Media',\n",
              "        'WeLearn', 'Welingak Website', 'bing', 'blog', 'google', 'testone',\n",
              "        'welearnblog_Home', 'youtubechannel', None], dtype=object),\n",
              " array(['No', 'Yes'], dtype=object),\n",
              " array(['No', 'Yes'], dtype=object),\n",
              " array(['Approached upfront', 'Converted to Lead', 'Email Bounced',\n",
              "        'Email Link Clicked', 'Email Marked Spam', 'Email Opened',\n",
              "        'Email Received', 'Form Submitted on Website',\n",
              "        'Had a Phone Conversation', 'Olark Chat Conversation',\n",
              "        'Page Visited on Website', 'Resubscribed to emails', 'SMS Sent',\n",
              "        'Unreachable', 'Unsubscribed', 'View in browser link Clicked',\n",
              "        'Visited Booth in Tradeshow', None], dtype=object),\n",
              " array(['Asia/Pacific Region', 'Australia', 'Bahrain', 'Bangladesh',\n",
              "        'Belgium', 'Canada', 'China', 'Denmark', 'France', 'Germany',\n",
              "        'Ghana', 'Hong Kong', 'India', 'Indonesia', 'Italy', 'Kenya',\n",
              "        'Kuwait', 'Liberia', 'Malaysia', 'Netherlands', 'Nigeria', 'Oman',\n",
              "        'Philippines', 'Qatar', 'Russia', 'Saudi Arabia', 'Singapore',\n",
              "        'South Africa', 'Sri Lanka', 'Sweden', 'Switzerland', 'Tanzania',\n",
              "        'Uganda', 'United Arab Emirates', 'United Kingdom',\n",
              "        'United States', 'Vietnam', 'unknown'], dtype=object),\n",
              " array(['Banking, Investment And Insurance', 'Business Administration',\n",
              "        'E-Business', 'E-COMMERCE', 'Finance Management',\n",
              "        'Healthcare Management', 'Hospitality Management',\n",
              "        'Human Resource Management', 'IT Projects Management',\n",
              "        'International Business', 'Marketing Management',\n",
              "        'Media and Advertising', 'Operations Management', 'Others',\n",
              "        'Retail Management', 'Rural and Agribusiness',\n",
              "        'Services Excellence', 'Supply Chain Management',\n",
              "        'Travel and Tourism'], dtype=object),\n",
              " array(['Advertisements', 'Email', 'Multiple Sources', 'Online Search',\n",
              "        'Other', 'SMS', 'Social Media', 'Student of SomeSchool',\n",
              "        'Word Of Mouth', None], dtype=object),\n",
              " array(['Businessman', 'Housewife', 'Other', 'Student', 'Unemployed',\n",
              "        'Working Professional'], dtype=object),\n",
              " array(['Better Career Prospects', 'Flexibility & Convenience', 'Other',\n",
              "        None], dtype=object),\n",
              " array(['No', 'Yes'], dtype=object),\n",
              " array(['No'], dtype=object),\n",
              " array(['No', 'Yes'], dtype=object),\n",
              " array(['No', 'Yes'], dtype=object),\n",
              " array(['No', 'Yes'], dtype=object),\n",
              " array(['No', 'Yes'], dtype=object),\n",
              " array(['No', 'Yes'], dtype=object),\n",
              " array(['No'], dtype=object),\n",
              " array(['Already a student', 'Busy', 'Closed by Horizzon',\n",
              "        'Diploma holder (Not Eligible)', 'Graduation in progress',\n",
              "        'In confusion whether part time or DLP',\n",
              "        'Interested  in full time MBA', 'Interested in Next batch',\n",
              "        'Interested in other courses', 'Lateral student', 'Lost to EINS',\n",
              "        'Lost to Others', 'Not doing further education',\n",
              "        'Recognition issue (DEC approval)', 'Ringing',\n",
              "        'Shall take in the next coming month', 'Still Thinking',\n",
              "        'University not recognized',\n",
              "        'Want to take admission but has financial problems',\n",
              "        'Will revert after reading the email', 'in touch with EINS',\n",
              "        'invalid number', 'number not provided', 'opp hangup',\n",
              "        'switched off', 'wrong number given'], dtype=object),\n",
              " array(['High in Relevance', 'Low in Relevance', 'Might be', 'Not Sure',\n",
              "        'Worst'], dtype=object),\n",
              " array(['No'], dtype=object),\n",
              " array(['No'], dtype=object),\n",
              " array(['Dual Specialization Student', 'Lateral Student', 'Other Leads',\n",
              "        'Potential Lead', 'Student of SomeSchool', None], dtype=object),\n",
              " array(['Mumbai', 'Other Cities', 'Other Cities of Maharashtra',\n",
              "        'Other Metro Cities', 'Thane & Outskirts', 'Tier II Cities', None],\n",
              "       dtype=object),\n",
              " array(['01.High', '02.Medium', '03.Low', None], dtype=object),\n",
              " array(['01.High', '02.Medium', '03.Low', None], dtype=object),\n",
              " array(['No'], dtype=object),\n",
              " array(['No', 'Yes'], dtype=object),\n",
              " array(['Approached upfront', 'Email Bounced', 'Email Link Clicked',\n",
              "        'Email Marked Spam', 'Email Opened', 'Email Received',\n",
              "        'Form Submitted on Website', 'Had a Phone Conversation',\n",
              "        'Modified', 'Olark Chat Conversation', 'Page Visited on Website',\n",
              "        'Resubscribed to emails', 'SMS Sent', 'Unreachable',\n",
              "        'Unsubscribed', 'View in browser link Clicked'], dtype=object)]"
            ]
          },
          "metadata": {},
          "execution_count": 54
        }
      ]
    },
    {
      "cell_type": "markdown",
      "source": [
        "# New section"
      ],
      "metadata": {
        "id": "-F6OSHq90l5N"
      }
    }
  ]
}