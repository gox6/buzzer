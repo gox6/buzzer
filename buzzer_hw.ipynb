{
  "nbformat": 4,
  "nbformat_minor": 0,
  "metadata": {
    "colab": {
      "provenance": [],
      "toc_visible": true,
      "authorship_tag": "ABX9TyMpzj88HsyAiymuNndU3fGb",
      "include_colab_link": true
    },
    "kernelspec": {
      "name": "python3",
      "display_name": "Python 3"
    },
    "language_info": {
      "name": "python"
    }
  },
  "cells": [
    {
      "cell_type": "markdown",
      "metadata": {
        "id": "view-in-github",
        "colab_type": "text"
      },
      "source": [
        "<a href=\"https://colab.research.google.com/github/gox6/buzzer/blob/main/buzzer_hw.ipynb\" target=\"_parent\"><img src=\"https://colab.research.google.com/assets/colab-badge.svg\" alt=\"Open In Colab\"/></a>"
      ]
    },
    {
      "cell_type": "markdown",
      "source": [
        "# Data cleanup"
      ],
      "metadata": {
        "id": "OETu99g2PC0L"
      }
    },
    {
      "cell_type": "code",
      "source": [
        "import pandas as pd\n",
        "import polars as pl"
      ],
      "metadata": {
        "id": "PJvAImoNPMgu"
      },
      "execution_count": 19,
      "outputs": []
    },
    {
      "cell_type": "code",
      "source": [
        "# Getting data from Google Drive file\n",
        "url='https://drive.google.com/uc?id=1FrSdVAw_nmouSCE7VZ54-_HfM_C9DIC6'\n",
        "df_orig = pl.read_csv(url)"
      ],
      "metadata": {
        "id": "t4zDdPU7NDc8"
      },
      "execution_count": 21,
      "outputs": []
    },
    {
      "cell_type": "code",
      "source": [
        "# Renaming columns using snake_case\n",
        "to_snake_case = lambda x: '_'.join(x.lower().split(' '))\n",
        "df_orig.columns = list(map(to_snake_case, df_orig.columns))"
      ],
      "metadata": {
        "id": "M5g1jibjQbEm",
        "outputId": "51c142b0-e03b-4773-bf2a-5ea99574dd3f",
        "colab": {
          "base_uri": "https://localhost:8080/"
        }
      },
      "execution_count": 27,
      "outputs": [
        {
          "output_type": "execute_result",
          "data": {
            "text/plain": [
              "['lead_number',\n",
              " 'lead_origin',\n",
              " 'lead_source',\n",
              " 'do_not_email',\n",
              " 'do_not_call',\n",
              " 'converted',\n",
              " 'totalvisits',\n",
              " 'total_time_spent_on_website',\n",
              " 'page_views_per_visit',\n",
              " 'last_activity',\n",
              " 'country',\n",
              " 'specialization',\n",
              " 'how_did_you_hear_about_x_education',\n",
              " 'what_is_your_current_occupation',\n",
              " 'what_matters_most_to_you_in_choosing_a_course',\n",
              " 'search',\n",
              " 'magazine',\n",
              " 'newspaper_article',\n",
              " 'x_education_forums',\n",
              " 'newspaper',\n",
              " 'digital_advertisement',\n",
              " 'through_recommendations',\n",
              " 'receive_more_updates_about_our_courses',\n",
              " 'tags',\n",
              " 'lead_quality',\n",
              " 'update_me_on_supply_chain_content',\n",
              " 'get_updates_on_dm_content',\n",
              " 'lead_profile',\n",
              " 'city',\n",
              " 'asymmetrique_activity_index',\n",
              " 'asymmetrique_profile_index',\n",
              " 'asymmetrique_activity_score',\n",
              " 'asymmetrique_profile_score',\n",
              " 'i_agree_to_pay_the_amount_through_cheque',\n",
              " 'a_free_copy_of_mastering_the_interview',\n",
              " 'last_notable_activity']"
            ]
          },
          "metadata": {},
          "execution_count": 27
        }
      ]
    },
    {
      "cell_type": "code",
      "source": [
        "for column, type_ in zip(df_orig.columns, df_orig.dtypes):\n",
        "  print(f\"{column:<50}: {type_}\")"
      ],
      "metadata": {
        "id": "6i95jh8RRk4v",
        "outputId": "a07bd145-88eb-491f-e4b1-26e36fa442b8",
        "colab": {
          "base_uri": "https://localhost:8080/"
        }
      },
      "execution_count": 38,
      "outputs": [
        {
          "output_type": "stream",
          "name": "stdout",
          "text": [
            "lead_number                                       : Int64\n",
            "lead_origin                                       : Utf8\n",
            "lead_source                                       : Utf8\n",
            "do_not_email                                      : Utf8\n",
            "do_not_call                                       : Utf8\n",
            "converted                                         : Int64\n",
            "totalvisits                                       : Float64\n",
            "total_time_spent_on_website                       : Int64\n",
            "page_views_per_visit                              : Float64\n",
            "last_activity                                     : Utf8\n",
            "country                                           : Utf8\n",
            "specialization                                    : Utf8\n",
            "how_did_you_hear_about_x_education                : Utf8\n",
            "what_is_your_current_occupation                   : Utf8\n",
            "what_matters_most_to_you_in_choosing_a_course     : Utf8\n",
            "search                                            : Utf8\n",
            "magazine                                          : Utf8\n",
            "newspaper_article                                 : Utf8\n",
            "x_education_forums                                : Utf8\n",
            "newspaper                                         : Utf8\n",
            "digital_advertisement                             : Utf8\n",
            "through_recommendations                           : Utf8\n",
            "receive_more_updates_about_our_courses            : Utf8\n",
            "tags                                              : Utf8\n",
            "lead_quality                                      : Utf8\n",
            "update_me_on_supply_chain_content                 : Utf8\n",
            "get_updates_on_dm_content                         : Utf8\n",
            "lead_profile                                      : Utf8\n",
            "city                                              : Utf8\n",
            "asymmetrique_activity_index                       : Utf8\n",
            "asymmetrique_profile_index                        : Utf8\n",
            "asymmetrique_activity_score                       : Float64\n",
            "asymmetrique_profile_score                        : Float64\n",
            "i_agree_to_pay_the_amount_through_cheque          : Utf8\n",
            "a_free_copy_of_mastering_the_interview            : Utf8\n",
            "last_notable_activity                             : Utf8\n"
          ]
        }
      ]
    },
    {
      "cell_type": "code",
      "source": [
        "print(df_orig.select([pl.col(pl.Utf8), pl.col(pl.Int64)]))"
      ],
      "metadata": {
        "id": "jSyKfz08Rcaw",
        "outputId": "b0c556e6-5be8-4fd8-9de4-247db573a0da",
        "colab": {
          "base_uri": "https://localhost:8080/"
        }
      },
      "execution_count": 29,
      "outputs": [
        {
          "output_type": "stream",
          "name": "stdout",
          "text": [
            "shape: (9_240, 32)\n",
            "┌───────────┬───────────┬────────────┬───────────┬───┬────────────┬───────────┬─────────┬────────────┐\n",
            "│ lead_orig ┆ lead_sour ┆ do_not_ema ┆ do_not_ca ┆ … ┆ last_notab ┆ lead_numb ┆ convert ┆ total_time │\n",
            "│ in        ┆ ce        ┆ il         ┆ ll        ┆   ┆ le_activit ┆ er        ┆ ed      ┆ _spent_on_ │\n",
            "│ ---       ┆ ---       ┆ ---        ┆ ---       ┆   ┆ y          ┆ ---       ┆ ---     ┆ website    │\n",
            "│ str       ┆ str       ┆ str        ┆ str       ┆   ┆ ---        ┆ i64       ┆ i64     ┆ ---        │\n",
            "│           ┆           ┆            ┆           ┆   ┆ str        ┆           ┆         ┆ i64        │\n",
            "╞═══════════╪═══════════╪════════════╪═══════════╪═══╪════════════╪═══════════╪═════════╪════════════╡\n",
            "│ API       ┆ Olark     ┆ No         ┆ No        ┆ … ┆ Modified   ┆ 660737    ┆ 0       ┆ 0          │\n",
            "│           ┆ Chat      ┆            ┆           ┆   ┆            ┆           ┆         ┆            │\n",
            "│ API       ┆ Organic   ┆ No         ┆ No        ┆ … ┆ Email      ┆ 660728    ┆ 0       ┆ 674        │\n",
            "│           ┆ Search    ┆            ┆           ┆   ┆ Opened     ┆           ┆         ┆            │\n",
            "│ Landing   ┆ Direct    ┆ No         ┆ No        ┆ … ┆ Email      ┆ 660727    ┆ 1       ┆ 1532       │\n",
            "│ Page Subm ┆ Traffic   ┆            ┆           ┆   ┆ Opened     ┆           ┆         ┆            │\n",
            "│ ission    ┆           ┆            ┆           ┆   ┆            ┆           ┆         ┆            │\n",
            "│ Landing   ┆ Direct    ┆ No         ┆ No        ┆ … ┆ Modified   ┆ 660719    ┆ 0       ┆ 305        │\n",
            "│ Page Subm ┆ Traffic   ┆            ┆           ┆   ┆            ┆           ┆         ┆            │\n",
            "│ ission    ┆           ┆            ┆           ┆   ┆            ┆           ┆         ┆            │\n",
            "│ …         ┆ …         ┆ …          ┆ …         ┆ … ┆ …          ┆ …         ┆ …       ┆ …          │\n",
            "│ Landing   ┆ Direct    ┆ No         ┆ No        ┆ … ┆ SMS Sent   ┆ 579546    ┆ 0       ┆ 238        │\n",
            "│ Page Subm ┆ Traffic   ┆            ┆           ┆   ┆            ┆           ┆         ┆            │\n",
            "│ ission    ┆           ┆            ┆           ┆   ┆            ┆           ┆         ┆            │\n",
            "│ Landing   ┆ Direct    ┆ Yes        ┆ No        ┆ … ┆ SMS Sent   ┆ 579545    ┆ 0       ┆ 199        │\n",
            "│ Page Subm ┆ Traffic   ┆            ┆           ┆   ┆            ┆           ┆         ┆            │\n",
            "│ ission    ┆           ┆            ┆           ┆   ┆            ┆           ┆         ┆            │\n",
            "│ Landing   ┆ Google    ┆ No         ┆ No        ┆ … ┆ SMS Sent   ┆ 579538    ┆ 1       ┆ 499        │\n",
            "│ Page Subm ┆           ┆            ┆           ┆   ┆            ┆           ┆         ┆            │\n",
            "│ ission    ┆           ┆            ┆           ┆   ┆            ┆           ┆         ┆            │\n",
            "│ Landing   ┆ Direct    ┆ No         ┆ No        ┆ … ┆ Modified   ┆ 579533    ┆ 1       ┆ 1279       │\n",
            "│ Page Subm ┆ Traffic   ┆            ┆           ┆   ┆            ┆           ┆         ┆            │\n",
            "│ ission    ┆           ┆            ┆           ┆   ┆            ┆           ┆         ┆            │\n",
            "└───────────┴───────────┴────────────┴───────────┴───┴────────────┴───────────┴─────────┴────────────┘\n"
          ]
        }
      ]
    },
    {
      "cell_type": "code",
      "source": [
        "df_orig.describe()"
      ],
      "metadata": {
        "id": "Ugv2HRa7UWnA",
        "outputId": "9d6f0c15-f9dd-446f-d326-54e2fa90f2c8",
        "colab": {
          "base_uri": "https://localhost:8080/",
          "height": 452
        }
      },
      "execution_count": 55,
      "outputs": [
        {
          "output_type": "execute_result",
          "data": {
            "text/plain": [
              "shape: (9, 37)\n",
              "┌──────┬───────────┬───────────┬───────────┬───┬────────────┬────────────┬────────────┬────────────┐\n",
              "│ desc ┆ lead_numb ┆ lead_orig ┆ lead_sour ┆ … ┆ asymmetriq ┆ i_agree_to ┆ a_free_cop ┆ last_notab │\n",
              "│ ribe ┆ er        ┆ in        ┆ ce        ┆   ┆ ue_profile ┆ _pay_the_a ┆ y_of_maste ┆ le_activit │\n",
              "│ ---  ┆ ---       ┆ ---       ┆ ---       ┆   ┆ _score     ┆ mount_thro ┆ ring_the_i ┆ y          │\n",
              "│ str  ┆ f64       ┆ str       ┆ str       ┆   ┆ ---        ┆ ug…        ┆ nt…        ┆ ---        │\n",
              "│      ┆           ┆           ┆           ┆   ┆ f64        ┆ ---        ┆ ---        ┆ str        │\n",
              "│      ┆           ┆           ┆           ┆   ┆            ┆ str        ┆ str        ┆            │\n",
              "╞══════╪═══════════╪═══════════╪═══════════╪═══╪════════════╪════════════╪════════════╪════════════╡\n",
              "│ coun ┆ 9240.0    ┆ 9240      ┆ 9240      ┆ … ┆ 9240.0     ┆ 9240       ┆ 9240       ┆ 9240       │\n",
              "│ t    ┆           ┆           ┆           ┆   ┆            ┆            ┆            ┆            │\n",
              "│ null ┆ 0.0       ┆ 0         ┆ 36        ┆ … ┆ 4218.0     ┆ 0          ┆ 0          ┆ 0          │\n",
              "│ _cou ┆           ┆           ┆           ┆   ┆            ┆            ┆            ┆            │\n",
              "│ nt   ┆           ┆           ┆           ┆   ┆            ┆            ┆            ┆            │\n",
              "│ mean ┆ 617188.43 ┆ null      ┆ null      ┆ … ┆ 16.344883  ┆ null       ┆ null       ┆ null       │\n",
              "│      ┆ 5606      ┆           ┆           ┆   ┆            ┆            ┆            ┆            │\n",
              "│ std  ┆ 23405.995 ┆ null      ┆ null      ┆ … ┆ 1.811395   ┆ null       ┆ null       ┆ null       │\n",
              "│      ┆ 698       ┆           ┆           ┆   ┆            ┆            ┆            ┆            │\n",
              "│ min  ┆ 579533.0  ┆ API       ┆ Click2cal ┆ … ┆ 11.0       ┆ No         ┆ No         ┆ Approached │\n",
              "│      ┆           ┆           ┆ l         ┆   ┆            ┆            ┆            ┆ upfront    │\n",
              "│ max  ┆ 660737.0  ┆ Quick Add ┆ youtubech ┆ … ┆ 20.0       ┆ No         ┆ Yes        ┆ View in    │\n",
              "│      ┆           ┆ Form      ┆ annel     ┆   ┆            ┆            ┆            ┆ browser    │\n",
              "│      ┆           ┆           ┆           ┆   ┆            ┆            ┆            ┆ link       │\n",
              "│      ┆           ┆           ┆           ┆   ┆            ┆            ┆            ┆ Clicked    │\n",
              "│ medi ┆ 615479.0  ┆ null      ┆ null      ┆ … ┆ 16.0       ┆ null       ┆ null       ┆ null       │\n",
              "│ an   ┆           ┆           ┆           ┆   ┆            ┆            ┆            ┆            │\n",
              "│ 25%  ┆ 596485.0  ┆ null      ┆ null      ┆ … ┆ 15.0       ┆ null       ┆ null       ┆ null       │\n",
              "│ 75%  ┆ 637388.0  ┆ null      ┆ null      ┆ … ┆ 18.0       ┆ null       ┆ null       ┆ null       │\n",
              "└──────┴───────────┴───────────┴───────────┴───┴────────────┴────────────┴────────────┴────────────┘"
            ],
            "text/html": [
              "<div><style>\n",
              ".dataframe > thead > tr > th,\n",
              ".dataframe > tbody > tr > td {\n",
              "  text-align: right;\n",
              "}\n",
              "</style>\n",
              "<small>shape: (9, 37)</small><table border=\"1\" class=\"dataframe\"><thead><tr><th>describe</th><th>lead_number</th><th>lead_origin</th><th>lead_source</th><th>do_not_email</th><th>do_not_call</th><th>converted</th><th>totalvisits</th><th>total_time_spent_on_website</th><th>page_views_per_visit</th><th>last_activity</th><th>country</th><th>specialization</th><th>how_did_you_hear_about_x_education</th><th>what_is_your_current_occupation</th><th>what_matters_most_to_you_in_choosing_a_course</th><th>search</th><th>magazine</th><th>newspaper_article</th><th>x_education_forums</th><th>newspaper</th><th>digital_advertisement</th><th>through_recommendations</th><th>receive_more_updates_about_our_courses</th><th>tags</th><th>lead_quality</th><th>update_me_on_supply_chain_content</th><th>get_updates_on_dm_content</th><th>lead_profile</th><th>city</th><th>asymmetrique_activity_index</th><th>asymmetrique_profile_index</th><th>asymmetrique_activity_score</th><th>asymmetrique_profile_score</th><th>i_agree_to_pay_the_amount_through_cheque</th><th>a_free_copy_of_mastering_the_interview</th><th>last_notable_activity</th></tr><tr><td>str</td><td>f64</td><td>str</td><td>str</td><td>str</td><td>str</td><td>f64</td><td>f64</td><td>f64</td><td>f64</td><td>str</td><td>str</td><td>str</td><td>str</td><td>str</td><td>str</td><td>str</td><td>str</td><td>str</td><td>str</td><td>str</td><td>str</td><td>str</td><td>str</td><td>str</td><td>str</td><td>str</td><td>str</td><td>str</td><td>str</td><td>str</td><td>str</td><td>f64</td><td>f64</td><td>str</td><td>str</td><td>str</td></tr></thead><tbody><tr><td>&quot;count&quot;</td><td>9240.0</td><td>&quot;9240&quot;</td><td>&quot;9240&quot;</td><td>&quot;9240&quot;</td><td>&quot;9240&quot;</td><td>9240.0</td><td>9240.0</td><td>9240.0</td><td>9240.0</td><td>&quot;9240&quot;</td><td>&quot;9240&quot;</td><td>&quot;9240&quot;</td><td>&quot;9240&quot;</td><td>&quot;9240&quot;</td><td>&quot;9240&quot;</td><td>&quot;9240&quot;</td><td>&quot;9240&quot;</td><td>&quot;9240&quot;</td><td>&quot;9240&quot;</td><td>&quot;9240&quot;</td><td>&quot;9240&quot;</td><td>&quot;9240&quot;</td><td>&quot;9240&quot;</td><td>&quot;9240&quot;</td><td>&quot;9240&quot;</td><td>&quot;9240&quot;</td><td>&quot;9240&quot;</td><td>&quot;9240&quot;</td><td>&quot;9240&quot;</td><td>&quot;9240&quot;</td><td>&quot;9240&quot;</td><td>9240.0</td><td>9240.0</td><td>&quot;9240&quot;</td><td>&quot;9240&quot;</td><td>&quot;9240&quot;</td></tr><tr><td>&quot;null_count&quot;</td><td>0.0</td><td>&quot;0&quot;</td><td>&quot;36&quot;</td><td>&quot;0&quot;</td><td>&quot;0&quot;</td><td>0.0</td><td>137.0</td><td>0.0</td><td>137.0</td><td>&quot;103&quot;</td><td>&quot;0&quot;</td><td>&quot;0&quot;</td><td>&quot;7250&quot;</td><td>&quot;0&quot;</td><td>&quot;2709&quot;</td><td>&quot;0&quot;</td><td>&quot;0&quot;</td><td>&quot;0&quot;</td><td>&quot;0&quot;</td><td>&quot;0&quot;</td><td>&quot;0&quot;</td><td>&quot;0&quot;</td><td>&quot;0&quot;</td><td>&quot;0&quot;</td><td>&quot;0&quot;</td><td>&quot;0&quot;</td><td>&quot;0&quot;</td><td>&quot;6855&quot;</td><td>&quot;3669&quot;</td><td>&quot;4218&quot;</td><td>&quot;4218&quot;</td><td>4218.0</td><td>4218.0</td><td>&quot;0&quot;</td><td>&quot;0&quot;</td><td>&quot;0&quot;</td></tr><tr><td>&quot;mean&quot;</td><td>617188.435606</td><td>null</td><td>null</td><td>null</td><td>null</td><td>0.38539</td><td>3.445238</td><td>487.698268</td><td>2.36282</td><td>null</td><td>null</td><td>null</td><td>null</td><td>null</td><td>null</td><td>null</td><td>null</td><td>null</td><td>null</td><td>null</td><td>null</td><td>null</td><td>null</td><td>null</td><td>null</td><td>null</td><td>null</td><td>null</td><td>null</td><td>null</td><td>null</td><td>14.306252</td><td>16.344883</td><td>null</td><td>null</td><td>null</td></tr><tr><td>&quot;std&quot;</td><td>23405.995698</td><td>null</td><td>null</td><td>null</td><td>null</td><td>0.486714</td><td>4.854853</td><td>548.021466</td><td>2.161418</td><td>null</td><td>null</td><td>null</td><td>null</td><td>null</td><td>null</td><td>null</td><td>null</td><td>null</td><td>null</td><td>null</td><td>null</td><td>null</td><td>null</td><td>null</td><td>null</td><td>null</td><td>null</td><td>null</td><td>null</td><td>null</td><td>null</td><td>1.386694</td><td>1.811395</td><td>null</td><td>null</td><td>null</td></tr><tr><td>&quot;min&quot;</td><td>579533.0</td><td>&quot;API&quot;</td><td>&quot;Click2call&quot;</td><td>&quot;No&quot;</td><td>&quot;No&quot;</td><td>0.0</td><td>0.0</td><td>0.0</td><td>0.0</td><td>&quot;Approached upf…</td><td>&quot;Asia/Pacific R…</td><td>&quot;Banking, Inves…</td><td>&quot;Advertisements…</td><td>&quot;Businessman&quot;</td><td>&quot;Better Career …</td><td>&quot;No&quot;</td><td>&quot;No&quot;</td><td>&quot;No&quot;</td><td>&quot;No&quot;</td><td>&quot;No&quot;</td><td>&quot;No&quot;</td><td>&quot;No&quot;</td><td>&quot;No&quot;</td><td>&quot;Already a stud…</td><td>&quot;High in Releva…</td><td>&quot;No&quot;</td><td>&quot;No&quot;</td><td>&quot;Dual Specializ…</td><td>&quot;Mumbai&quot;</td><td>&quot;01.High&quot;</td><td>&quot;01.High&quot;</td><td>7.0</td><td>11.0</td><td>&quot;No&quot;</td><td>&quot;No&quot;</td><td>&quot;Approached upf…</td></tr><tr><td>&quot;max&quot;</td><td>660737.0</td><td>&quot;Quick Add Form…</td><td>&quot;youtubechannel…</td><td>&quot;Yes&quot;</td><td>&quot;Yes&quot;</td><td>1.0</td><td>251.0</td><td>2272.0</td><td>55.0</td><td>&quot;Visited Booth …</td><td>&quot;unknown&quot;</td><td>&quot;Travel and Tou…</td><td>&quot;Word Of Mouth&quot;</td><td>&quot;Working Profes…</td><td>&quot;Other&quot;</td><td>&quot;Yes&quot;</td><td>&quot;No&quot;</td><td>&quot;Yes&quot;</td><td>&quot;Yes&quot;</td><td>&quot;Yes&quot;</td><td>&quot;Yes&quot;</td><td>&quot;Yes&quot;</td><td>&quot;No&quot;</td><td>&quot;wrong number g…</td><td>&quot;Worst&quot;</td><td>&quot;No&quot;</td><td>&quot;No&quot;</td><td>&quot;Student of Som…</td><td>&quot;Tier II Cities…</td><td>&quot;03.Low&quot;</td><td>&quot;03.Low&quot;</td><td>18.0</td><td>20.0</td><td>&quot;No&quot;</td><td>&quot;Yes&quot;</td><td>&quot;View in browse…</td></tr><tr><td>&quot;median&quot;</td><td>615479.0</td><td>null</td><td>null</td><td>null</td><td>null</td><td>0.0</td><td>3.0</td><td>248.0</td><td>2.0</td><td>null</td><td>null</td><td>null</td><td>null</td><td>null</td><td>null</td><td>null</td><td>null</td><td>null</td><td>null</td><td>null</td><td>null</td><td>null</td><td>null</td><td>null</td><td>null</td><td>null</td><td>null</td><td>null</td><td>null</td><td>null</td><td>null</td><td>14.0</td><td>16.0</td><td>null</td><td>null</td><td>null</td></tr><tr><td>&quot;25%&quot;</td><td>596485.0</td><td>null</td><td>null</td><td>null</td><td>null</td><td>0.0</td><td>1.0</td><td>12.0</td><td>1.0</td><td>null</td><td>null</td><td>null</td><td>null</td><td>null</td><td>null</td><td>null</td><td>null</td><td>null</td><td>null</td><td>null</td><td>null</td><td>null</td><td>null</td><td>null</td><td>null</td><td>null</td><td>null</td><td>null</td><td>null</td><td>null</td><td>null</td><td>14.0</td><td>15.0</td><td>null</td><td>null</td><td>null</td></tr><tr><td>&quot;75%&quot;</td><td>637388.0</td><td>null</td><td>null</td><td>null</td><td>null</td><td>1.0</td><td>5.0</td><td>936.0</td><td>3.0</td><td>null</td><td>null</td><td>null</td><td>null</td><td>null</td><td>null</td><td>null</td><td>null</td><td>null</td><td>null</td><td>null</td><td>null</td><td>null</td><td>null</td><td>null</td><td>null</td><td>null</td><td>null</td><td>null</td><td>null</td><td>null</td><td>null</td><td>15.0</td><td>18.0</td><td>null</td><td>null</td><td>null</td></tr></tbody></table></div>"
            ]
          },
          "metadata": {},
          "execution_count": 55
        }
      ]
    },
    {
      "cell_type": "code",
      "source": [
        "df_cat = df_orig.select([pl.col(pl.Utf8)])"
      ],
      "metadata": {
        "id": "HGuNRRY3Tykm"
      },
      "execution_count": 50,
      "outputs": []
    },
    {
      "cell_type": "code",
      "source": [
        "from sklearn.preprocessing import OrdinalEncoder\n",
        "\n",
        "cat_enc = OrdinalEncoder()\n",
        "cat_enc.fit(df_cat)\n"
      ],
      "metadata": {
        "id": "WCvXL_1uPw5Z",
        "outputId": "e8bdc4ee-c4d0-4d11-b272-2f76c64ceabc",
        "colab": {
          "base_uri": "https://localhost:8080/",
          "height": 75
        }
      },
      "execution_count": 51,
      "outputs": [
        {
          "output_type": "execute_result",
          "data": {
            "text/plain": [
              "OrdinalEncoder()"
            ],
            "text/html": [
              "<style>#sk-container-id-2 {color: black;background-color: white;}#sk-container-id-2 pre{padding: 0;}#sk-container-id-2 div.sk-toggleable {background-color: white;}#sk-container-id-2 label.sk-toggleable__label {cursor: pointer;display: block;width: 100%;margin-bottom: 0;padding: 0.3em;box-sizing: border-box;text-align: center;}#sk-container-id-2 label.sk-toggleable__label-arrow:before {content: \"▸\";float: left;margin-right: 0.25em;color: #696969;}#sk-container-id-2 label.sk-toggleable__label-arrow:hover:before {color: black;}#sk-container-id-2 div.sk-estimator:hover label.sk-toggleable__label-arrow:before {color: black;}#sk-container-id-2 div.sk-toggleable__content {max-height: 0;max-width: 0;overflow: hidden;text-align: left;background-color: #f0f8ff;}#sk-container-id-2 div.sk-toggleable__content pre {margin: 0.2em;color: black;border-radius: 0.25em;background-color: #f0f8ff;}#sk-container-id-2 input.sk-toggleable__control:checked~div.sk-toggleable__content {max-height: 200px;max-width: 100%;overflow: auto;}#sk-container-id-2 input.sk-toggleable__control:checked~label.sk-toggleable__label-arrow:before {content: \"▾\";}#sk-container-id-2 div.sk-estimator input.sk-toggleable__control:checked~label.sk-toggleable__label {background-color: #d4ebff;}#sk-container-id-2 div.sk-label input.sk-toggleable__control:checked~label.sk-toggleable__label {background-color: #d4ebff;}#sk-container-id-2 input.sk-hidden--visually {border: 0;clip: rect(1px 1px 1px 1px);clip: rect(1px, 1px, 1px, 1px);height: 1px;margin: -1px;overflow: hidden;padding: 0;position: absolute;width: 1px;}#sk-container-id-2 div.sk-estimator {font-family: monospace;background-color: #f0f8ff;border: 1px dotted black;border-radius: 0.25em;box-sizing: border-box;margin-bottom: 0.5em;}#sk-container-id-2 div.sk-estimator:hover {background-color: #d4ebff;}#sk-container-id-2 div.sk-parallel-item::after {content: \"\";width: 100%;border-bottom: 1px solid gray;flex-grow: 1;}#sk-container-id-2 div.sk-label:hover label.sk-toggleable__label {background-color: #d4ebff;}#sk-container-id-2 div.sk-serial::before {content: \"\";position: absolute;border-left: 1px solid gray;box-sizing: border-box;top: 0;bottom: 0;left: 50%;z-index: 0;}#sk-container-id-2 div.sk-serial {display: flex;flex-direction: column;align-items: center;background-color: white;padding-right: 0.2em;padding-left: 0.2em;position: relative;}#sk-container-id-2 div.sk-item {position: relative;z-index: 1;}#sk-container-id-2 div.sk-parallel {display: flex;align-items: stretch;justify-content: center;background-color: white;position: relative;}#sk-container-id-2 div.sk-item::before, #sk-container-id-2 div.sk-parallel-item::before {content: \"\";position: absolute;border-left: 1px solid gray;box-sizing: border-box;top: 0;bottom: 0;left: 50%;z-index: -1;}#sk-container-id-2 div.sk-parallel-item {display: flex;flex-direction: column;z-index: 1;position: relative;background-color: white;}#sk-container-id-2 div.sk-parallel-item:first-child::after {align-self: flex-end;width: 50%;}#sk-container-id-2 div.sk-parallel-item:last-child::after {align-self: flex-start;width: 50%;}#sk-container-id-2 div.sk-parallel-item:only-child::after {width: 0;}#sk-container-id-2 div.sk-dashed-wrapped {border: 1px dashed gray;margin: 0 0.4em 0.5em 0.4em;box-sizing: border-box;padding-bottom: 0.4em;background-color: white;}#sk-container-id-2 div.sk-label label {font-family: monospace;font-weight: bold;display: inline-block;line-height: 1.2em;}#sk-container-id-2 div.sk-label-container {text-align: center;}#sk-container-id-2 div.sk-container {/* jupyter's `normalize.less` sets `[hidden] { display: none; }` but bootstrap.min.css set `[hidden] { display: none !important; }` so we also need the `!important` here to be able to override the default hidden behavior on the sphinx rendered scikit-learn.org. See: https://github.com/scikit-learn/scikit-learn/issues/21755 */display: inline-block !important;position: relative;}#sk-container-id-2 div.sk-text-repr-fallback {display: none;}</style><div id=\"sk-container-id-2\" class=\"sk-top-container\"><div class=\"sk-text-repr-fallback\"><pre>OrdinalEncoder()</pre><b>In a Jupyter environment, please rerun this cell to show the HTML representation or trust the notebook. <br />On GitHub, the HTML representation is unable to render, please try loading this page with nbviewer.org.</b></div><div class=\"sk-container\" hidden><div class=\"sk-item\"><div class=\"sk-estimator sk-toggleable\"><input class=\"sk-toggleable__control sk-hidden--visually\" id=\"sk-estimator-id-2\" type=\"checkbox\" checked><label for=\"sk-estimator-id-2\" class=\"sk-toggleable__label sk-toggleable__label-arrow\">OrdinalEncoder</label><div class=\"sk-toggleable__content\"><pre>OrdinalEncoder()</pre></div></div></div></div></div>"
            ]
          },
          "metadata": {},
          "execution_count": 51
        }
      ]
    },
    {
      "cell_type": "code",
      "source": [
        "cat_enc.categories_"
      ],
      "metadata": {
        "id": "kRjXipoUUIpj",
        "outputId": "ad7c05b9-5db5-460b-ed5d-73464f1d616d",
        "colab": {
          "base_uri": "https://localhost:8080/"
        }
      },
      "execution_count": 54,
      "outputs": [
        {
          "output_type": "execute_result",
          "data": {
            "text/plain": [
              "[array(['API', 'Landing Page Submission', 'Lead Add Form', 'Lead Import',\n",
              "        'Quick Add Form'], dtype=object),\n",
              " array(['Click2call', 'Direct Traffic', 'Facebook', 'Google', 'Live Chat',\n",
              "        'NC_EDM', 'Olark Chat', 'Organic Search', 'Pay per Click Ads',\n",
              "        'Press_Release', 'Reference', 'Referral Sites', 'Social Media',\n",
              "        'WeLearn', 'Welingak Website', 'bing', 'blog', 'google', 'testone',\n",
              "        'welearnblog_Home', 'youtubechannel', None], dtype=object),\n",
              " array(['No', 'Yes'], dtype=object),\n",
              " array(['No', 'Yes'], dtype=object),\n",
              " array(['Approached upfront', 'Converted to Lead', 'Email Bounced',\n",
              "        'Email Link Clicked', 'Email Marked Spam', 'Email Opened',\n",
              "        'Email Received', 'Form Submitted on Website',\n",
              "        'Had a Phone Conversation', 'Olark Chat Conversation',\n",
              "        'Page Visited on Website', 'Resubscribed to emails', 'SMS Sent',\n",
              "        'Unreachable', 'Unsubscribed', 'View in browser link Clicked',\n",
              "        'Visited Booth in Tradeshow', None], dtype=object),\n",
              " array(['Asia/Pacific Region', 'Australia', 'Bahrain', 'Bangladesh',\n",
              "        'Belgium', 'Canada', 'China', 'Denmark', 'France', 'Germany',\n",
              "        'Ghana', 'Hong Kong', 'India', 'Indonesia', 'Italy', 'Kenya',\n",
              "        'Kuwait', 'Liberia', 'Malaysia', 'Netherlands', 'Nigeria', 'Oman',\n",
              "        'Philippines', 'Qatar', 'Russia', 'Saudi Arabia', 'Singapore',\n",
              "        'South Africa', 'Sri Lanka', 'Sweden', 'Switzerland', 'Tanzania',\n",
              "        'Uganda', 'United Arab Emirates', 'United Kingdom',\n",
              "        'United States', 'Vietnam', 'unknown'], dtype=object),\n",
              " array(['Banking, Investment And Insurance', 'Business Administration',\n",
              "        'E-Business', 'E-COMMERCE', 'Finance Management',\n",
              "        'Healthcare Management', 'Hospitality Management',\n",
              "        'Human Resource Management', 'IT Projects Management',\n",
              "        'International Business', 'Marketing Management',\n",
              "        'Media and Advertising', 'Operations Management', 'Others',\n",
              "        'Retail Management', 'Rural and Agribusiness',\n",
              "        'Services Excellence', 'Supply Chain Management',\n",
              "        'Travel and Tourism'], dtype=object),\n",
              " array(['Advertisements', 'Email', 'Multiple Sources', 'Online Search',\n",
              "        'Other', 'SMS', 'Social Media', 'Student of SomeSchool',\n",
              "        'Word Of Mouth', None], dtype=object),\n",
              " array(['Businessman', 'Housewife', 'Other', 'Student', 'Unemployed',\n",
              "        'Working Professional'], dtype=object),\n",
              " array(['Better Career Prospects', 'Flexibility & Convenience', 'Other',\n",
              "        None], dtype=object),\n",
              " array(['No', 'Yes'], dtype=object),\n",
              " array(['No'], dtype=object),\n",
              " array(['No', 'Yes'], dtype=object),\n",
              " array(['No', 'Yes'], dtype=object),\n",
              " array(['No', 'Yes'], dtype=object),\n",
              " array(['No', 'Yes'], dtype=object),\n",
              " array(['No', 'Yes'], dtype=object),\n",
              " array(['No'], dtype=object),\n",
              " array(['Already a student', 'Busy', 'Closed by Horizzon',\n",
              "        'Diploma holder (Not Eligible)', 'Graduation in progress',\n",
              "        'In confusion whether part time or DLP',\n",
              "        'Interested  in full time MBA', 'Interested in Next batch',\n",
              "        'Interested in other courses', 'Lateral student', 'Lost to EINS',\n",
              "        'Lost to Others', 'Not doing further education',\n",
              "        'Recognition issue (DEC approval)', 'Ringing',\n",
              "        'Shall take in the next coming month', 'Still Thinking',\n",
              "        'University not recognized',\n",
              "        'Want to take admission but has financial problems',\n",
              "        'Will revert after reading the email', 'in touch with EINS',\n",
              "        'invalid number', 'number not provided', 'opp hangup',\n",
              "        'switched off', 'wrong number given'], dtype=object),\n",
              " array(['High in Relevance', 'Low in Relevance', 'Might be', 'Not Sure',\n",
              "        'Worst'], dtype=object),\n",
              " array(['No'], dtype=object),\n",
              " array(['No'], dtype=object),\n",
              " array(['Dual Specialization Student', 'Lateral Student', 'Other Leads',\n",
              "        'Potential Lead', 'Student of SomeSchool', None], dtype=object),\n",
              " array(['Mumbai', 'Other Cities', 'Other Cities of Maharashtra',\n",
              "        'Other Metro Cities', 'Thane & Outskirts', 'Tier II Cities', None],\n",
              "       dtype=object),\n",
              " array(['01.High', '02.Medium', '03.Low', None], dtype=object),\n",
              " array(['01.High', '02.Medium', '03.Low', None], dtype=object),\n",
              " array(['No'], dtype=object),\n",
              " array(['No', 'Yes'], dtype=object),\n",
              " array(['Approached upfront', 'Email Bounced', 'Email Link Clicked',\n",
              "        'Email Marked Spam', 'Email Opened', 'Email Received',\n",
              "        'Form Submitted on Website', 'Had a Phone Conversation',\n",
              "        'Modified', 'Olark Chat Conversation', 'Page Visited on Website',\n",
              "        'Resubscribed to emails', 'SMS Sent', 'Unreachable',\n",
              "        'Unsubscribed', 'View in browser link Clicked'], dtype=object)]"
            ]
          },
          "metadata": {},
          "execution_count": 54
        }
      ]
    },
    {
      "cell_type": "markdown",
      "source": [
        "# New section"
      ],
      "metadata": {
        "id": "-F6OSHq90l5N"
      }
    }
  ]
}